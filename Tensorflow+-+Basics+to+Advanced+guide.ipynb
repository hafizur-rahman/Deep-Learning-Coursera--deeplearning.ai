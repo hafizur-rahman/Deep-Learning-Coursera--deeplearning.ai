{
 "cells": [
  {
   "cell_type": "markdown",
   "metadata": {
    "collapsed": true
   },
   "source": [
    "##   TensorFlow essentials"
   ]
  },
  {
   "cell_type": "code",
   "execution_count": 5,
   "metadata": {
    "collapsed": true
   },
   "outputs": [],
   "source": [
    "## Inner product of 2 vectors without any library"
   ]
  },
  {
   "cell_type": "code",
   "execution_count": 6,
   "metadata": {
    "collapsed": true
   },
   "outputs": [],
   "source": [
    "prices= [1,2]"
   ]
  },
  {
   "cell_type": "code",
   "execution_count": 7,
   "metadata": {
    "collapsed": true
   },
   "outputs": [],
   "source": [
    "amounts=[10.0,20.0]"
   ]
  },
  {
   "cell_type": "code",
   "execution_count": 8,
   "metadata": {
    "collapsed": true
   },
   "outputs": [],
   "source": [
    "revenue=0\n",
    "for price, amount in zip(prices,amounts):\n",
    "    revenue+=price*amount"
   ]
  },
  {
   "cell_type": "code",
   "execution_count": 9,
   "metadata": {},
   "outputs": [
    {
     "data": {
      "text/plain": [
       "50.0"
      ]
     },
     "execution_count": 9,
     "metadata": {},
     "output_type": "execute_result"
    }
   ],
   "source": [
    "revenue"
   ]
  },
  {
   "cell_type": "code",
   "execution_count": null,
   "metadata": {
    "collapsed": true
   },
   "outputs": [],
   "source": [
    "## Inner product of 2 vectors with numpy"
   ]
  },
  {
   "cell_type": "code",
   "execution_count": 10,
   "metadata": {
    "collapsed": true
   },
   "outputs": [],
   "source": [
    "import numpy as np"
   ]
  },
  {
   "cell_type": "code",
   "execution_count": 12,
   "metadata": {},
   "outputs": [
    {
     "data": {
      "text/plain": [
       "50.0"
      ]
     },
     "execution_count": 12,
     "metadata": {},
     "output_type": "execute_result"
    }
   ],
   "source": [
    "revenue= np.dot(prices,amounts)\n",
    "revenue"
   ]
  },
  {
   "cell_type": "code",
   "execution_count": 13,
   "metadata": {
    "collapsed": true
   },
   "outputs": [],
   "source": [
    "import tensorflow as tf"
   ]
  },
  {
   "cell_type": "markdown",
   "metadata": {},
   "source": [
    "##  Concept 1- Defining and Representing tensors\n",
    "\n",
    "#### A tensor is generalization of a matrix that specifies an element by an arbitary number of indices"
   ]
  },
  {
   "cell_type": "code",
   "execution_count": 17,
   "metadata": {},
   "outputs": [
    {
     "data": {
      "text/plain": [
       "[[[1, 2], [3, 4], [5, 6], [7, 8], [9, 10], [11, 23]]]"
      ]
     },
     "execution_count": 17,
     "metadata": {},
     "output_type": "execute_result"
    }
   ],
   "source": [
    "my_tensor=[[[1,2],[3,4],[5,6],[7,8],[9,10],[11,23]]]\n",
    "my_tensor\n",
    "# This tensor can be thought as multiple matrices stacked on top of each other. To specify an element, you need to indicate the \n",
    "#row and column as well as which matrix is being accessed. So this has a rank of 3"
   ]
  },
  {
   "cell_type": "markdown",
   "metadata": {},
   "source": [
    "### Different ways of representing tensors"
   ]
  },
  {
   "cell_type": "markdown",
   "metadata": {},
   "source": [
    "1. create a list and use tf.convert_to_tensor\n",
    "2. create an array and use the above\n",
    "3. use constant operator"
   ]
  },
  {
   "cell_type": "code",
   "execution_count": 19,
   "metadata": {
    "collapsed": true
   },
   "outputs": [],
   "source": [
    "import numpy as np"
   ]
  },
  {
   "cell_type": "code",
   "execution_count": 21,
   "metadata": {},
   "outputs": [
    {
     "data": {
      "text/plain": [
       "[[1.0, 2.0], [3.0, 4.0]]"
      ]
     },
     "execution_count": 21,
     "metadata": {},
     "output_type": "execute_result"
    }
   ],
   "source": [
    "m1= [[1.0,2.0],[3.0,4.0]]\n",
    "m1"
   ]
  },
  {
   "cell_type": "code",
   "execution_count": 26,
   "metadata": {},
   "outputs": [
    {
     "data": {
      "text/plain": [
       "list"
      ]
     },
     "execution_count": 26,
     "metadata": {},
     "output_type": "execute_result"
    }
   ],
   "source": [
    "type(m1)"
   ]
  },
  {
   "cell_type": "code",
   "execution_count": 23,
   "metadata": {},
   "outputs": [
    {
     "data": {
      "text/plain": [
       "array([[ 1.,  2.],\n",
       "       [ 3.,  4.]], dtype=float32)"
      ]
     },
     "execution_count": 23,
     "metadata": {},
     "output_type": "execute_result"
    }
   ],
   "source": [
    "m2=np.array([[1.0,2.0],[3.0,4.0]],dtype=np.float32)\n",
    "m2"
   ]
  },
  {
   "cell_type": "code",
   "execution_count": 27,
   "metadata": {},
   "outputs": [
    {
     "data": {
      "text/plain": [
       "numpy.ndarray"
      ]
     },
     "execution_count": 27,
     "metadata": {},
     "output_type": "execute_result"
    }
   ],
   "source": [
    "type(m2)"
   ]
  },
  {
   "cell_type": "code",
   "execution_count": 25,
   "metadata": {
    "scrolled": true
   },
   "outputs": [
    {
     "data": {
      "text/plain": [
       "<tf.Tensor 'Const_1:0' shape=(2, 2) dtype=float32>"
      ]
     },
     "execution_count": 25,
     "metadata": {},
     "output_type": "execute_result"
    }
   ],
   "source": [
    "m3= tf.constant([[1.0,2.0],[3.0,4.0]])\n",
    "m3\n"
   ]
  },
  {
   "cell_type": "code",
   "execution_count": 28,
   "metadata": {},
   "outputs": [
    {
     "data": {
      "text/plain": [
       "tensorflow.python.framework.ops.Tensor"
      ]
     },
     "execution_count": 28,
     "metadata": {},
     "output_type": "execute_result"
    }
   ],
   "source": [
    "type(m3)"
   ]
  },
  {
   "cell_type": "code",
   "execution_count": null,
   "metadata": {
    "collapsed": true
   },
   "outputs": [],
   "source": [
    "##convert m1, m2, m3 into tensors"
   ]
  },
  {
   "cell_type": "code",
   "execution_count": 29,
   "metadata": {
    "collapsed": true
   },
   "outputs": [],
   "source": [
    "t1=tf.convert_to_tensor(m1,dtype= np.float32)"
   ]
  },
  {
   "cell_type": "code",
   "execution_count": 30,
   "metadata": {},
   "outputs": [
    {
     "data": {
      "text/plain": [
       "tensorflow.python.framework.ops.Tensor"
      ]
     },
     "execution_count": 30,
     "metadata": {},
     "output_type": "execute_result"
    }
   ],
   "source": [
    "type(t1)"
   ]
  },
  {
   "cell_type": "code",
   "execution_count": 31,
   "metadata": {
    "collapsed": true
   },
   "outputs": [],
   "source": [
    "t2=tf.convert_to_tensor(m2,dtype= np.float32)"
   ]
  },
  {
   "cell_type": "code",
   "execution_count": 32,
   "metadata": {},
   "outputs": [
    {
     "data": {
      "text/plain": [
       "tensorflow.python.framework.ops.Tensor"
      ]
     },
     "execution_count": 32,
     "metadata": {},
     "output_type": "execute_result"
    }
   ],
   "source": [
    "type(t2)"
   ]
  },
  {
   "cell_type": "code",
   "execution_count": 33,
   "metadata": {
    "collapsed": true
   },
   "outputs": [],
   "source": [
    "t3=tf.convert_to_tensor(m3,dtype= np.float32)"
   ]
  },
  {
   "cell_type": "code",
   "execution_count": 34,
   "metadata": {},
   "outputs": [
    {
     "data": {
      "text/plain": [
       "tensorflow.python.framework.ops.Tensor"
      ]
     },
     "execution_count": 34,
     "metadata": {},
     "output_type": "execute_result"
    }
   ],
   "source": [
    "type(t3)"
   ]
  },
  {
   "cell_type": "code",
   "execution_count": 37,
   "metadata": {
    "collapsed": true
   },
   "outputs": [],
   "source": [
    "m4= tf.constant([[1.0,2.0,3.0],[4.0,5.0,6.0]])"
   ]
  },
  {
   "cell_type": "code",
   "execution_count": 38,
   "metadata": {},
   "outputs": [
    {
     "data": {
      "text/plain": [
       "tensorflow.python.framework.ops.Tensor"
      ]
     },
     "execution_count": 38,
     "metadata": {},
     "output_type": "execute_result"
    }
   ],
   "source": [
    "type(m4)"
   ]
  },
  {
   "cell_type": "code",
   "execution_count": 39,
   "metadata": {},
   "outputs": [
    {
     "data": {
      "text/plain": [
       "<tf.Tensor 'Const_5:0' shape=(2, 3) dtype=float32>"
      ]
     },
     "execution_count": 39,
     "metadata": {},
     "output_type": "execute_result"
    }
   ],
   "source": [
    "m4"
   ]
  },
  {
   "cell_type": "code",
   "execution_count": 45,
   "metadata": {
    "collapsed": true
   },
   "outputs": [],
   "source": [
    "m5= tf.constant([[[1.0,2.0,3.0],[4.0,5.0,6.0]],[[7,8,9],[10,11,12]]])"
   ]
  },
  {
   "cell_type": "code",
   "execution_count": 46,
   "metadata": {},
   "outputs": [
    {
     "data": {
      "text/plain": [
       "<tf.Tensor 'Const_7:0' shape=(2, 2, 3) dtype=float32>"
      ]
     },
     "execution_count": 46,
     "metadata": {},
     "output_type": "execute_result"
    }
   ],
   "source": [
    "m5"
   ]
  },
  {
   "cell_type": "markdown",
   "metadata": {},
   "source": [
    "#### Create useful tensors on the fly"
   ]
  },
  {
   "cell_type": "markdown",
   "metadata": {},
   "source": [
    "#####  zeroes"
   ]
  },
  {
   "cell_type": "code",
   "execution_count": 47,
   "metadata": {},
   "outputs": [
    {
     "data": {
      "text/plain": [
       "<tf.Tensor 'zeros:0' shape=(2, 3) dtype=float32>"
      ]
     },
     "execution_count": 47,
     "metadata": {},
     "output_type": "execute_result"
    }
   ],
   "source": [
    "tf.zeros((2,3))"
   ]
  },
  {
   "cell_type": "markdown",
   "metadata": {},
   "source": [
    "#### ones"
   ]
  },
  {
   "cell_type": "code",
   "execution_count": 48,
   "metadata": {},
   "outputs": [
    {
     "data": {
      "text/plain": [
       "<tf.Tensor 'ones:0' shape=(3, 4) dtype=float32>"
      ]
     },
     "execution_count": 48,
     "metadata": {},
     "output_type": "execute_result"
    }
   ],
   "source": [
    "tf.ones((3,4))"
   ]
  },
  {
   "cell_type": "code",
   "execution_count": null,
   "metadata": {
    "collapsed": true
   },
   "outputs": [],
   "source": [
    "### create a 500 by 500 tensor with all elements =0.5"
   ]
  },
  {
   "cell_type": "code",
   "execution_count": 50,
   "metadata": {},
   "outputs": [
    {
     "data": {
      "text/plain": [
       "<tf.Tensor 'mul_1:0' shape=(500, 500) dtype=float32>"
      ]
     },
     "execution_count": 50,
     "metadata": {},
     "output_type": "execute_result"
    }
   ],
   "source": [
    "tf.ones([500,500])*0.5"
   ]
  },
  {
   "cell_type": "markdown",
   "metadata": {},
   "source": [
    "##  Concept 2- Creating operators in tensor"
   ]
  },
  {
   "cell_type": "code",
   "execution_count": 51,
   "metadata": {
    "collapsed": true
   },
   "outputs": [],
   "source": [
    "x=tf.ones((3,4))"
   ]
  },
  {
   "cell_type": "code",
   "execution_count": 52,
   "metadata": {
    "collapsed": true
   },
   "outputs": [],
   "source": [
    "neg_x= tf.negative(x)"
   ]
  },
  {
   "cell_type": "code",
   "execution_count": 53,
   "metadata": {},
   "outputs": [
    {
     "data": {
      "text/plain": [
       "<tf.Tensor 'Neg:0' shape=(3, 4) dtype=float32>"
      ]
     },
     "execution_count": 53,
     "metadata": {},
     "output_type": "execute_result"
    }
   ],
   "source": [
    "neg_x"
   ]
  },
  {
   "cell_type": "markdown",
   "metadata": {},
   "source": [
    "#### Other useful operations are\n",
    "\n",
    "1. tf.add(x,y)\n",
    "2. tf.multiply(x,y)\n",
    "3. tf.pow(x,y)\n",
    "4. tf.exp(x)\n",
    "5. tf.sqrt(x)\n"
   ]
  },
  {
   "cell_type": "code",
   "execution_count": 54,
   "metadata": {
    "collapsed": true
   },
   "outputs": [],
   "source": [
    "### Use tensorflow operations and produce Gaussian distribution (normal distribution)\n",
    " #P(x)= 1/(sigmasqrt(2pi))e^(-(x-mu)^2/(2sigma^2)) "
   ]
  },
  {
   "cell_type": "code",
   "execution_count": 55,
   "metadata": {
    "collapsed": true
   },
   "outputs": [],
   "source": [
    "\n",
    "from math import pi\n"
   ]
  },
  {
   "cell_type": "code",
   "execution_count": 57,
   "metadata": {},
   "outputs": [
    {
     "data": {
      "text/plain": [
       "<tf.Tensor 'mul_7:0' shape=(3, 4) dtype=float32>"
      ]
     },
     "execution_count": 57,
     "metadata": {},
     "output_type": "execute_result"
    }
   ],
   "source": [
    "mean=0.0\n",
    "sigma=1.0\n",
    "\n",
    "tf.exp(tf.negative(tf.pow(x-mean,2)/(2*tf.pow(sigma,2))))*(1/sigma*tf.sqrt(2.0*pi))"
   ]
  },
  {
   "cell_type": "markdown",
   "metadata": {},
   "source": [
    "##  Concept 3- Executing operators with sessions\n",
    "\n",
    "To execute an operation and retreive its calculated value, TF requires a session. Only a registered session may fill in values for a tensor object. To do this, use tf.Session().\n",
    "\n"
   ]
  },
  {
   "cell_type": "code",
   "execution_count": 58,
   "metadata": {
    "collapsed": true
   },
   "outputs": [],
   "source": [
    "## Using a Session"
   ]
  },
  {
   "cell_type": "code",
   "execution_count": 59,
   "metadata": {
    "collapsed": true
   },
   "outputs": [],
   "source": [
    "import tensorflow as tf"
   ]
  },
  {
   "cell_type": "code",
   "execution_count": 60,
   "metadata": {
    "collapsed": true
   },
   "outputs": [],
   "source": [
    "x= tf.constant([[1,2],[3,4]])"
   ]
  },
  {
   "cell_type": "code",
   "execution_count": 61,
   "metadata": {
    "collapsed": true
   },
   "outputs": [],
   "source": [
    "neg_x= tf.negative(x)"
   ]
  },
  {
   "cell_type": "code",
   "execution_count": 62,
   "metadata": {
    "collapsed": true
   },
   "outputs": [],
   "source": [
    "with tf.Session() as sess:\n",
    "    result= sess.run(neg_x)"
   ]
  },
  {
   "cell_type": "code",
   "execution_count": 63,
   "metadata": {},
   "outputs": [
    {
     "data": {
      "text/plain": [
       "array([[-1, -2],\n",
       "       [-3, -4]], dtype=int32)"
      ]
     },
     "execution_count": 63,
     "metadata": {},
     "output_type": "execute_result"
    }
   ],
   "source": [
    "result"
   ]
  },
  {
   "cell_type": "markdown",
   "metadata": {},
   "source": [
    "Every tensor object has an eval method. However eval requires defining a session object for the library to understand how to best make use of hardware"
   ]
  },
  {
   "cell_type": "markdown",
   "metadata": {},
   "source": [
    "While running TF through an interactive environment, it's easier to create a session in interactive mode"
   ]
  },
  {
   "cell_type": "code",
   "execution_count": 65,
   "metadata": {
    "collapsed": true
   },
   "outputs": [],
   "source": [
    "import tensorflow as tf"
   ]
  },
  {
   "cell_type": "code",
   "execution_count": 67,
   "metadata": {
    "collapsed": true
   },
   "outputs": [],
   "source": [
    "sess= tf.InteractiveSession()"
   ]
  },
  {
   "cell_type": "code",
   "execution_count": 68,
   "metadata": {
    "collapsed": true
   },
   "outputs": [],
   "source": [
    "x= tf.constant([[1,2],[3,4]])"
   ]
  },
  {
   "cell_type": "code",
   "execution_count": 69,
   "metadata": {
    "collapsed": true
   },
   "outputs": [],
   "source": [
    "neg_x= tf.negative(x)"
   ]
  },
  {
   "cell_type": "code",
   "execution_count": 70,
   "metadata": {},
   "outputs": [
    {
     "data": {
      "text/plain": [
       "array([[-1, -2],\n",
       "       [-3, -4]], dtype=int32)"
      ]
     },
     "execution_count": 70,
     "metadata": {},
     "output_type": "execute_result"
    }
   ],
   "source": [
    "result= neg_x.eval()\n",
    "result"
   ]
  },
  {
   "cell_type": "markdown",
   "metadata": {},
   "source": [
    "## Concept 4- Understanding code as a graph"
   ]
  },
  {
   "cell_type": "markdown",
   "metadata": {},
   "source": [
    "Each arrow in the graph is a called the edge of the graph, every state of the graph is a node"
   ]
  },
  {
   "cell_type": "markdown",
   "metadata": {},
   "source": [
    "## Concept 5- Session configuration"
   ]
  },
  {
   "cell_type": "code",
   "execution_count": 73,
   "metadata": {},
   "outputs": [
    {
     "name": "stdout",
     "output_type": "stream",
     "text": [
      "[[-1 -2]\n",
      " [-3 -4]]\n"
     ]
    }
   ],
   "source": [
    "with tf.Session(config= tf.ConfigProto(log_device_placement=True)) as sess:\n",
    "    result= sess.run(neg_x)\n",
    "print(result)"
   ]
  },
  {
   "cell_type": "code",
   "execution_count": 74,
   "metadata": {
    "collapsed": true
   },
   "outputs": [],
   "source": [
    "## This outputs info about which CPU/GPU devices are used in the session for each operation. "
   ]
  },
  {
   "cell_type": "markdown",
   "metadata": {},
   "source": [
    "IMPORTANCE OF SESSIONS\n",
    "\n",
    "1. Run the math\n",
    "2. run graph operations, takes placeholders, variables and constants as inputs\n",
    "\n",
    "Placeholder- A value that is unassigned but initialized by the session where ever it is run\n",
    "Variable- A value that can change such as parameters of a machine learning model\n",
    "Constant- A value that does not change, such as hyper parameters or setting"
   ]
  },
  {
   "cell_type": "markdown",
   "metadata": {},
   "source": [
    "## Concept 6- Using Variables"
   ]
  },
  {
   "cell_type": "code",
   "execution_count": 98,
   "metadata": {
    "collapsed": true
   },
   "outputs": [],
   "source": [
    "import tensorflow as tf\n",
    "sess= tf.InteractiveSession()"
   ]
  },
  {
   "cell_type": "code",
   "execution_count": 99,
   "metadata": {
    "collapsed": true
   },
   "outputs": [],
   "source": [
    "data= [1.,2.,8.,-1.,0.,5.5,6.,15]"
   ]
  },
  {
   "cell_type": "code",
   "execution_count": 100,
   "metadata": {
    "collapsed": true
   },
   "outputs": [],
   "source": [
    "spike= tf.Variable(False)"
   ]
  },
  {
   "cell_type": "code",
   "execution_count": 101,
   "metadata": {
    "collapsed": true
   },
   "outputs": [],
   "source": [
    "spike.initializer.run()"
   ]
  },
  {
   "cell_type": "code",
   "execution_count": 102,
   "metadata": {
    "collapsed": true
   },
   "outputs": [],
   "source": [
    "saver= tf.train.Saver()"
   ]
  },
  {
   "cell_type": "code",
   "execution_count": 104,
   "metadata": {},
   "outputs": [
    {
     "name": "stdout",
     "output_type": "stream",
     "text": [
      "False\n",
      "True\n",
      "False\n",
      "False\n",
      "True\n",
      "False\n",
      "True\n"
     ]
    }
   ],
   "source": [
    "for i in range(1,len(data)):\n",
    "    if data[i]-data[i-1]>5:\n",
    "        updated_spike=tf.assign(spike,True)\n",
    "        updated_spike.eval()\n",
    "    else:\n",
    "        tf.assign(spike,False).eval()\n",
    "    print(spike.eval())\n",
    "#save_path= saver.save(sess,\"spikes.ckpt\")\n",
    "    \n",
    "sess.close()\n",
    "        "
   ]
  },
  {
   "cell_type": "markdown",
   "metadata": {},
   "source": [
    "## Concept 7- Writing summaries to view on Tensorboard"
   ]
  },
  {
   "cell_type": "code",
   "execution_count": 106,
   "metadata": {
    "collapsed": true
   },
   "outputs": [],
   "source": [
    "import tensorflow as tf\n",
    "import numpy as np"
   ]
  },
  {
   "cell_type": "code",
   "execution_count": 119,
   "metadata": {
    "collapsed": true
   },
   "outputs": [],
   "source": [
    "raw_data= np.random.normal(10,1,100)\n",
    "# mean 10, sd=1, 100 numbers"
   ]
  },
  {
   "cell_type": "code",
   "execution_count": 120,
   "metadata": {},
   "outputs": [
    {
     "data": {
      "text/plain": [
       "(100,)"
      ]
     },
     "execution_count": 120,
     "metadata": {},
     "output_type": "execute_result"
    }
   ],
   "source": [
    "raw_data.shape"
   ]
  },
  {
   "cell_type": "code",
   "execution_count": 122,
   "metadata": {
    "collapsed": true
   },
   "outputs": [],
   "source": [
    "alpha=tf.constant(0.05)"
   ]
  },
  {
   "cell_type": "code",
   "execution_count": 123,
   "metadata": {
    "collapsed": true
   },
   "outputs": [],
   "source": [
    "curr_value= tf.placeholder(tf.float32)"
   ]
  },
  {
   "cell_type": "code",
   "execution_count": 124,
   "metadata": {
    "collapsed": true
   },
   "outputs": [],
   "source": [
    "prev_avg= tf.Variable(0.)"
   ]
  },
  {
   "cell_type": "code",
   "execution_count": 127,
   "metadata": {
    "collapsed": true
   },
   "outputs": [],
   "source": [
    "updated_avg= alpha*curr_value +(1-alpha)* prev_avg"
   ]
  },
  {
   "cell_type": "code",
   "execution_count": 129,
   "metadata": {
    "collapsed": true
   },
   "outputs": [],
   "source": [
    "avg_hist= tf.summary.scalar(\"running_average\",updated_avg)\n",
    "value_hist= tf.summary.scalar(\"incoming_values\",curr_value)\n",
    "merged= tf.summary.merge_all()\n",
    "writer= tf.summary.FileWriter(\"./logs\")\n",
    "init= tf.global_variables_initializer()"
   ]
  },
  {
   "cell_type": "markdown",
   "metadata": {},
   "source": [
    "\n",
    " ## Linear Regression and beyond using Tensor flow       "
   ]
  },
  {
   "cell_type": "code",
   "execution_count": 138,
   "metadata": {
    "collapsed": true
   },
   "outputs": [],
   "source": [
    "# VISUALIZING RAW INPUT"
   ]
  },
  {
   "cell_type": "code",
   "execution_count": 154,
   "metadata": {
    "collapsed": true
   },
   "outputs": [],
   "source": [
    "import numpy as np\n",
    "import matplotlib.pyplot as plt\n",
    "%matplotlib inline"
   ]
  },
  {
   "cell_type": "code",
   "execution_count": 140,
   "metadata": {
    "collapsed": true
   },
   "outputs": [],
   "source": [
    "x_train= np.linspace(-1,1,100)"
   ]
  },
  {
   "cell_type": "code",
   "execution_count": 147,
   "metadata": {},
   "outputs": [
    {
     "data": {
      "text/plain": [
       "(100,)"
      ]
     },
     "execution_count": 147,
     "metadata": {},
     "output_type": "execute_result"
    }
   ],
   "source": [
    "x_train.shape"
   ]
  },
  {
   "cell_type": "code",
   "execution_count": 148,
   "metadata": {
    "collapsed": true
   },
   "outputs": [],
   "source": [
    "y_train= 2*x_train+ np.random.randn(*x_train.shape)*0.33"
   ]
  },
  {
   "cell_type": "code",
   "execution_count": 149,
   "metadata": {},
   "outputs": [
    {
     "data": {
      "text/plain": [
       "(100,)"
      ]
     },
     "execution_count": 149,
     "metadata": {},
     "output_type": "execute_result"
    }
   ],
   "source": [
    "y_train.shape"
   ]
  },
  {
   "cell_type": "code",
   "execution_count": 155,
   "metadata": {},
   "outputs": [
    {
     "data": {
      "text/plain": [
       "<matplotlib.collections.PathCollection at 0x118d94cf8>"
      ]
     },
     "execution_count": 155,
     "metadata": {},
     "output_type": "execute_result"
    },
    {
     "data": {
      "image/png": "[encoded data removed]",
      "text/plain": [
       "<matplotlib.figure.Figure at 0x118cc1b38>"
      ]
     },
     "metadata": {},
     "output_type": "display_data"
    }
   ],
   "source": [
    "plt.scatter(x_train,y_train)"
   ]
  },
  {
   "cell_type": "code",
   "execution_count": null,
   "metadata": {
    "collapsed": true
   },
   "outputs": [],
   "source": [
    "## Defining a cost function, asks TF to run an optimizer to find \n",
    "#optimal solution for model parameters"
   ]
  },
  {
   "cell_type": "code",
   "execution_count": 156,
   "metadata": {
    "collapsed": true
   },
   "outputs": [],
   "source": [
    "import tensorflow as tf\n",
    "import numpy as np\n",
    "import matplotlib.pyplot as plt\n",
    "%matplotlib inline"
   ]
  },
  {
   "cell_type": "code",
   "execution_count": 157,
   "metadata": {
    "collapsed": true
   },
   "outputs": [],
   "source": [
    "#hyperparameters\n",
    "learning_rate=0.01\n",
    "training_epochs=100"
   ]
  },
  {
   "cell_type": "code",
   "execution_count": 158,
   "metadata": {
    "collapsed": true
   },
   "outputs": [],
   "source": [
    "x_train= np.linspace(-1,1,100)\n",
    "y_train= 2*x_train+ np.random.randn(*x_train.shape)*0.33"
   ]
  },
  {
   "cell_type": "code",
   "execution_count": 159,
   "metadata": {
    "collapsed": true
   },
   "outputs": [],
   "source": [
    "# Set up input and output nodes as placeholders since values will be \n",
    "#injected by x_train and y_train\n",
    "X= tf.placeholder(\"float\")"
   ]
  },
  {
   "cell_type": "code",
   "execution_count": 160,
   "metadata": {
    "collapsed": true
   },
   "outputs": [],
   "source": [
    "Y= tf.placeholder(\"float\")"
   ]
  },
  {
   "cell_type": "code",
   "execution_count": 161,
   "metadata": {
    "collapsed": true
   },
   "outputs": [],
   "source": [
    "# define model y=w*x\n",
    "def model(X,w):\n",
    "    return tf.multiply(X,w)"
   ]
  },
  {
   "cell_type": "code",
   "execution_count": 162,
   "metadata": {
    "collapsed": true
   },
   "outputs": [],
   "source": [
    "# set up weights\n",
    "w= tf.Variable(0.0,name='weights')"
   ]
  },
  {
   "cell_type": "code",
   "execution_count": 163,
   "metadata": {
    "collapsed": true
   },
   "outputs": [],
   "source": [
    "# cost function\n",
    "y_model= model(X,w)\n",
    "cost= tf.square(Y-y_model)"
   ]
  },
  {
   "cell_type": "code",
   "execution_count": 165,
   "metadata": {
    "collapsed": true
   },
   "outputs": [],
   "source": [
    "#“Define the operation that will be called on each iteration of the learning algorithm”\n",
    "\n",
    "#Excerpt From: Nishant Shukla. “Machine Learning with TensorFlow MEAP V09.” iBooks. \n",
    "train_op= tf.train.GradientDescentOptimizer(learning_rate).minimize(cost)"
   ]
  },
  {
   "cell_type": "code",
   "execution_count": 166,
   "metadata": {
    "collapsed": true
   },
   "outputs": [],
   "source": [
    "sess= tf.Session()\n",
    "init= tf.global_variables_initializer()\n",
    "sess.run(init)"
   ]
  },
  {
   "cell_type": "code",
   "execution_count": 169,
   "metadata": {
    "collapsed": true
   },
   "outputs": [],
   "source": [
    "for epoch in range(training_epochs):\n",
    "    for (x,y) in zip(x_train,y_train):\n",
    "        sess.run(train_op,feed_dict={X:x,Y:y})\n",
    "w_val= sess.run(w)\n",
    "    "
   ]
  },
  {
   "cell_type": "code",
   "execution_count": 170,
   "metadata": {
    "collapsed": true
   },
   "outputs": [],
   "source": [
    "sess.close()"
   ]
  },
  {
   "cell_type": "code",
   "execution_count": 174,
   "metadata": {},
   "outputs": [
    {
     "data": {
      "text/plain": [
       "[<matplotlib.lines.Line2D at 0x1193264e0>]"
      ]
     },
     "execution_count": 174,
     "metadata": {},
     "output_type": "execute_result"
    },
    {
     "data": {
      "image/png": "[encoded data removed]",
      "text/plain": [
       "<matplotlib.figure.Figure at 0x119326518>"
      ]
     },
     "metadata": {},
     "output_type": "display_data"
    }
   ],
   "source": [
    "plt.scatter(x_train,y_train)\n",
    "y_learned= x_train*w_val\n",
    "plt.plot(x_train,y_learned,'r')"
   ]
  },
  {
   "cell_type": "markdown",
   "metadata": {},
   "source": [
    "# Second Example- Simple Linear Regression"
   ]
  },
  {
   "cell_type": "markdown",
   "metadata": {},
   "source": [
    "“Import TensorFlow for the learning algorithm. We'll need NumPy to set up the initial data. And we'll use matplotlib to visualize our data.\n",
    "❷   Define some constants used by the learning algorithm. There are called hyper-parameters.\n",
    "❸   Set up fake data that we will use to find a best fit line\n",
    "❹   Set up the input and output nodes as placeholders since the value will be injected by x_train and y_train.”\n",
    "“❺   Define the model as y = w*x\n",
    "❻   Set up the weights variable\n",
    "❼   Define the cost function\n",
    "❽   Define the operation that will be called on each iteration of the learning algorithm\n",
    "❾   Set up a session and initialize all variables\n",
    "❿   Loop through the dataset multiple times\n",
    "⓫   Loop through each item in the dataset\n",
    "⓬   Update the model parameter(s) to try to minimize the cost function\n",
    "⓭   Obtain the final parameter value\n",
    "⓮   Close the session\n",
    "⓯   Plot the original data\n",
    "⓰   Plot the best fit line”\n",
    "\n"
   ]
  },
  {
   "cell_type": "code",
   "execution_count": 176,
   "metadata": {
    "collapsed": true
   },
   "outputs": [],
   "source": [
    "import numpy as np\n",
    "import tensorflow as tf\n",
    "import matplotlib.pyplot as plt\n",
    "%matplotlib inline"
   ]
  },
  {
   "cell_type": "code",
   "execution_count": 177,
   "metadata": {
    "collapsed": true
   },
   "outputs": [],
   "source": [
    "x_train= np.linspace(-1,1,100)\n",
    "y_train= 2*x_train+ np.random.randn(*x_train.shape)*0.33"
   ]
  },
  {
   "cell_type": "code",
   "execution_count": 178,
   "metadata": {
    "collapsed": true
   },
   "outputs": [],
   "source": [
    "W= tf.Variable(tf.random_normal([1]),name='weights')"
   ]
  },
  {
   "cell_type": "code",
   "execution_count": 181,
   "metadata": {
    "collapsed": true
   },
   "outputs": [],
   "source": [
    "b= tf.Variable(tf.random_normal([1]),name='bias')"
   ]
  },
  {
   "cell_type": "code",
   "execution_count": 182,
   "metadata": {
    "collapsed": true
   },
   "outputs": [],
   "source": [
    "X= tf.placeholder(tf.float32, name ='InputX')"
   ]
  },
  {
   "cell_type": "code",
   "execution_count": 183,
   "metadata": {
    "collapsed": true
   },
   "outputs": [],
   "source": [
    "Y= tf.placeholder(tf.float32, name ='InputY')"
   ]
  },
  {
   "cell_type": "code",
   "execution_count": 184,
   "metadata": {
    "collapsed": true
   },
   "outputs": [],
   "source": [
    "y_pred= tf.add(tf.multiply(X,w),b)"
   ]
  },
  {
   "cell_type": "code",
   "execution_count": 217,
   "metadata": {
    "collapsed": true
   },
   "outputs": [],
   "source": [
    "#loss\n",
    "loss=(tf.square(y_pred-Y))"
   ]
  },
  {
   "cell_type": "code",
   "execution_count": 218,
   "metadata": {
    "collapsed": true
   },
   "outputs": [],
   "source": [
    "# optimizer\n",
    "\n",
    "optimizer=tf.train.GradientDescentOptimizer(0.01)"
   ]
  },
  {
   "cell_type": "code",
   "execution_count": 219,
   "metadata": {
    "collapsed": true
   },
   "outputs": [],
   "source": [
    "train= optimizer.minimize(loss)"
   ]
  },
  {
   "cell_type": "code",
   "execution_count": 220,
   "metadata": {
    "collapsed": true
   },
   "outputs": [],
   "source": [
    "sess= tf.Session()\n",
    "init= tf.global_variables_initializer()\n",
    "sess.run(init)"
   ]
  },
  {
   "cell_type": "code",
   "execution_count": 221,
   "metadata": {
    "collapsed": true
   },
   "outputs": [],
   "source": [
    "epochs=1000\n",
    "    "
   ]
  },
  {
   "cell_type": "code",
   "execution_count": 222,
   "metadata": {
    "collapsed": true
   },
   "outputs": [],
   "source": [
    "for epoch in range(epochs):\n",
    "    for (x,y) in zip(x_train,y_train):\n",
    "        sess.run(train,feed_dict={X:x_train,Y:y_train})\n",
    "w_val= sess.run(W)\n",
    "b_val= sess.run(b)\n",
    "    "
   ]
  },
  {
   "cell_type": "code",
   "execution_count": 223,
   "metadata": {
    "scrolled": false
   },
   "outputs": [
    {
     "data": {
      "text/plain": [
       "array([ 2.66227841], dtype=float32)"
      ]
     },
     "execution_count": 223,
     "metadata": {},
     "output_type": "execute_result"
    }
   ],
   "source": [
    "w_val"
   ]
  },
  {
   "cell_type": "code",
   "execution_count": 224,
   "metadata": {},
   "outputs": [
    {
     "data": {
      "text/plain": [
       "array([-0.40113184], dtype=float32)"
      ]
     },
     "execution_count": 224,
     "metadata": {},
     "output_type": "execute_result"
    }
   ],
   "source": [
    "b_val"
   ]
  },
  {
   "cell_type": "code",
   "execution_count": 225,
   "metadata": {
    "collapsed": true
   },
   "outputs": [],
   "source": [
    "sess.close()"
   ]
  },
  {
   "cell_type": "code",
   "execution_count": 226,
   "metadata": {
    "collapsed": true
   },
   "outputs": [],
   "source": [
    "y_learned= x_train*w_val +b_val"
   ]
  },
  {
   "cell_type": "code",
   "execution_count": 227,
   "metadata": {},
   "outputs": [
    {
     "data": {
      "text/plain": [
       "[<matplotlib.lines.Line2D at 0x1195dc208>]"
      ]
     },
     "execution_count": 227,
     "metadata": {},
     "output_type": "execute_result"
    },
    {
     "data": {
      "image/png": "[encoded data removed]",
      "text/plain": [
       "<matplotlib.figure.Figure at 0x1195dccc0>"
      ]
     },
     "metadata": {},
     "output_type": "display_data"
    }
   ],
   "source": [
    "plt.scatter(x_train,y_train)\n",
    "plt.plot(x_train,y_learned)"
   ]
  },
  {
   "cell_type": "markdown",
   "metadata": {},
   "source": [
    "# Third Example- Simple Polynomial Regression"
   ]
  },
  {
   "cell_type": "markdown",
   "metadata": {},
   "source": [
    "“❶   Import the relevant libraries and initialize the hyper-parameters\n",
    "❷   Set up some fake raw input data\n",
    "❸   Set up raw output data based on a degree 5 polynomial\n",
    "❹   Add some noise\n",
    "❺   Show a scatter plot of the raw data\n",
    "❻   Define the nodes to hold values for input/output pairs\n",
    "❼   Define our polynomial model\n",
    "❽   Set up the parameter vector to all zeros\n",
    "❾   Define the cost function just as before\n",
    "❿   Set up the session and run the learning algorithm just as before\n",
    "⓫   Close the session when done\n"
   ]
  },
  {
   "cell_type": "code",
   "execution_count": 228,
   "metadata": {
    "collapsed": true
   },
   "outputs": [],
   "source": [
    "import numpy as np\n",
    "import tensorflow as tf\n",
    "import matplotlib.pyplot as plt\n",
    "%matplotlib inline"
   ]
  },
  {
   "cell_type": "code",
   "execution_count": 229,
   "metadata": {
    "collapsed": true
   },
   "outputs": [],
   "source": [
    "x_train= np.linspace(-1,1,100)\n",
    "#y_train= 2*x_train+ np.random.randn(*x_train.shape)*0.33"
   ]
  },
  {
   "cell_type": "code",
   "execution_count": 230,
   "metadata": {
    "collapsed": true
   },
   "outputs": [],
   "source": [
    "num_coeff=6\n",
    "y_coeff=[1,2,3,4,5,6]"
   ]
  },
  {
   "cell_type": "code",
   "execution_count": 231,
   "metadata": {
    "collapsed": true
   },
   "outputs": [],
   "source": [
    "y_train=0\n",
    "\n",
    "for i in range(num_coeff):\n",
    "    y_train= y_coeff[i]*np.power(x_train,i)\n",
    "y_train= y_train+np.random.randn(*x_train.shape)*1.5\n",
    "    "
   ]
  },
  {
   "cell_type": "code",
   "execution_count": 233,
   "metadata": {},
   "outputs": [
    {
     "data": {
      "text/plain": [
       "(100,)"
      ]
     },
     "execution_count": 233,
     "metadata": {},
     "output_type": "execute_result"
    }
   ],
   "source": [
    "y_train.shape"
   ]
  },
  {
   "cell_type": "code",
   "execution_count": 234,
   "metadata": {},
   "outputs": [
    {
     "data": {
      "text/plain": [
       "<matplotlib.collections.PathCollection at 0x119770518>"
      ]
     },
     "execution_count": 234,
     "metadata": {},
     "output_type": "execute_result"
    },
    {
     "data": {
      "image/png": "[encoded data removed]",
      "text/plain": [
       "<matplotlib.figure.Figure at 0x1195dcdd8>"
      ]
     },
     "metadata": {},
     "output_type": "display_data"
    }
   ],
   "source": [
    "plt.scatter(x_train,y_train)"
   ]
  },
  {
   "cell_type": "code",
   "execution_count": 235,
   "metadata": {
    "collapsed": true
   },
   "outputs": [],
   "source": [
    "X= tf.placeholder(tf.float32, name ='InputX')\n",
    "Y= tf.placeholder(tf.float32, name ='InputY')"
   ]
  },
  {
   "cell_type": "code",
   "execution_count": 253,
   "metadata": {
    "collapsed": true
   },
   "outputs": [],
   "source": [
    "w = tf.Variable([0.] * num_coeff, name=\"parameters\")\n",
    "\n",
    "#Excerpt From: Nishant Shukla. “Machine Learning with TensorFlow MEAP V09.” iBooks. "
   ]
  },
  {
   "cell_type": "code",
   "execution_count": null,
   "metadata": {
    "collapsed": true
   },
   "outputs": [],
   "source": []
  },
  {
   "cell_type": "code",
   "execution_count": 254,
   "metadata": {},
   "outputs": [
    {
     "data": {
      "text/plain": [
       "<tf.Tensor 'AddN:0' shape=<unknown> dtype=float32>"
      ]
     },
     "execution_count": 254,
     "metadata": {},
     "output_type": "execute_result"
    }
   ],
   "source": [
    "#y_pred= tf.add(tf.multiply(X,w),b)\n",
    "y_pred=[]\n",
    "for i in range(num_coeff):\n",
    "    y_preds= tf.multiply(w[i],tf.pow(X,i))\n",
    "    y_pred.append(y_preds)\n",
    "tf.add_n(y_pred)\n",
    "    "
   ]
  },
  {
   "cell_type": "code",
   "execution_count": 255,
   "metadata": {},
   "outputs": [
    {
     "data": {
      "text/plain": [
       "[<tf.Tensor 'Mul_19:0' shape=<unknown> dtype=float32>,\n",
       " <tf.Tensor 'Mul_20:0' shape=<unknown> dtype=float32>,\n",
       " <tf.Tensor 'Mul_21:0' shape=<unknown> dtype=float32>,\n",
       " <tf.Tensor 'Mul_22:0' shape=<unknown> dtype=float32>,\n",
       " <tf.Tensor 'Mul_23:0' shape=<unknown> dtype=float32>,\n",
       " <tf.Tensor 'Mul_24:0' shape=<unknown> dtype=float32>]"
      ]
     },
     "execution_count": 255,
     "metadata": {},
     "output_type": "execute_result"
    }
   ],
   "source": [
    "y_pred"
   ]
  },
  {
   "cell_type": "code",
   "execution_count": 256,
   "metadata": {
    "collapsed": true
   },
   "outputs": [],
   "source": [
    "#loss\n",
    "loss=(tf.square(y_pred-Y))"
   ]
  },
  {
   "cell_type": "code",
   "execution_count": 257,
   "metadata": {
    "collapsed": true
   },
   "outputs": [],
   "source": [
    "# optimizer\n",
    "\n",
    "optimizer=tf.train.GradientDescentOptimizer(0.01)"
   ]
  },
  {
   "cell_type": "code",
   "execution_count": 258,
   "metadata": {
    "collapsed": true
   },
   "outputs": [],
   "source": [
    "train= optimizer.minimize(loss)"
   ]
  },
  {
   "cell_type": "code",
   "execution_count": 259,
   "metadata": {
    "collapsed": true
   },
   "outputs": [],
   "source": [
    "sess= tf.Session()\n",
    "init= tf.global_variables_initializer()\n",
    "sess.run(init)"
   ]
  },
  {
   "cell_type": "code",
   "execution_count": 260,
   "metadata": {
    "collapsed": true
   },
   "outputs": [],
   "source": [
    "epochs=1000"
   ]
  },
  {
   "cell_type": "code",
   "execution_count": 265,
   "metadata": {
    "collapsed": true
   },
   "outputs": [],
   "source": [
    "for epoch in range(epochs):\n",
    "    for (x,y) in zip(x_train,y_train):\n",
    "        sess.run(train,feed_dict={X:x_train,Y:y_train})\n",
    "w_val= sess.run(w)\n",
    "\n",
    "    "
   ]
  },
  {
   "cell_type": "code",
   "execution_count": 266,
   "metadata": {},
   "outputs": [
    {
     "data": {
      "text/plain": [
       "array([  8.94069672e-08,   2.94979954e+00,   1.90272033e-01,\n",
       "         5.01474476e+00,   3.30376893e-01,   6.17513037e+00], dtype=float32)"
      ]
     },
     "execution_count": 266,
     "metadata": {},
     "output_type": "execute_result"
    }
   ],
   "source": [
    "w_val"
   ]
  },
  {
   "cell_type": "code",
   "execution_count": 267,
   "metadata": {
    "collapsed": true
   },
   "outputs": [],
   "source": [
    "#y_learned= x_train*w_val +b_val\n",
    "\n",
    "y_learned=0\n",
    "for i in range(num_coeff):\n",
    "    y_learned+=w_val[i]*np.power(x_train,i)"
   ]
  },
  {
   "cell_type": "code",
   "execution_count": 268,
   "metadata": {},
   "outputs": [
    {
     "data": {
      "text/plain": [
       "[<matplotlib.lines.Line2D at 0x119f32e48>]"
      ]
     },
     "execution_count": 268,
     "metadata": {},
     "output_type": "execute_result"
    },
    {
     "data": {
      "image/png": "[encoded data removed]",
      "text/plain": [
       "<matplotlib.figure.Figure at 0x119f32e80>"
      ]
     },
     "metadata": {},
     "output_type": "display_data"
    }
   ],
   "source": [
    "plt.scatter(x_train,y_train)\n",
    "plt.plot(x_train,y_learned)"
   ]
  },
  {
   "cell_type": "markdown",
   "metadata": {
    "collapsed": true
   },
   "source": [
    "# Fourth Example- Simple Polynomial Regression using Regularization"
   ]
  },
  {
   "cell_type": "code",
   "execution_count": null,
   "metadata": {
    "collapsed": true
   },
   "outputs": [],
   "source": [
    "# add a parameter lambda|w| to loss and calcualte cost"
   ]
  },
  {
   "cell_type": "markdown",
   "metadata": {},
   "source": [
    "### Evaluating regularization parameters\n",
    "\n"
   ]
  },
  {
   "cell_type": "code",
   "execution_count": 2,
   "metadata": {
    "collapsed": true
   },
   "outputs": [],
   "source": [
    "import tensorflow as tf\n",
    "import numpy as np\n",
    "import matplotlib.pyplot as plt\n",
    "%matplotlib inline"
   ]
  },
  {
   "cell_type": "code",
   "execution_count": 40,
   "metadata": {
    "collapsed": true
   },
   "outputs": [],
   "source": [
    "# Define hyperparameters\n",
    "learning_rate= 0.001\n",
    "training_epochs=1000\n",
    "reg_lambda=0.\n"
   ]
  },
  {
   "cell_type": "code",
   "execution_count": 27,
   "metadata": {
    "collapsed": true
   },
   "outputs": [],
   "source": [
    "x_dataset= np.linspace(-1,1,100)"
   ]
  },
  {
   "cell_type": "code",
   "execution_count": 28,
   "metadata": {},
   "outputs": [
    {
     "data": {
      "text/plain": [
       "array([-1.        , -0.97979798, -0.95959596, -0.93939394, -0.91919192,\n",
       "       -0.8989899 , -0.87878788, -0.85858586, -0.83838384, -0.81818182,\n",
       "       -0.7979798 , -0.77777778, -0.75757576, -0.73737374, -0.71717172,\n",
       "       -0.6969697 , -0.67676768, -0.65656566, -0.63636364, -0.61616162,\n",
       "       -0.5959596 , -0.57575758, -0.55555556, -0.53535354, -0.51515152,\n",
       "       -0.49494949, -0.47474747, -0.45454545, -0.43434343, -0.41414141,\n",
       "       -0.39393939, -0.37373737, -0.35353535, -0.33333333, -0.31313131,\n",
       "       -0.29292929, -0.27272727, -0.25252525, -0.23232323, -0.21212121,\n",
       "       -0.19191919, -0.17171717, -0.15151515, -0.13131313, -0.11111111,\n",
       "       -0.09090909, -0.07070707, -0.05050505, -0.03030303, -0.01010101,\n",
       "        0.01010101,  0.03030303,  0.05050505,  0.07070707,  0.09090909,\n",
       "        0.11111111,  0.13131313,  0.15151515,  0.17171717,  0.19191919,\n",
       "        0.21212121,  0.23232323,  0.25252525,  0.27272727,  0.29292929,\n",
       "        0.31313131,  0.33333333,  0.35353535,  0.37373737,  0.39393939,\n",
       "        0.41414141,  0.43434343,  0.45454545,  0.47474747,  0.49494949,\n",
       "        0.51515152,  0.53535354,  0.55555556,  0.57575758,  0.5959596 ,\n",
       "        0.61616162,  0.63636364,  0.65656566,  0.67676768,  0.6969697 ,\n",
       "        0.71717172,  0.73737374,  0.75757576,  0.77777778,  0.7979798 ,\n",
       "        0.81818182,  0.83838384,  0.85858586,  0.87878788,  0.8989899 ,\n",
       "        0.91919192,  0.93939394,  0.95959596,  0.97979798,  1.        ])"
      ]
     },
     "execution_count": 28,
     "metadata": {},
     "output_type": "execute_result"
    }
   ],
   "source": [
    "x_dataset"
   ]
  },
  {
   "cell_type": "code",
   "execution_count": 29,
   "metadata": {
    "collapsed": true
   },
   "outputs": [],
   "source": [
    "num_coeff=6\n",
    "y_coeff=[1,2,3,4,5,6]"
   ]
  },
  {
   "cell_type": "code",
   "execution_count": 30,
   "metadata": {
    "collapsed": true
   },
   "outputs": [],
   "source": [
    "y_dataset=0\n",
    "\n",
    "for i in range(num_coeff):\n",
    "    y_dataset= y_coeff[i]*np.power(x_dataset,i)\n",
    "y_dataset= y_dataset+np.random.randn(*x_dataset.shape)*1.5"
   ]
  },
  {
   "cell_type": "code",
   "execution_count": 31,
   "metadata": {},
   "outputs": [
    {
     "data": {
      "text/plain": [
       "array([ -4.87083287e+00,  -4.55278033e+00,  -3.67502049e+00,\n",
       "        -4.09282920e+00,  -5.55956669e+00,  -3.14398395e+00,\n",
       "        -2.01086656e+00,  -1.82900686e+00,  -3.33551354e+00,\n",
       "        -2.26544206e+00,   6.85301112e-01,  -2.93609458e-01,\n",
       "        -1.21908255e+00,  -1.41546516e+00,  -1.27086369e+00,\n",
       "        -3.94676059e+00,  -2.37961220e+00,  -1.28174023e+00,\n",
       "         5.35991469e-01,   1.68196352e-02,  -2.37257977e+00,\n",
       "         3.62891437e-01,  -1.69320081e+00,  -2.73354175e+00,\n",
       "        -3.62084744e+00,  -1.00502934e+00,   2.46197289e+00,\n",
       "        -2.47377285e+00,   2.34725620e+00,   1.33603443e+00,\n",
       "         1.22423282e+00,  -4.01768894e-01,  -5.04946261e-03,\n",
       "        -5.10872657e-01,  -1.42309825e+00,  -1.16675538e+00,\n",
       "        -2.06779243e-01,   2.65082284e+00,   1.41931423e-01,\n",
       "        -5.28799585e-01,   1.20800130e+00,  -8.09100743e-01,\n",
       "        -9.64051863e-01,   4.15547708e-01,   1.20623475e+00,\n",
       "         2.54319560e+00,   2.13203299e+00,  -7.69312989e-02,\n",
       "         1.57921553e+00,   1.03109853e+00,   1.19722556e-03,\n",
       "        -2.48783696e+00,  -5.91703093e-01,   1.13325933e+00,\n",
       "         2.11962476e+00,  -1.30693707e+00,  -1.21889474e+00,\n",
       "        -4.83491134e-01,   9.66472230e-01,   3.10095146e+00,\n",
       "         6.27419147e-01,   6.20365638e-01,   4.35418474e-01,\n",
       "         8.78176405e-01,  -3.11228160e-01,   3.37020413e-01,\n",
       "         1.94097097e-01,   2.08158787e+00,  -6.24845208e-01,\n",
       "        -2.39997343e-01,   1.63183675e+00,   1.29042923e+00,\n",
       "        -8.75936782e-01,  -1.70830733e+00,  -8.45310072e-01,\n",
       "         3.22797314e-01,  -2.26090803e+00,  -4.51078026e-01,\n",
       "        -2.19849121e-01,   3.55473736e-01,   2.88283241e+00,\n",
       "         9.24022786e-01,   4.57358644e-01,   1.03127570e+00,\n",
       "        -1.81968034e+00,  -1.84300753e-01,   1.85196578e+00,\n",
       "         7.91998152e-01,   2.08551252e+00,   3.81284726e-01,\n",
       "         3.41238406e+00,   1.93475538e+00,   1.23084809e+00,\n",
       "         4.43802653e+00,   4.32854569e+00,   5.50284110e+00,\n",
       "         4.13681186e+00,   6.93506663e+00,   6.76601547e+00,\n",
       "         7.44174489e+00])"
      ]
     },
     "execution_count": 31,
     "metadata": {},
     "output_type": "execute_result"
    }
   ],
   "source": [
    "y_dataset"
   ]
  },
  {
   "cell_type": "code",
   "execution_count": 32,
   "metadata": {
    "collapsed": true
   },
   "outputs": [],
   "source": [
    "from sklearn.model_selection import train_test_split"
   ]
  },
  {
   "cell_type": "code",
   "execution_count": 33,
   "metadata": {
    "collapsed": true
   },
   "outputs": [],
   "source": [
    "X_train, X_test, y_train, y_test = train_test_split(x_dataset, y_dataset, test_size=0.33, random_state=42)"
   ]
  },
  {
   "cell_type": "code",
   "execution_count": 34,
   "metadata": {
    "collapsed": true
   },
   "outputs": [],
   "source": [
    "X= tf.placeholder(\"float\")\n",
    "Y= tf.placeholder(\"float\")"
   ]
  },
  {
   "cell_type": "code",
   "execution_count": 35,
   "metadata": {
    "collapsed": true
   },
   "outputs": [],
   "source": [
    "w = tf.Variable([0.] * num_coeff, name=\"parameters\")"
   ]
  },
  {
   "cell_type": "code",
   "execution_count": 36,
   "metadata": {},
   "outputs": [
    {
     "data": {
      "text/plain": [
       "<tf.Tensor 'AddN:0' shape=<unknown> dtype=float32>"
      ]
     },
     "execution_count": 36,
     "metadata": {},
     "output_type": "execute_result"
    }
   ],
   "source": [
    "#y_pred= tf.add(tf.multiply(X,w),b)\n",
    "y_pred=[]\n",
    "for i in range(num_coeff):\n",
    "    y_preds= tf.multiply(w[i],tf.pow(X,i))\n",
    "    y_pred.append(y_preds)\n",
    "tf.add_n(y_pred)\n",
    "    "
   ]
  },
  {
   "cell_type": "code",
   "execution_count": 41,
   "metadata": {},
   "outputs": [],
   "source": [
    "#Regularization cost\n",
    "cost = tf.div(tf.add(tf.reduce_sum(tf.square(Y-y_pred)),\n",
    "tf.multiply(reg_lambda, tf.reduce_sum(tf.square(w)))),2*X_train.size)\n",
    "\n",
    " "
   ]
  },
  {
   "cell_type": "code",
   "execution_count": 42,
   "metadata": {
    "collapsed": true
   },
   "outputs": [],
   "source": [
    "# optimizer\n",
    "\n",
    "train_op=tf.train.GradientDescentOptimizer(learning_rate).minimize(cost)"
   ]
  },
  {
   "cell_type": "code",
   "execution_count": 43,
   "metadata": {
    "collapsed": true
   },
   "outputs": [],
   "source": [
    "sess= tf.Session()\n",
    "init= tf.global_variables_initializer()\n",
    "sess.run(init)"
   ]
  },
  {
   "cell_type": "code",
   "execution_count": 48,
   "metadata": {},
   "outputs": [
    {
     "name": "stdout",
     "output_type": "stream",
     "text": [
      "reg lambda 0.0\n",
      "final cost 6.47586\n",
      "reg lambda 0.010101010101\n",
      "final cost 6.17902\n",
      "reg lambda 0.020202020202\n",
      "final cost 6.00582\n",
      "reg lambda 0.030303030303\n",
      "final cost 5.90266\n",
      "reg lambda 0.040404040404\n",
      "final cost 5.84047\n",
      "reg lambda 0.0505050505051\n",
      "final cost 5.80297\n",
      "reg lambda 0.0606060606061\n",
      "final cost 5.78081\n",
      "reg lambda 0.0707070707071\n",
      "final cost 5.7684\n",
      "reg lambda 0.0808080808081\n",
      "final cost 5.76234\n",
      "reg lambda 0.0909090909091\n",
      "final cost 5.76041\n",
      "reg lambda 0.10101010101\n",
      "final cost 5.7612\n",
      "reg lambda 0.111111111111\n",
      "final cost 5.76372\n",
      "reg lambda 0.121212121212\n",
      "final cost 5.76732\n",
      "reg lambda 0.131313131313\n",
      "final cost 5.77153\n",
      "reg lambda 0.141414141414\n",
      "final cost 5.77604\n",
      "reg lambda 0.151515151515\n",
      "final cost 5.78063\n",
      "reg lambda 0.161616161616\n",
      "final cost 5.78515\n",
      "reg lambda 0.171717171717\n",
      "final cost 5.78949\n",
      "reg lambda 0.181818181818\n",
      "final cost 5.79361\n",
      "reg lambda 0.191919191919\n",
      "final cost 5.79745\n",
      "reg lambda 0.20202020202\n",
      "final cost 5.80102\n",
      "reg lambda 0.212121212121\n",
      "final cost 5.80429\n",
      "reg lambda 0.222222222222\n",
      "final cost 5.80728\n",
      "reg lambda 0.232323232323\n",
      "final cost 5.80999\n",
      "reg lambda 0.242424242424\n",
      "final cost 5.81245\n",
      "reg lambda 0.252525252525\n",
      "final cost 5.81468\n",
      "reg lambda 0.262626262626\n",
      "final cost 5.81666\n",
      "reg lambda 0.272727272727\n",
      "final cost 5.81844\n",
      "reg lambda 0.282828282828\n",
      "final cost 5.82003\n",
      "reg lambda 0.292929292929\n",
      "final cost 5.82145\n",
      "reg lambda 0.30303030303\n",
      "final cost 5.82272\n",
      "reg lambda 0.313131313131\n",
      "final cost 5.82386\n",
      "reg lambda 0.323232323232\n",
      "final cost 5.82487\n",
      "reg lambda 0.333333333333\n",
      "final cost 5.82577\n",
      "reg lambda 0.343434343434\n",
      "final cost 5.82657\n",
      "reg lambda 0.353535353535\n",
      "final cost 5.82728\n",
      "reg lambda 0.363636363636\n",
      "final cost 5.82792\n",
      "reg lambda 0.373737373737\n",
      "final cost 5.82848\n",
      "reg lambda 0.383838383838\n",
      "final cost 5.82897\n",
      "reg lambda 0.393939393939\n",
      "final cost 5.82942\n",
      "reg lambda 0.40404040404\n",
      "final cost 5.82981\n",
      "reg lambda 0.414141414141\n",
      "final cost 5.83015\n",
      "reg lambda 0.424242424242\n",
      "final cost 5.83046\n",
      "reg lambda 0.434343434343\n",
      "final cost 5.83073\n",
      "reg lambda 0.444444444444\n",
      "final cost 5.83096\n",
      "reg lambda 0.454545454545\n",
      "final cost 5.83117\n",
      "reg lambda 0.464646464646\n",
      "final cost 5.83136\n",
      "reg lambda 0.474747474747\n",
      "final cost 5.83153\n",
      "reg lambda 0.484848484848\n",
      "final cost 5.83169\n",
      "reg lambda 0.494949494949\n",
      "final cost 5.83183\n",
      "reg lambda 0.505050505051\n",
      "final cost 5.83193\n",
      "reg lambda 0.515151515152\n",
      "final cost 5.83202\n",
      "reg lambda 0.525252525253\n",
      "final cost 5.83211\n",
      "reg lambda 0.535353535354\n",
      "final cost 5.83218\n",
      "reg lambda 0.545454545455\n",
      "final cost 5.83224\n",
      "reg lambda 0.555555555556\n",
      "final cost 5.83229\n",
      "reg lambda 0.565656565657\n",
      "final cost 5.83234\n",
      "reg lambda 0.575757575758\n",
      "final cost 5.83239\n",
      "reg lambda 0.585858585859\n",
      "final cost 5.83244\n",
      "reg lambda 0.59595959596\n",
      "final cost 5.83248\n",
      "reg lambda 0.606060606061\n",
      "final cost 5.83252\n",
      "reg lambda 0.616161616162\n",
      "final cost 5.83254\n",
      "reg lambda 0.626262626263\n",
      "final cost 5.83256\n",
      "reg lambda 0.636363636364\n",
      "final cost 5.83257\n",
      "reg lambda 0.646464646465\n",
      "final cost 5.83258\n",
      "reg lambda 0.656565656566\n",
      "final cost 5.8326\n",
      "reg lambda 0.666666666667\n",
      "final cost 5.83261\n",
      "reg lambda 0.676767676768\n",
      "final cost 5.83262\n",
      "reg lambda 0.686868686869\n",
      "final cost 5.83263\n",
      "reg lambda 0.69696969697\n",
      "final cost 5.83264\n",
      "reg lambda 0.707070707071\n",
      "final cost 5.83265\n",
      "reg lambda 0.717171717172\n",
      "final cost 5.83266\n",
      "reg lambda 0.727272727273\n",
      "final cost 5.83266\n",
      "reg lambda 0.737373737374\n",
      "final cost 5.83266\n",
      "reg lambda 0.747474747475\n",
      "final cost 5.83266\n",
      "reg lambda 0.757575757576\n",
      "final cost 5.83266\n",
      "reg lambda 0.767676767677\n",
      "final cost 5.83266\n",
      "reg lambda 0.777777777778\n",
      "final cost 5.83266\n",
      "reg lambda 0.787878787879\n",
      "final cost 5.83266\n",
      "reg lambda 0.79797979798\n",
      "final cost 5.83266\n",
      "reg lambda 0.808080808081\n",
      "final cost 5.83266\n",
      "reg lambda 0.818181818182\n",
      "final cost 5.83266\n",
      "reg lambda 0.828282828283\n",
      "final cost 5.83266\n",
      "reg lambda 0.838383838384\n",
      "final cost 5.83266\n",
      "reg lambda 0.848484848485\n",
      "final cost 5.83266\n",
      "reg lambda 0.858585858586\n",
      "final cost 5.83266\n",
      "reg lambda 0.868686868687\n",
      "final cost 5.83266\n",
      "reg lambda 0.878787878788\n",
      "final cost 5.83266\n",
      "reg lambda 0.888888888889\n",
      "final cost 5.83266\n",
      "reg lambda 0.89898989899\n",
      "final cost 5.83266\n",
      "reg lambda 0.909090909091\n",
      "final cost 5.83266\n",
      "reg lambda 0.919191919192\n",
      "final cost 5.83266\n",
      "reg lambda 0.929292929293\n",
      "final cost 5.83266\n",
      "reg lambda 0.939393939394\n",
      "final cost 5.83266\n",
      "reg lambda 0.949494949495\n",
      "final cost 5.83266\n",
      "reg lambda 0.959595959596\n",
      "final cost 5.83266\n",
      "reg lambda 0.969696969697\n",
      "final cost 5.83266\n",
      "reg lambda 0.979797979798\n",
      "final cost 5.83266\n",
      "reg lambda 0.989898989899\n",
      "final cost 5.83266\n",
      "reg lambda 1.0\n",
      "final cost 5.83266\n"
     ]
    }
   ],
   "source": [
    "for reg_lambda in np.linspace(0,1,100):\n",
    "    for epoch in range(training_epochs):\n",
    "        sess.run(train_op, feed_dict={X: X_train, Y: y_train})\n",
    "    final_cost = sess.run(cost, feed_dict={X: X_test, Y:y_test})\n",
    "    print('reg lambda', reg_lambda)\n",
    "    print('final cost', final_cost)\n",
    "sess.close()\n",
    "    \n",
    "    \n",
    "    \n",
    "        \n",
    "    "
   ]
  },
  {
   "cell_type": "code",
   "execution_count": 58,
   "metadata": {},
   "outputs": [],
   "source": [
    "# Dataset LR with tensorflow"
   ]
  },
  {
   "cell_type": "code",
   "execution_count": 61,
   "metadata": {},
   "outputs": [],
   "source": [
    "import numpy as np\n",
    "import tensorflow as tf\n",
    "import matplotlib.pyplot as plt\n",
    "%matplotlib inline\n",
    "import pandas as pd"
   ]
  },
  {
   "cell_type": "code",
   "execution_count": 63,
   "metadata": {},
   "outputs": [],
   "source": [
    "df=pd.read_csv(\"got.csv\")"
   ]
  },
  {
   "cell_type": "code",
   "execution_count": 64,
   "metadata": {},
   "outputs": [
    {
     "data": {
      "text/html": [
       "<div>\n",
       "<table border=\"1\" class=\"dataframe\">\n",
       "  <thead>\n",
       "    <tr style=\"text-align: right;\">\n",
       "      <th></th>\n",
       "      <th>S.No</th>\n",
       "      <th>actual</th>\n",
       "      <th>pred</th>\n",
       "      <th>alive</th>\n",
       "      <th>plod</th>\n",
       "      <th>name</th>\n",
       "      <th>title</th>\n",
       "      <th>male</th>\n",
       "      <th>culture</th>\n",
       "      <th>house</th>\n",
       "      <th>...</th>\n",
       "      <th>isAliveFather</th>\n",
       "      <th>isAliveHeir</th>\n",
       "      <th>isAliveSpouse</th>\n",
       "      <th>isMarried</th>\n",
       "      <th>isNoble</th>\n",
       "      <th>numDeadRelations</th>\n",
       "      <th>boolDeadRelations</th>\n",
       "      <th>isPopular</th>\n",
       "      <th>popularity</th>\n",
       "      <th>isAlive</th>\n",
       "    </tr>\n",
       "  </thead>\n",
       "  <tbody>\n",
       "    <tr>\n",
       "      <th>0</th>\n",
       "      <td>1</td>\n",
       "      <td>0</td>\n",
       "      <td>0</td>\n",
       "      <td>0.054</td>\n",
       "      <td>0.946</td>\n",
       "      <td>Viserys II Targaryen</td>\n",
       "      <td>Lord of the seven kingdoms</td>\n",
       "      <td>1</td>\n",
       "      <td>Valyrian</td>\n",
       "      <td>NaN</td>\n",
       "      <td>...</td>\n",
       "      <td>0.0</td>\n",
       "      <td>0.0</td>\n",
       "      <td>NaN</td>\n",
       "      <td>0</td>\n",
       "      <td>0</td>\n",
       "      <td>11</td>\n",
       "      <td>1</td>\n",
       "      <td>1</td>\n",
       "      <td>0.605351</td>\n",
       "      <td>0</td>\n",
       "    </tr>\n",
       "    <tr>\n",
       "      <th>1</th>\n",
       "      <td>2</td>\n",
       "      <td>1</td>\n",
       "      <td>0</td>\n",
       "      <td>0.387</td>\n",
       "      <td>0.613</td>\n",
       "      <td>Walder Frey</td>\n",
       "      <td>Lord of the Crossing</td>\n",
       "      <td>1</td>\n",
       "      <td>Rivermen</td>\n",
       "      <td>House Frey</td>\n",
       "      <td>...</td>\n",
       "      <td>NaN</td>\n",
       "      <td>NaN</td>\n",
       "      <td>1.0</td>\n",
       "      <td>1</td>\n",
       "      <td>1</td>\n",
       "      <td>1</td>\n",
       "      <td>1</td>\n",
       "      <td>1</td>\n",
       "      <td>0.896321</td>\n",
       "      <td>1</td>\n",
       "    </tr>\n",
       "    <tr>\n",
       "      <th>2</th>\n",
       "      <td>3</td>\n",
       "      <td>1</td>\n",
       "      <td>0</td>\n",
       "      <td>0.493</td>\n",
       "      <td>0.507</td>\n",
       "      <td>Addison Hill</td>\n",
       "      <td>Lord Commander</td>\n",
       "      <td>1</td>\n",
       "      <td>Valyrian</td>\n",
       "      <td>House Swyft</td>\n",
       "      <td>...</td>\n",
       "      <td>0.0</td>\n",
       "      <td>NaN</td>\n",
       "      <td>1.0</td>\n",
       "      <td>0</td>\n",
       "      <td>1</td>\n",
       "      <td>0</td>\n",
       "      <td>0</td>\n",
       "      <td>0</td>\n",
       "      <td>0.267559</td>\n",
       "      <td>1</td>\n",
       "    </tr>\n",
       "    <tr>\n",
       "      <th>3</th>\n",
       "      <td>4</td>\n",
       "      <td>0</td>\n",
       "      <td>0</td>\n",
       "      <td>0.076</td>\n",
       "      <td>0.924</td>\n",
       "      <td>Aemma Arryn</td>\n",
       "      <td>Queen Consort</td>\n",
       "      <td>0</td>\n",
       "      <td>Andal</td>\n",
       "      <td>House Arryn</td>\n",
       "      <td>...</td>\n",
       "      <td>0.0</td>\n",
       "      <td>0.0</td>\n",
       "      <td>0.0</td>\n",
       "      <td>1</td>\n",
       "      <td>1</td>\n",
       "      <td>0</td>\n",
       "      <td>0</td>\n",
       "      <td>0</td>\n",
       "      <td>0.183946</td>\n",
       "      <td>0</td>\n",
       "    </tr>\n",
       "    <tr>\n",
       "      <th>4</th>\n",
       "      <td>5</td>\n",
       "      <td>1</td>\n",
       "      <td>1</td>\n",
       "      <td>0.617</td>\n",
       "      <td>0.383</td>\n",
       "      <td>Sylva Santagar</td>\n",
       "      <td>Greenstone</td>\n",
       "      <td>0</td>\n",
       "      <td>Dornish</td>\n",
       "      <td>House Santagar</td>\n",
       "      <td>...</td>\n",
       "      <td>NaN</td>\n",
       "      <td>NaN</td>\n",
       "      <td>1.0</td>\n",
       "      <td>1</td>\n",
       "      <td>1</td>\n",
       "      <td>0</td>\n",
       "      <td>0</td>\n",
       "      <td>0</td>\n",
       "      <td>0.043478</td>\n",
       "      <td>1</td>\n",
       "    </tr>\n",
       "    <tr>\n",
       "      <th>5</th>\n",
       "      <td>6</td>\n",
       "      <td>1</td>\n",
       "      <td>0</td>\n",
       "      <td>0.021</td>\n",
       "      <td>0.979</td>\n",
       "      <td>Tommen Baratheon</td>\n",
       "      <td>King</td>\n",
       "      <td>1</td>\n",
       "      <td>Andal</td>\n",
       "      <td>House Lannister</td>\n",
       "      <td>...</td>\n",
       "      <td>1.0</td>\n",
       "      <td>1.0</td>\n",
       "      <td>NaN</td>\n",
       "      <td>0</td>\n",
       "      <td>0</td>\n",
       "      <td>5</td>\n",
       "      <td>1</td>\n",
       "      <td>1</td>\n",
       "      <td>1.000000</td>\n",
       "      <td>1</td>\n",
       "    </tr>\n",
       "    <tr>\n",
       "      <th>6</th>\n",
       "      <td>7</td>\n",
       "      <td>0</td>\n",
       "      <td>0</td>\n",
       "      <td>0.014</td>\n",
       "      <td>0.986</td>\n",
       "      <td>Valarr Targaryen</td>\n",
       "      <td>Hand of the King</td>\n",
       "      <td>1</td>\n",
       "      <td>Valyrian</td>\n",
       "      <td>House Targaryen</td>\n",
       "      <td>...</td>\n",
       "      <td>NaN</td>\n",
       "      <td>NaN</td>\n",
       "      <td>1.0</td>\n",
       "      <td>1</td>\n",
       "      <td>1</td>\n",
       "      <td>0</td>\n",
       "      <td>0</td>\n",
       "      <td>1</td>\n",
       "      <td>0.431438</td>\n",
       "      <td>0</td>\n",
       "    </tr>\n",
       "    <tr>\n",
       "      <th>7</th>\n",
       "      <td>8</td>\n",
       "      <td>0</td>\n",
       "      <td>0</td>\n",
       "      <td>0.036</td>\n",
       "      <td>0.964</td>\n",
       "      <td>Viserys I Targaryen</td>\n",
       "      <td>King of the Andals</td>\n",
       "      <td>1</td>\n",
       "      <td>Valyrian</td>\n",
       "      <td>House Targaryen</td>\n",
       "      <td>...</td>\n",
       "      <td>1.0</td>\n",
       "      <td>1.0</td>\n",
       "      <td>NaN</td>\n",
       "      <td>0</td>\n",
       "      <td>0</td>\n",
       "      <td>5</td>\n",
       "      <td>1</td>\n",
       "      <td>1</td>\n",
       "      <td>0.678930</td>\n",
       "      <td>0</td>\n",
       "    </tr>\n",
       "    <tr>\n",
       "      <th>8</th>\n",
       "      <td>9</td>\n",
       "      <td>0</td>\n",
       "      <td>1</td>\n",
       "      <td>0.724</td>\n",
       "      <td>0.276</td>\n",
       "      <td>Wilbert</td>\n",
       "      <td>Ser</td>\n",
       "      <td>1</td>\n",
       "      <td>Andal</td>\n",
       "      <td>NaN</td>\n",
       "      <td>...</td>\n",
       "      <td>NaN</td>\n",
       "      <td>NaN</td>\n",
       "      <td>NaN</td>\n",
       "      <td>0</td>\n",
       "      <td>1</td>\n",
       "      <td>0</td>\n",
       "      <td>0</td>\n",
       "      <td>0</td>\n",
       "      <td>0.006689</td>\n",
       "      <td>0</td>\n",
       "    </tr>\n",
       "    <tr>\n",
       "      <th>9</th>\n",
       "      <td>10</td>\n",
       "      <td>1</td>\n",
       "      <td>0</td>\n",
       "      <td>0.391</td>\n",
       "      <td>0.609</td>\n",
       "      <td>Wilbert Osgrey</td>\n",
       "      <td>Ser</td>\n",
       "      <td>1</td>\n",
       "      <td>Andal</td>\n",
       "      <td>House Tyrell</td>\n",
       "      <td>...</td>\n",
       "      <td>NaN</td>\n",
       "      <td>NaN</td>\n",
       "      <td>NaN</td>\n",
       "      <td>0</td>\n",
       "      <td>1</td>\n",
       "      <td>0</td>\n",
       "      <td>0</td>\n",
       "      <td>0</td>\n",
       "      <td>0.020067</td>\n",
       "      <td>1</td>\n",
       "    </tr>\n",
       "    <tr>\n",
       "      <th>10</th>\n",
       "      <td>11</td>\n",
       "      <td>0</td>\n",
       "      <td>0</td>\n",
       "      <td>0.167</td>\n",
       "      <td>0.833</td>\n",
       "      <td>Will</td>\n",
       "      <td>Unknown</td>\n",
       "      <td>1</td>\n",
       "      <td>Andal</td>\n",
       "      <td>Night's Watch</td>\n",
       "      <td>...</td>\n",
       "      <td>NaN</td>\n",
       "      <td>NaN</td>\n",
       "      <td>NaN</td>\n",
       "      <td>0</td>\n",
       "      <td>0</td>\n",
       "      <td>0</td>\n",
       "      <td>0</td>\n",
       "      <td>0</td>\n",
       "      <td>0.163880</td>\n",
       "      <td>0</td>\n",
       "    </tr>\n",
       "    <tr>\n",
       "      <th>11</th>\n",
       "      <td>12</td>\n",
       "      <td>1</td>\n",
       "      <td>1</td>\n",
       "      <td>0.985</td>\n",
       "      <td>0.015</td>\n",
       "      <td>Will (orphan)</td>\n",
       "      <td>Unknown</td>\n",
       "      <td>0</td>\n",
       "      <td>Andal</td>\n",
       "      <td>NaN</td>\n",
       "      <td>...</td>\n",
       "      <td>NaN</td>\n",
       "      <td>NaN</td>\n",
       "      <td>NaN</td>\n",
       "      <td>0</td>\n",
       "      <td>0</td>\n",
       "      <td>0</td>\n",
       "      <td>0</td>\n",
       "      <td>0</td>\n",
       "      <td>0.003344</td>\n",
       "      <td>1</td>\n",
       "    </tr>\n",
       "    <tr>\n",
       "      <th>12</th>\n",
       "      <td>13</td>\n",
       "      <td>1</td>\n",
       "      <td>1</td>\n",
       "      <td>0.813</td>\n",
       "      <td>0.187</td>\n",
       "      <td>Will (squire)</td>\n",
       "      <td>Unknown</td>\n",
       "      <td>1</td>\n",
       "      <td>Andal</td>\n",
       "      <td>NaN</td>\n",
       "      <td>...</td>\n",
       "      <td>NaN</td>\n",
       "      <td>NaN</td>\n",
       "      <td>NaN</td>\n",
       "      <td>0</td>\n",
       "      <td>0</td>\n",
       "      <td>0</td>\n",
       "      <td>0</td>\n",
       "      <td>0</td>\n",
       "      <td>0.003344</td>\n",
       "      <td>1</td>\n",
       "    </tr>\n",
       "    <tr>\n",
       "      <th>13</th>\n",
       "      <td>14</td>\n",
       "      <td>1</td>\n",
       "      <td>1</td>\n",
       "      <td>0.747</td>\n",
       "      <td>0.253</td>\n",
       "      <td>Will (Standfast)</td>\n",
       "      <td>Unknown</td>\n",
       "      <td>0</td>\n",
       "      <td>Andal</td>\n",
       "      <td>House Osgrey</td>\n",
       "      <td>...</td>\n",
       "      <td>NaN</td>\n",
       "      <td>NaN</td>\n",
       "      <td>NaN</td>\n",
       "      <td>0</td>\n",
       "      <td>0</td>\n",
       "      <td>0</td>\n",
       "      <td>0</td>\n",
       "      <td>0</td>\n",
       "      <td>0.003344</td>\n",
       "      <td>1</td>\n",
       "    </tr>\n",
       "    <tr>\n",
       "      <th>14</th>\n",
       "      <td>15</td>\n",
       "      <td>1</td>\n",
       "      <td>1</td>\n",
       "      <td>0.705</td>\n",
       "      <td>0.295</td>\n",
       "      <td>Will (Treb)</td>\n",
       "      <td>Unknown</td>\n",
       "      <td>1</td>\n",
       "      <td>Andal</td>\n",
       "      <td>House Osgrey</td>\n",
       "      <td>...</td>\n",
       "      <td>NaN</td>\n",
       "      <td>NaN</td>\n",
       "      <td>NaN</td>\n",
       "      <td>0</td>\n",
       "      <td>0</td>\n",
       "      <td>0</td>\n",
       "      <td>0</td>\n",
       "      <td>0</td>\n",
       "      <td>0.003344</td>\n",
       "      <td>1</td>\n",
       "    </tr>\n",
       "    <tr>\n",
       "      <th>15</th>\n",
       "      <td>16</td>\n",
       "      <td>1</td>\n",
       "      <td>1</td>\n",
       "      <td>0.996</td>\n",
       "      <td>0.004</td>\n",
       "      <td>Will Humble</td>\n",
       "      <td>Unknown</td>\n",
       "      <td>1</td>\n",
       "      <td>Ironborn</td>\n",
       "      <td>House Humble</td>\n",
       "      <td>...</td>\n",
       "      <td>NaN</td>\n",
       "      <td>NaN</td>\n",
       "      <td>NaN</td>\n",
       "      <td>0</td>\n",
       "      <td>0</td>\n",
       "      <td>0</td>\n",
       "      <td>0</td>\n",
       "      <td>0</td>\n",
       "      <td>0.013378</td>\n",
       "      <td>1</td>\n",
       "    </tr>\n",
       "    <tr>\n",
       "      <th>16</th>\n",
       "      <td>17</td>\n",
       "      <td>1</td>\n",
       "      <td>1</td>\n",
       "      <td>0.984</td>\n",
       "      <td>0.016</td>\n",
       "      <td>Willam</td>\n",
       "      <td>Unknown</td>\n",
       "      <td>1</td>\n",
       "      <td>Andal</td>\n",
       "      <td>NaN</td>\n",
       "      <td>...</td>\n",
       "      <td>NaN</td>\n",
       "      <td>NaN</td>\n",
       "      <td>NaN</td>\n",
       "      <td>0</td>\n",
       "      <td>0</td>\n",
       "      <td>0</td>\n",
       "      <td>0</td>\n",
       "      <td>0</td>\n",
       "      <td>0.013378</td>\n",
       "      <td>1</td>\n",
       "    </tr>\n",
       "    <tr>\n",
       "      <th>17</th>\n",
       "      <td>18</td>\n",
       "      <td>1</td>\n",
       "      <td>1</td>\n",
       "      <td>0.604</td>\n",
       "      <td>0.396</td>\n",
       "      <td>Willem Wylde</td>\n",
       "      <td>Kingsguard</td>\n",
       "      <td>1</td>\n",
       "      <td>Andal</td>\n",
       "      <td>House Baratheon</td>\n",
       "      <td>...</td>\n",
       "      <td>NaN</td>\n",
       "      <td>NaN</td>\n",
       "      <td>NaN</td>\n",
       "      <td>0</td>\n",
       "      <td>1</td>\n",
       "      <td>0</td>\n",
       "      <td>0</td>\n",
       "      <td>0</td>\n",
       "      <td>0.020067</td>\n",
       "      <td>1</td>\n",
       "    </tr>\n",
       "    <tr>\n",
       "      <th>18</th>\n",
       "      <td>19</td>\n",
       "      <td>1</td>\n",
       "      <td>1</td>\n",
       "      <td>0.998</td>\n",
       "      <td>0.002</td>\n",
       "      <td>Willifer</td>\n",
       "      <td>Archmaester</td>\n",
       "      <td>0</td>\n",
       "      <td>Andal</td>\n",
       "      <td>NaN</td>\n",
       "      <td>...</td>\n",
       "      <td>NaN</td>\n",
       "      <td>NaN</td>\n",
       "      <td>NaN</td>\n",
       "      <td>0</td>\n",
       "      <td>1</td>\n",
       "      <td>0</td>\n",
       "      <td>0</td>\n",
       "      <td>0</td>\n",
       "      <td>0.006689</td>\n",
       "      <td>1</td>\n",
       "    </tr>\n",
       "    <tr>\n",
       "      <th>19</th>\n",
       "      <td>20</td>\n",
       "      <td>1</td>\n",
       "      <td>1</td>\n",
       "      <td>0.922</td>\n",
       "      <td>0.078</td>\n",
       "      <td>Willit</td>\n",
       "      <td>Unknown</td>\n",
       "      <td>1</td>\n",
       "      <td>Andal</td>\n",
       "      <td>House Swyft</td>\n",
       "      <td>...</td>\n",
       "      <td>NaN</td>\n",
       "      <td>NaN</td>\n",
       "      <td>NaN</td>\n",
       "      <td>0</td>\n",
       "      <td>0</td>\n",
       "      <td>0</td>\n",
       "      <td>0</td>\n",
       "      <td>0</td>\n",
       "      <td>0.010033</td>\n",
       "      <td>1</td>\n",
       "    </tr>\n",
       "    <tr>\n",
       "      <th>20</th>\n",
       "      <td>21</td>\n",
       "      <td>1</td>\n",
       "      <td>1</td>\n",
       "      <td>0.974</td>\n",
       "      <td>0.026</td>\n",
       "      <td>Willis Wode</td>\n",
       "      <td>Ser</td>\n",
       "      <td>1</td>\n",
       "      <td>Andal</td>\n",
       "      <td>House Tully</td>\n",
       "      <td>...</td>\n",
       "      <td>NaN</td>\n",
       "      <td>NaN</td>\n",
       "      <td>NaN</td>\n",
       "      <td>0</td>\n",
       "      <td>1</td>\n",
       "      <td>0</td>\n",
       "      <td>0</td>\n",
       "      <td>0</td>\n",
       "      <td>0.020067</td>\n",
       "      <td>1</td>\n",
       "    </tr>\n",
       "    <tr>\n",
       "      <th>21</th>\n",
       "      <td>22</td>\n",
       "      <td>1</td>\n",
       "      <td>0</td>\n",
       "      <td>0.022</td>\n",
       "      <td>0.978</td>\n",
       "      <td>Willis Fell</td>\n",
       "      <td>Ser</td>\n",
       "      <td>0</td>\n",
       "      <td>NaN</td>\n",
       "      <td>House Fell</td>\n",
       "      <td>...</td>\n",
       "      <td>NaN</td>\n",
       "      <td>NaN</td>\n",
       "      <td>NaN</td>\n",
       "      <td>0</td>\n",
       "      <td>1</td>\n",
       "      <td>0</td>\n",
       "      <td>0</td>\n",
       "      <td>0</td>\n",
       "      <td>0.023411</td>\n",
       "      <td>1</td>\n",
       "    </tr>\n",
       "    <tr>\n",
       "      <th>22</th>\n",
       "      <td>23</td>\n",
       "      <td>1</td>\n",
       "      <td>1</td>\n",
       "      <td>0.768</td>\n",
       "      <td>0.232</td>\n",
       "      <td>Willow Heddle</td>\n",
       "      <td>Unknown</td>\n",
       "      <td>0</td>\n",
       "      <td>NaN</td>\n",
       "      <td>Brotherhood Without Banners</td>\n",
       "      <td>...</td>\n",
       "      <td>NaN</td>\n",
       "      <td>NaN</td>\n",
       "      <td>NaN</td>\n",
       "      <td>0</td>\n",
       "      <td>0</td>\n",
       "      <td>0</td>\n",
       "      <td>0</td>\n",
       "      <td>0</td>\n",
       "      <td>0.033445</td>\n",
       "      <td>1</td>\n",
       "    </tr>\n",
       "    <tr>\n",
       "      <th>23</th>\n",
       "      <td>24</td>\n",
       "      <td>1</td>\n",
       "      <td>1</td>\n",
       "      <td>0.561</td>\n",
       "      <td>0.439</td>\n",
       "      <td>Willum</td>\n",
       "      <td>Ser</td>\n",
       "      <td>1</td>\n",
       "      <td>NaN</td>\n",
       "      <td>NaN</td>\n",
       "      <td>...</td>\n",
       "      <td>NaN</td>\n",
       "      <td>NaN</td>\n",
       "      <td>NaN</td>\n",
       "      <td>0</td>\n",
       "      <td>1</td>\n",
       "      <td>0</td>\n",
       "      <td>0</td>\n",
       "      <td>0</td>\n",
       "      <td>0.000000</td>\n",
       "      <td>1</td>\n",
       "    </tr>\n",
       "    <tr>\n",
       "      <th>24</th>\n",
       "      <td>25</td>\n",
       "      <td>1</td>\n",
       "      <td>1</td>\n",
       "      <td>0.936</td>\n",
       "      <td>0.064</td>\n",
       "      <td>Wolmer</td>\n",
       "      <td>Unknown</td>\n",
       "      <td>1</td>\n",
       "      <td>NaN</td>\n",
       "      <td>House Webber</td>\n",
       "      <td>...</td>\n",
       "      <td>NaN</td>\n",
       "      <td>NaN</td>\n",
       "      <td>NaN</td>\n",
       "      <td>0</td>\n",
       "      <td>0</td>\n",
       "      <td>0</td>\n",
       "      <td>0</td>\n",
       "      <td>0</td>\n",
       "      <td>0.003344</td>\n",
       "      <td>1</td>\n",
       "    </tr>\n",
       "    <tr>\n",
       "      <th>25</th>\n",
       "      <td>26</td>\n",
       "      <td>0</td>\n",
       "      <td>0</td>\n",
       "      <td>0.217</td>\n",
       "      <td>0.783</td>\n",
       "      <td>Willow Witch-eye</td>\n",
       "      <td>Vassal</td>\n",
       "      <td>0</td>\n",
       "      <td>Free Folk</td>\n",
       "      <td>NaN</td>\n",
       "      <td>...</td>\n",
       "      <td>NaN</td>\n",
       "      <td>NaN</td>\n",
       "      <td>NaN</td>\n",
       "      <td>0</td>\n",
       "      <td>0</td>\n",
       "      <td>0</td>\n",
       "      <td>0</td>\n",
       "      <td>0</td>\n",
       "      <td>0.050167</td>\n",
       "      <td>0</td>\n",
       "    </tr>\n",
       "    <tr>\n",
       "      <th>26</th>\n",
       "      <td>27</td>\n",
       "      <td>0</td>\n",
       "      <td>0</td>\n",
       "      <td>0.193</td>\n",
       "      <td>0.807</td>\n",
       "      <td>Woth</td>\n",
       "      <td>Vassal</td>\n",
       "      <td>1</td>\n",
       "      <td>NaN</td>\n",
       "      <td>NaN</td>\n",
       "      <td>...</td>\n",
       "      <td>NaN</td>\n",
       "      <td>NaN</td>\n",
       "      <td>NaN</td>\n",
       "      <td>0</td>\n",
       "      <td>0</td>\n",
       "      <td>0</td>\n",
       "      <td>0</td>\n",
       "      <td>0</td>\n",
       "      <td>0.030100</td>\n",
       "      <td>0</td>\n",
       "    </tr>\n",
       "    <tr>\n",
       "      <th>27</th>\n",
       "      <td>28</td>\n",
       "      <td>1</td>\n",
       "      <td>1</td>\n",
       "      <td>0.710</td>\n",
       "      <td>0.290</td>\n",
       "      <td>Wulfe</td>\n",
       "      <td>Vassal</td>\n",
       "      <td>1</td>\n",
       "      <td>Ironborn</td>\n",
       "      <td>House Greyjoy</td>\n",
       "      <td>...</td>\n",
       "      <td>NaN</td>\n",
       "      <td>NaN</td>\n",
       "      <td>NaN</td>\n",
       "      <td>0</td>\n",
       "      <td>0</td>\n",
       "      <td>0</td>\n",
       "      <td>0</td>\n",
       "      <td>0</td>\n",
       "      <td>0.023411</td>\n",
       "      <td>1</td>\n",
       "    </tr>\n",
       "    <tr>\n",
       "      <th>28</th>\n",
       "      <td>29</td>\n",
       "      <td>1</td>\n",
       "      <td>1</td>\n",
       "      <td>0.809</td>\n",
       "      <td>0.191</td>\n",
       "      <td>Wyl the Whittler</td>\n",
       "      <td>NaN</td>\n",
       "      <td>0</td>\n",
       "      <td>Andal</td>\n",
       "      <td>NaN</td>\n",
       "      <td>...</td>\n",
       "      <td>NaN</td>\n",
       "      <td>NaN</td>\n",
       "      <td>NaN</td>\n",
       "      <td>0</td>\n",
       "      <td>0</td>\n",
       "      <td>0</td>\n",
       "      <td>0</td>\n",
       "      <td>0</td>\n",
       "      <td>0.006689</td>\n",
       "      <td>1</td>\n",
       "    </tr>\n",
       "    <tr>\n",
       "      <th>29</th>\n",
       "      <td>30</td>\n",
       "      <td>0</td>\n",
       "      <td>0</td>\n",
       "      <td>0.203</td>\n",
       "      <td>0.797</td>\n",
       "      <td>Wyl (guard)</td>\n",
       "      <td>Vassal</td>\n",
       "      <td>0</td>\n",
       "      <td>Northmen</td>\n",
       "      <td>House Stark</td>\n",
       "      <td>...</td>\n",
       "      <td>NaN</td>\n",
       "      <td>NaN</td>\n",
       "      <td>NaN</td>\n",
       "      <td>0</td>\n",
       "      <td>0</td>\n",
       "      <td>0</td>\n",
       "      <td>0</td>\n",
       "      <td>0</td>\n",
       "      <td>0.026756</td>\n",
       "      <td>0</td>\n",
       "    </tr>\n",
       "    <tr>\n",
       "      <th>...</th>\n",
       "      <td>...</td>\n",
       "      <td>...</td>\n",
       "      <td>...</td>\n",
       "      <td>...</td>\n",
       "      <td>...</td>\n",
       "      <td>...</td>\n",
       "      <td>...</td>\n",
       "      <td>...</td>\n",
       "      <td>...</td>\n",
       "      <td>...</td>\n",
       "      <td>...</td>\n",
       "      <td>...</td>\n",
       "      <td>...</td>\n",
       "      <td>...</td>\n",
       "      <td>...</td>\n",
       "      <td>...</td>\n",
       "      <td>...</td>\n",
       "      <td>...</td>\n",
       "      <td>...</td>\n",
       "      <td>...</td>\n",
       "      <td>...</td>\n",
       "    </tr>\n",
       "    <tr>\n",
       "      <th>1916</th>\n",
       "      <td>1917</td>\n",
       "      <td>1</td>\n",
       "      <td>1</td>\n",
       "      <td>0.530</td>\n",
       "      <td>0.470</td>\n",
       "      <td>Tygett Lannister</td>\n",
       "      <td>Ser</td>\n",
       "      <td>1</td>\n",
       "      <td>Valyrian</td>\n",
       "      <td>House Lannister</td>\n",
       "      <td>...</td>\n",
       "      <td>NaN</td>\n",
       "      <td>NaN</td>\n",
       "      <td>1.0</td>\n",
       "      <td>1</td>\n",
       "      <td>1</td>\n",
       "      <td>0</td>\n",
       "      <td>0</td>\n",
       "      <td>0</td>\n",
       "      <td>0.110368</td>\n",
       "      <td>1</td>\n",
       "    </tr>\n",
       "    <tr>\n",
       "      <th>1917</th>\n",
       "      <td>1918</td>\n",
       "      <td>1</td>\n",
       "      <td>1</td>\n",
       "      <td>0.759</td>\n",
       "      <td>0.241</td>\n",
       "      <td>Sarella Sand</td>\n",
       "      <td>Sand Snakes</td>\n",
       "      <td>0</td>\n",
       "      <td>Dornishmen</td>\n",
       "      <td>House Martell</td>\n",
       "      <td>...</td>\n",
       "      <td>NaN</td>\n",
       "      <td>NaN</td>\n",
       "      <td>NaN</td>\n",
       "      <td>0</td>\n",
       "      <td>0</td>\n",
       "      <td>1</td>\n",
       "      <td>1</td>\n",
       "      <td>0</td>\n",
       "      <td>0.103679</td>\n",
       "      <td>1</td>\n",
       "    </tr>\n",
       "    <tr>\n",
       "      <th>1918</th>\n",
       "      <td>1919</td>\n",
       "      <td>0</td>\n",
       "      <td>0</td>\n",
       "      <td>0.001</td>\n",
       "      <td>0.999</td>\n",
       "      <td>Rhaegar Targaryen</td>\n",
       "      <td>Prince of Dragonstone</td>\n",
       "      <td>1</td>\n",
       "      <td>Valyrian</td>\n",
       "      <td>House Targaryen</td>\n",
       "      <td>...</td>\n",
       "      <td>NaN</td>\n",
       "      <td>NaN</td>\n",
       "      <td>0.0</td>\n",
       "      <td>1</td>\n",
       "      <td>1</td>\n",
       "      <td>11</td>\n",
       "      <td>1</td>\n",
       "      <td>1</td>\n",
       "      <td>0.799331</td>\n",
       "      <td>0</td>\n",
       "    </tr>\n",
       "    <tr>\n",
       "      <th>1919</th>\n",
       "      <td>1920</td>\n",
       "      <td>0</td>\n",
       "      <td>0</td>\n",
       "      <td>0.035</td>\n",
       "      <td>0.965</td>\n",
       "      <td>Drogo</td>\n",
       "      <td>Khal</td>\n",
       "      <td>0</td>\n",
       "      <td>Dothraki</td>\n",
       "      <td>House Clegane</td>\n",
       "      <td>...</td>\n",
       "      <td>NaN</td>\n",
       "      <td>NaN</td>\n",
       "      <td>1.0</td>\n",
       "      <td>1</td>\n",
       "      <td>0</td>\n",
       "      <td>5</td>\n",
       "      <td>1</td>\n",
       "      <td>1</td>\n",
       "      <td>0.558528</td>\n",
       "      <td>0</td>\n",
       "    </tr>\n",
       "    <tr>\n",
       "      <th>1920</th>\n",
       "      <td>1921</td>\n",
       "      <td>1</td>\n",
       "      <td>0</td>\n",
       "      <td>0.138</td>\n",
       "      <td>0.862</td>\n",
       "      <td>Dunsen</td>\n",
       "      <td>Soldier</td>\n",
       "      <td>1</td>\n",
       "      <td>Andal</td>\n",
       "      <td>House Clegane</td>\n",
       "      <td>...</td>\n",
       "      <td>NaN</td>\n",
       "      <td>NaN</td>\n",
       "      <td>NaN</td>\n",
       "      <td>0</td>\n",
       "      <td>0</td>\n",
       "      <td>0</td>\n",
       "      <td>0</td>\n",
       "      <td>0</td>\n",
       "      <td>0.040134</td>\n",
       "      <td>1</td>\n",
       "    </tr>\n",
       "    <tr>\n",
       "      <th>1921</th>\n",
       "      <td>1922</td>\n",
       "      <td>0</td>\n",
       "      <td>0</td>\n",
       "      <td>0.115</td>\n",
       "      <td>0.885</td>\n",
       "      <td>Barra</td>\n",
       "      <td>bastard</td>\n",
       "      <td>1</td>\n",
       "      <td>Andal</td>\n",
       "      <td>House Baratheon</td>\n",
       "      <td>...</td>\n",
       "      <td>NaN</td>\n",
       "      <td>NaN</td>\n",
       "      <td>NaN</td>\n",
       "      <td>0</td>\n",
       "      <td>0</td>\n",
       "      <td>1</td>\n",
       "      <td>1</td>\n",
       "      <td>0</td>\n",
       "      <td>0.107023</td>\n",
       "      <td>0</td>\n",
       "    </tr>\n",
       "    <tr>\n",
       "      <th>1922</th>\n",
       "      <td>1923</td>\n",
       "      <td>1</td>\n",
       "      <td>1</td>\n",
       "      <td>0.985</td>\n",
       "      <td>0.015</td>\n",
       "      <td>Bethany Bolton</td>\n",
       "      <td>the Dreadfort</td>\n",
       "      <td>1</td>\n",
       "      <td>Northmen</td>\n",
       "      <td>House Bolton</td>\n",
       "      <td>...</td>\n",
       "      <td>NaN</td>\n",
       "      <td>NaN</td>\n",
       "      <td>1.0</td>\n",
       "      <td>1</td>\n",
       "      <td>1</td>\n",
       "      <td>0</td>\n",
       "      <td>0</td>\n",
       "      <td>0</td>\n",
       "      <td>0.043478</td>\n",
       "      <td>1</td>\n",
       "    </tr>\n",
       "    <tr>\n",
       "      <th>1923</th>\n",
       "      <td>1924</td>\n",
       "      <td>1</td>\n",
       "      <td>1</td>\n",
       "      <td>0.570</td>\n",
       "      <td>0.430</td>\n",
       "      <td>Desmond Grell</td>\n",
       "      <td>Ser</td>\n",
       "      <td>0</td>\n",
       "      <td>Northmen</td>\n",
       "      <td>House Grell</td>\n",
       "      <td>...</td>\n",
       "      <td>NaN</td>\n",
       "      <td>NaN</td>\n",
       "      <td>NaN</td>\n",
       "      <td>0</td>\n",
       "      <td>1</td>\n",
       "      <td>0</td>\n",
       "      <td>0</td>\n",
       "      <td>0</td>\n",
       "      <td>0.076923</td>\n",
       "      <td>1</td>\n",
       "    </tr>\n",
       "    <tr>\n",
       "      <th>1924</th>\n",
       "      <td>1925</td>\n",
       "      <td>1</td>\n",
       "      <td>0</td>\n",
       "      <td>0.353</td>\n",
       "      <td>0.647</td>\n",
       "      <td>Devan Seaworth</td>\n",
       "      <td>Squire</td>\n",
       "      <td>1</td>\n",
       "      <td>Northmen</td>\n",
       "      <td>House Seaworth</td>\n",
       "      <td>...</td>\n",
       "      <td>NaN</td>\n",
       "      <td>NaN</td>\n",
       "      <td>NaN</td>\n",
       "      <td>0</td>\n",
       "      <td>0</td>\n",
       "      <td>0</td>\n",
       "      <td>0</td>\n",
       "      <td>0</td>\n",
       "      <td>0.093645</td>\n",
       "      <td>1</td>\n",
       "    </tr>\n",
       "    <tr>\n",
       "      <th>1925</th>\n",
       "      <td>1926</td>\n",
       "      <td>1</td>\n",
       "      <td>0</td>\n",
       "      <td>0.226</td>\n",
       "      <td>0.774</td>\n",
       "      <td>Gendry</td>\n",
       "      <td>Ser</td>\n",
       "      <td>1</td>\n",
       "      <td>Andal</td>\n",
       "      <td>brotherhood without banners</td>\n",
       "      <td>...</td>\n",
       "      <td>NaN</td>\n",
       "      <td>NaN</td>\n",
       "      <td>NaN</td>\n",
       "      <td>0</td>\n",
       "      <td>1</td>\n",
       "      <td>2</td>\n",
       "      <td>1</td>\n",
       "      <td>1</td>\n",
       "      <td>0.438127</td>\n",
       "      <td>1</td>\n",
       "    </tr>\n",
       "    <tr>\n",
       "      <th>1926</th>\n",
       "      <td>1927</td>\n",
       "      <td>1</td>\n",
       "      <td>1</td>\n",
       "      <td>0.964</td>\n",
       "      <td>0.036</td>\n",
       "      <td>Gorold Goodbrother</td>\n",
       "      <td>Lord</td>\n",
       "      <td>1</td>\n",
       "      <td>Ironborn</td>\n",
       "      <td>House Goodbrother</td>\n",
       "      <td>...</td>\n",
       "      <td>NaN</td>\n",
       "      <td>NaN</td>\n",
       "      <td>NaN</td>\n",
       "      <td>0</td>\n",
       "      <td>0</td>\n",
       "      <td>0</td>\n",
       "      <td>0</td>\n",
       "      <td>0</td>\n",
       "      <td>0.026756</td>\n",
       "      <td>1</td>\n",
       "    </tr>\n",
       "    <tr>\n",
       "      <th>1927</th>\n",
       "      <td>1928</td>\n",
       "      <td>1</td>\n",
       "      <td>0</td>\n",
       "      <td>0.468</td>\n",
       "      <td>0.532</td>\n",
       "      <td>Loras Tyrell</td>\n",
       "      <td>Ser</td>\n",
       "      <td>1</td>\n",
       "      <td>The Reach</td>\n",
       "      <td>House Tyrell</td>\n",
       "      <td>...</td>\n",
       "      <td>NaN</td>\n",
       "      <td>NaN</td>\n",
       "      <td>NaN</td>\n",
       "      <td>0</td>\n",
       "      <td>1</td>\n",
       "      <td>2</td>\n",
       "      <td>1</td>\n",
       "      <td>1</td>\n",
       "      <td>0.665552</td>\n",
       "      <td>1</td>\n",
       "    </tr>\n",
       "    <tr>\n",
       "      <th>1928</th>\n",
       "      <td>1929</td>\n",
       "      <td>1</td>\n",
       "      <td>1</td>\n",
       "      <td>0.918</td>\n",
       "      <td>0.082</td>\n",
       "      <td>Ricasso</td>\n",
       "      <td>seneschal</td>\n",
       "      <td>0</td>\n",
       "      <td>Westeros</td>\n",
       "      <td>House Martell</td>\n",
       "      <td>...</td>\n",
       "      <td>NaN</td>\n",
       "      <td>NaN</td>\n",
       "      <td>NaN</td>\n",
       "      <td>0</td>\n",
       "      <td>1</td>\n",
       "      <td>0</td>\n",
       "      <td>0</td>\n",
       "      <td>0</td>\n",
       "      <td>0.070234</td>\n",
       "      <td>1</td>\n",
       "    </tr>\n",
       "    <tr>\n",
       "      <th>1929</th>\n",
       "      <td>1930</td>\n",
       "      <td>0</td>\n",
       "      <td>0</td>\n",
       "      <td>0.199</td>\n",
       "      <td>0.801</td>\n",
       "      <td>Stalwart Shield</td>\n",
       "      <td>Warrior</td>\n",
       "      <td>0</td>\n",
       "      <td>Unsullied</td>\n",
       "      <td>Unsullied</td>\n",
       "      <td>...</td>\n",
       "      <td>NaN</td>\n",
       "      <td>NaN</td>\n",
       "      <td>NaN</td>\n",
       "      <td>0</td>\n",
       "      <td>0</td>\n",
       "      <td>0</td>\n",
       "      <td>0</td>\n",
       "      <td>0</td>\n",
       "      <td>0.043478</td>\n",
       "      <td>0</td>\n",
       "    </tr>\n",
       "    <tr>\n",
       "      <th>1930</th>\n",
       "      <td>1931</td>\n",
       "      <td>1</td>\n",
       "      <td>0</td>\n",
       "      <td>0.146</td>\n",
       "      <td>0.854</td>\n",
       "      <td>Yohn Royce</td>\n",
       "      <td>Runestone</td>\n",
       "      <td>1</td>\n",
       "      <td>Valemen</td>\n",
       "      <td>House Royce</td>\n",
       "      <td>...</td>\n",
       "      <td>NaN</td>\n",
       "      <td>NaN</td>\n",
       "      <td>NaN</td>\n",
       "      <td>0</td>\n",
       "      <td>1</td>\n",
       "      <td>2</td>\n",
       "      <td>1</td>\n",
       "      <td>0</td>\n",
       "      <td>0.170569</td>\n",
       "      <td>1</td>\n",
       "    </tr>\n",
       "    <tr>\n",
       "      <th>1931</th>\n",
       "      <td>1932</td>\n",
       "      <td>1</td>\n",
       "      <td>0</td>\n",
       "      <td>0.284</td>\n",
       "      <td>0.716</td>\n",
       "      <td>Yandry</td>\n",
       "      <td>Captain</td>\n",
       "      <td>1</td>\n",
       "      <td>Valyrian</td>\n",
       "      <td>House Targaryen</td>\n",
       "      <td>...</td>\n",
       "      <td>NaN</td>\n",
       "      <td>NaN</td>\n",
       "      <td>1.0</td>\n",
       "      <td>1</td>\n",
       "      <td>0</td>\n",
       "      <td>0</td>\n",
       "      <td>0</td>\n",
       "      <td>0</td>\n",
       "      <td>0.050167</td>\n",
       "      <td>1</td>\n",
       "    </tr>\n",
       "    <tr>\n",
       "      <th>1932</th>\n",
       "      <td>1933</td>\n",
       "      <td>1</td>\n",
       "      <td>1</td>\n",
       "      <td>0.913</td>\n",
       "      <td>0.087</td>\n",
       "      <td>Tarle</td>\n",
       "      <td>Priest of Drowned God</td>\n",
       "      <td>1</td>\n",
       "      <td>Ironborn</td>\n",
       "      <td>Drowned men</td>\n",
       "      <td>...</td>\n",
       "      <td>NaN</td>\n",
       "      <td>NaN</td>\n",
       "      <td>NaN</td>\n",
       "      <td>0</td>\n",
       "      <td>0</td>\n",
       "      <td>0</td>\n",
       "      <td>0</td>\n",
       "      <td>0</td>\n",
       "      <td>0.026756</td>\n",
       "      <td>1</td>\n",
       "    </tr>\n",
       "    <tr>\n",
       "      <th>1933</th>\n",
       "      <td>1934</td>\n",
       "      <td>1</td>\n",
       "      <td>1</td>\n",
       "      <td>0.767</td>\n",
       "      <td>0.233</td>\n",
       "      <td>Temmo</td>\n",
       "      <td>Khal</td>\n",
       "      <td>1</td>\n",
       "      <td>Dothraki</td>\n",
       "      <td>NaN</td>\n",
       "      <td>...</td>\n",
       "      <td>NaN</td>\n",
       "      <td>NaN</td>\n",
       "      <td>NaN</td>\n",
       "      <td>0</td>\n",
       "      <td>0</td>\n",
       "      <td>0</td>\n",
       "      <td>0</td>\n",
       "      <td>0</td>\n",
       "      <td>0.020067</td>\n",
       "      <td>1</td>\n",
       "    </tr>\n",
       "    <tr>\n",
       "      <th>1934</th>\n",
       "      <td>1935</td>\n",
       "      <td>0</td>\n",
       "      <td>0</td>\n",
       "      <td>0.001</td>\n",
       "      <td>0.999</td>\n",
       "      <td>Rohanne Webber</td>\n",
       "      <td>Lady Castely Rock</td>\n",
       "      <td>0</td>\n",
       "      <td>Andal</td>\n",
       "      <td>House Webber</td>\n",
       "      <td>...</td>\n",
       "      <td>NaN</td>\n",
       "      <td>NaN</td>\n",
       "      <td>1.0</td>\n",
       "      <td>1</td>\n",
       "      <td>1</td>\n",
       "      <td>0</td>\n",
       "      <td>0</td>\n",
       "      <td>0</td>\n",
       "      <td>0.170569</td>\n",
       "      <td>0</td>\n",
       "    </tr>\n",
       "    <tr>\n",
       "      <th>1935</th>\n",
       "      <td>1936</td>\n",
       "      <td>1</td>\n",
       "      <td>1</td>\n",
       "      <td>0.930</td>\n",
       "      <td>0.070</td>\n",
       "      <td>Gormond Goodbrother</td>\n",
       "      <td>Lord</td>\n",
       "      <td>1</td>\n",
       "      <td>Ironborn</td>\n",
       "      <td>House Goodbrother</td>\n",
       "      <td>...</td>\n",
       "      <td>NaN</td>\n",
       "      <td>NaN</td>\n",
       "      <td>NaN</td>\n",
       "      <td>0</td>\n",
       "      <td>0</td>\n",
       "      <td>0</td>\n",
       "      <td>0</td>\n",
       "      <td>0</td>\n",
       "      <td>0.040134</td>\n",
       "      <td>1</td>\n",
       "    </tr>\n",
       "    <tr>\n",
       "      <th>1936</th>\n",
       "      <td>1937</td>\n",
       "      <td>1</td>\n",
       "      <td>1</td>\n",
       "      <td>0.847</td>\n",
       "      <td>0.153</td>\n",
       "      <td>Walder Rivers</td>\n",
       "      <td>Ser</td>\n",
       "      <td>1</td>\n",
       "      <td>Rivermen</td>\n",
       "      <td>House Frey</td>\n",
       "      <td>...</td>\n",
       "      <td>NaN</td>\n",
       "      <td>NaN</td>\n",
       "      <td>1.0</td>\n",
       "      <td>1</td>\n",
       "      <td>1</td>\n",
       "      <td>0</td>\n",
       "      <td>0</td>\n",
       "      <td>0</td>\n",
       "      <td>0.080268</td>\n",
       "      <td>1</td>\n",
       "    </tr>\n",
       "    <tr>\n",
       "      <th>1937</th>\n",
       "      <td>1938</td>\n",
       "      <td>0</td>\n",
       "      <td>0</td>\n",
       "      <td>0.155</td>\n",
       "      <td>0.845</td>\n",
       "      <td>Symon Silver Tongue</td>\n",
       "      <td>singer</td>\n",
       "      <td>1</td>\n",
       "      <td>Andal</td>\n",
       "      <td>Unknown</td>\n",
       "      <td>...</td>\n",
       "      <td>NaN</td>\n",
       "      <td>NaN</td>\n",
       "      <td>NaN</td>\n",
       "      <td>0</td>\n",
       "      <td>0</td>\n",
       "      <td>0</td>\n",
       "      <td>0</td>\n",
       "      <td>0</td>\n",
       "      <td>0.046823</td>\n",
       "      <td>0</td>\n",
       "    </tr>\n",
       "    <tr>\n",
       "      <th>1938</th>\n",
       "      <td>1939</td>\n",
       "      <td>1</td>\n",
       "      <td>0</td>\n",
       "      <td>0.201</td>\n",
       "      <td>0.799</td>\n",
       "      <td>Moqorro</td>\n",
       "      <td>Priest of R'hllor</td>\n",
       "      <td>1</td>\n",
       "      <td>Valyrian</td>\n",
       "      <td>R'hllor</td>\n",
       "      <td>...</td>\n",
       "      <td>NaN</td>\n",
       "      <td>NaN</td>\n",
       "      <td>NaN</td>\n",
       "      <td>0</td>\n",
       "      <td>1</td>\n",
       "      <td>0</td>\n",
       "      <td>0</td>\n",
       "      <td>0</td>\n",
       "      <td>0.123746</td>\n",
       "      <td>1</td>\n",
       "    </tr>\n",
       "    <tr>\n",
       "      <th>1939</th>\n",
       "      <td>1940</td>\n",
       "      <td>1</td>\n",
       "      <td>1</td>\n",
       "      <td>0.982</td>\n",
       "      <td>0.018</td>\n",
       "      <td>Meg</td>\n",
       "      <td>mistresses</td>\n",
       "      <td>0</td>\n",
       "      <td>Valyrian</td>\n",
       "      <td>Brotherhood Without Banners</td>\n",
       "      <td>...</td>\n",
       "      <td>NaN</td>\n",
       "      <td>NaN</td>\n",
       "      <td>NaN</td>\n",
       "      <td>0</td>\n",
       "      <td>0</td>\n",
       "      <td>0</td>\n",
       "      <td>0</td>\n",
       "      <td>0</td>\n",
       "      <td>0.010033</td>\n",
       "      <td>1</td>\n",
       "    </tr>\n",
       "    <tr>\n",
       "      <th>1940</th>\n",
       "      <td>1941</td>\n",
       "      <td>0</td>\n",
       "      <td>0</td>\n",
       "      <td>0.003</td>\n",
       "      <td>0.997</td>\n",
       "      <td>Laena Velaryon</td>\n",
       "      <td>Princess</td>\n",
       "      <td>0</td>\n",
       "      <td>Valyrian</td>\n",
       "      <td>House Targaryen</td>\n",
       "      <td>...</td>\n",
       "      <td>NaN</td>\n",
       "      <td>NaN</td>\n",
       "      <td>0.0</td>\n",
       "      <td>1</td>\n",
       "      <td>0</td>\n",
       "      <td>0</td>\n",
       "      <td>0</td>\n",
       "      <td>0</td>\n",
       "      <td>0.140468</td>\n",
       "      <td>0</td>\n",
       "    </tr>\n",
       "    <tr>\n",
       "      <th>1941</th>\n",
       "      <td>1942</td>\n",
       "      <td>0</td>\n",
       "      <td>1</td>\n",
       "      <td>0.803</td>\n",
       "      <td>0.197</td>\n",
       "      <td>Luwin</td>\n",
       "      <td>Maester</td>\n",
       "      <td>1</td>\n",
       "      <td>Westeros</td>\n",
       "      <td>House Stark</td>\n",
       "      <td>...</td>\n",
       "      <td>NaN</td>\n",
       "      <td>NaN</td>\n",
       "      <td>NaN</td>\n",
       "      <td>0</td>\n",
       "      <td>0</td>\n",
       "      <td>0</td>\n",
       "      <td>0</td>\n",
       "      <td>1</td>\n",
       "      <td>0.351171</td>\n",
       "      <td>0</td>\n",
       "    </tr>\n",
       "    <tr>\n",
       "      <th>1942</th>\n",
       "      <td>1943</td>\n",
       "      <td>0</td>\n",
       "      <td>1</td>\n",
       "      <td>0.987</td>\n",
       "      <td>0.013</td>\n",
       "      <td>Reek</td>\n",
       "      <td>Servant</td>\n",
       "      <td>1</td>\n",
       "      <td>Northmen</td>\n",
       "      <td>House Bolton</td>\n",
       "      <td>...</td>\n",
       "      <td>NaN</td>\n",
       "      <td>NaN</td>\n",
       "      <td>NaN</td>\n",
       "      <td>0</td>\n",
       "      <td>0</td>\n",
       "      <td>0</td>\n",
       "      <td>0</td>\n",
       "      <td>0</td>\n",
       "      <td>0.096990</td>\n",
       "      <td>0</td>\n",
       "    </tr>\n",
       "    <tr>\n",
       "      <th>1943</th>\n",
       "      <td>1944</td>\n",
       "      <td>1</td>\n",
       "      <td>1</td>\n",
       "      <td>0.520</td>\n",
       "      <td>0.480</td>\n",
       "      <td>Symeon Star-Eyes</td>\n",
       "      <td>knight</td>\n",
       "      <td>1</td>\n",
       "      <td>Andal</td>\n",
       "      <td>Unknown</td>\n",
       "      <td>...</td>\n",
       "      <td>NaN</td>\n",
       "      <td>NaN</td>\n",
       "      <td>NaN</td>\n",
       "      <td>0</td>\n",
       "      <td>0</td>\n",
       "      <td>0</td>\n",
       "      <td>0</td>\n",
       "      <td>0</td>\n",
       "      <td>0.030100</td>\n",
       "      <td>1</td>\n",
       "    </tr>\n",
       "    <tr>\n",
       "      <th>1944</th>\n",
       "      <td>1945</td>\n",
       "      <td>1</td>\n",
       "      <td>1</td>\n",
       "      <td>0.637</td>\n",
       "      <td>0.363</td>\n",
       "      <td>Coldhands</td>\n",
       "      <td>Unknown</td>\n",
       "      <td>1</td>\n",
       "      <td>Northmen</td>\n",
       "      <td>Three-eyed crow</td>\n",
       "      <td>...</td>\n",
       "      <td>NaN</td>\n",
       "      <td>NaN</td>\n",
       "      <td>NaN</td>\n",
       "      <td>0</td>\n",
       "      <td>0</td>\n",
       "      <td>0</td>\n",
       "      <td>0</td>\n",
       "      <td>0</td>\n",
       "      <td>0.130435</td>\n",
       "      <td>1</td>\n",
       "    </tr>\n",
       "    <tr>\n",
       "      <th>1945</th>\n",
       "      <td>1946</td>\n",
       "      <td>0</td>\n",
       "      <td>0</td>\n",
       "      <td>0.093</td>\n",
       "      <td>0.907</td>\n",
       "      <td>Tytos Lannister</td>\n",
       "      <td>Casterly Rock</td>\n",
       "      <td>1</td>\n",
       "      <td>Andal</td>\n",
       "      <td>House Lannister</td>\n",
       "      <td>...</td>\n",
       "      <td>NaN</td>\n",
       "      <td>NaN</td>\n",
       "      <td>1.0</td>\n",
       "      <td>1</td>\n",
       "      <td>1</td>\n",
       "      <td>4</td>\n",
       "      <td>1</td>\n",
       "      <td>0</td>\n",
       "      <td>0.210702</td>\n",
       "      <td>0</td>\n",
       "    </tr>\n",
       "  </tbody>\n",
       "</table>\n",
       "<p>1946 rows × 27 columns</p>\n",
       "</div>"
      ],
      "text/plain": [
       "      S.No  actual  pred  alive   plod                  name  \\\n",
       "0        1       0     0  0.054  0.946  Viserys II Targaryen   \n",
       "1        2       1     0  0.387  0.613           Walder Frey   \n",
       "2        3       1     0  0.493  0.507          Addison Hill   \n",
       "3        4       0     0  0.076  0.924           Aemma Arryn   \n",
       "4        5       1     1  0.617  0.383        Sylva Santagar   \n",
       "5        6       1     0  0.021  0.979      Tommen Baratheon   \n",
       "6        7       0     0  0.014  0.986      Valarr Targaryen   \n",
       "7        8       0     0  0.036  0.964   Viserys I Targaryen   \n",
       "8        9       0     1  0.724  0.276               Wilbert   \n",
       "9       10       1     0  0.391  0.609        Wilbert Osgrey   \n",
       "10      11       0     0  0.167  0.833                  Will   \n",
       "11      12       1     1  0.985  0.015         Will (orphan)   \n",
       "12      13       1     1  0.813  0.187         Will (squire)   \n",
       "13      14       1     1  0.747  0.253      Will (Standfast)   \n",
       "14      15       1     1  0.705  0.295           Will (Treb)   \n",
       "15      16       1     1  0.996  0.004           Will Humble   \n",
       "16      17       1     1  0.984  0.016                Willam   \n",
       "17      18       1     1  0.604  0.396          Willem Wylde   \n",
       "18      19       1     1  0.998  0.002              Willifer   \n",
       "19      20       1     1  0.922  0.078                Willit   \n",
       "20      21       1     1  0.974  0.026           Willis Wode   \n",
       "21      22       1     0  0.022  0.978           Willis Fell   \n",
       "22      23       1     1  0.768  0.232         Willow Heddle   \n",
       "23      24       1     1  0.561  0.439                Willum   \n",
       "24      25       1     1  0.936  0.064                Wolmer   \n",
       "25      26       0     0  0.217  0.783      Willow Witch-eye   \n",
       "26      27       0     0  0.193  0.807                  Woth   \n",
       "27      28       1     1  0.710  0.290                 Wulfe   \n",
       "28      29       1     1  0.809  0.191      Wyl the Whittler   \n",
       "29      30       0     0  0.203  0.797           Wyl (guard)   \n",
       "...    ...     ...   ...    ...    ...                   ...   \n",
       "1916  1917       1     1  0.530  0.470      Tygett Lannister   \n",
       "1917  1918       1     1  0.759  0.241          Sarella Sand   \n",
       "1918  1919       0     0  0.001  0.999     Rhaegar Targaryen   \n",
       "1919  1920       0     0  0.035  0.965                 Drogo   \n",
       "1920  1921       1     0  0.138  0.862                Dunsen   \n",
       "1921  1922       0     0  0.115  0.885                 Barra   \n",
       "1922  1923       1     1  0.985  0.015        Bethany Bolton   \n",
       "1923  1924       1     1  0.570  0.430         Desmond Grell   \n",
       "1924  1925       1     0  0.353  0.647        Devan Seaworth   \n",
       "1925  1926       1     0  0.226  0.774                Gendry   \n",
       "1926  1927       1     1  0.964  0.036    Gorold Goodbrother   \n",
       "1927  1928       1     0  0.468  0.532          Loras Tyrell   \n",
       "1928  1929       1     1  0.918  0.082               Ricasso   \n",
       "1929  1930       0     0  0.199  0.801       Stalwart Shield   \n",
       "1930  1931       1     0  0.146  0.854            Yohn Royce   \n",
       "1931  1932       1     0  0.284  0.716                Yandry   \n",
       "1932  1933       1     1  0.913  0.087                 Tarle   \n",
       "1933  1934       1     1  0.767  0.233                 Temmo   \n",
       "1934  1935       0     0  0.001  0.999        Rohanne Webber   \n",
       "1935  1936       1     1  0.930  0.070   Gormond Goodbrother   \n",
       "1936  1937       1     1  0.847  0.153         Walder Rivers   \n",
       "1937  1938       0     0  0.155  0.845   Symon Silver Tongue   \n",
       "1938  1939       1     0  0.201  0.799               Moqorro   \n",
       "1939  1940       1     1  0.982  0.018                   Meg   \n",
       "1940  1941       0     0  0.003  0.997        Laena Velaryon   \n",
       "1941  1942       0     1  0.803  0.197                 Luwin   \n",
       "1942  1943       0     1  0.987  0.013                  Reek   \n",
       "1943  1944       1     1  0.520  0.480      Symeon Star-Eyes   \n",
       "1944  1945       1     1  0.637  0.363             Coldhands   \n",
       "1945  1946       0     0  0.093  0.907       Tytos Lannister   \n",
       "\n",
       "                           title  male     culture  \\\n",
       "0     Lord of the seven kingdoms     1    Valyrian   \n",
       "1           Lord of the Crossing     1    Rivermen   \n",
       "2                 Lord Commander     1    Valyrian   \n",
       "3                  Queen Consort     0       Andal   \n",
       "4                     Greenstone     0     Dornish   \n",
       "5                           King     1       Andal   \n",
       "6               Hand of the King     1    Valyrian   \n",
       "7             King of the Andals     1    Valyrian   \n",
       "8                            Ser     1       Andal   \n",
       "9                            Ser     1       Andal   \n",
       "10                       Unknown     1       Andal   \n",
       "11                       Unknown     0       Andal   \n",
       "12                       Unknown     1       Andal   \n",
       "13                       Unknown     0       Andal   \n",
       "14                       Unknown     1       Andal   \n",
       "15                       Unknown     1    Ironborn   \n",
       "16                       Unknown     1       Andal   \n",
       "17                   Kingsguard      1       Andal   \n",
       "18                   Archmaester     0       Andal   \n",
       "19                       Unknown     1       Andal   \n",
       "20                           Ser     1       Andal   \n",
       "21                           Ser     0         NaN   \n",
       "22                       Unknown     0         NaN   \n",
       "23                           Ser     1         NaN   \n",
       "24                       Unknown     1         NaN   \n",
       "25                        Vassal     0   Free Folk   \n",
       "26                        Vassal     1         NaN   \n",
       "27                        Vassal     1    Ironborn   \n",
       "28                           NaN     0       Andal   \n",
       "29                        Vassal     0    Northmen   \n",
       "...                          ...   ...         ...   \n",
       "1916                         Ser     1    Valyrian   \n",
       "1917                 Sand Snakes     0  Dornishmen   \n",
       "1918       Prince of Dragonstone     1    Valyrian   \n",
       "1919                        Khal     0    Dothraki   \n",
       "1920                    Soldier      1       Andal   \n",
       "1921                     bastard     1       Andal   \n",
       "1922               the Dreadfort     1    Northmen   \n",
       "1923                         Ser     0    Northmen   \n",
       "1924                      Squire     1    Northmen   \n",
       "1925                         Ser     1       Andal   \n",
       "1926                        Lord     1    Ironborn   \n",
       "1927                         Ser     1   The Reach   \n",
       "1928                   seneschal     0    Westeros   \n",
       "1929                     Warrior     0   Unsullied   \n",
       "1930                   Runestone     1     Valemen   \n",
       "1931                     Captain     1    Valyrian   \n",
       "1932       Priest of Drowned God     1    Ironborn   \n",
       "1933                        Khal     1    Dothraki   \n",
       "1934           Lady Castely Rock     0       Andal   \n",
       "1935                        Lord     1    Ironborn   \n",
       "1936                         Ser     1    Rivermen   \n",
       "1937                      singer     1       Andal   \n",
       "1938           Priest of R'hllor     1    Valyrian   \n",
       "1939                  mistresses     0    Valyrian   \n",
       "1940                    Princess     0    Valyrian   \n",
       "1941                    Maester      1    Westeros   \n",
       "1942                     Servant     1    Northmen   \n",
       "1943                      knight     1       Andal   \n",
       "1944                     Unknown     1    Northmen   \n",
       "1945               Casterly Rock     1       Andal   \n",
       "\n",
       "                            house   ...    isAliveFather  isAliveHeir  \\\n",
       "0                             NaN   ...              0.0          0.0   \n",
       "1                      House Frey   ...              NaN          NaN   \n",
       "2                     House Swyft   ...              0.0          NaN   \n",
       "3                     House Arryn   ...              0.0          0.0   \n",
       "4                  House Santagar   ...              NaN          NaN   \n",
       "5                 House Lannister   ...              1.0          1.0   \n",
       "6                 House Targaryen   ...              NaN          NaN   \n",
       "7                 House Targaryen   ...              1.0          1.0   \n",
       "8                             NaN   ...              NaN          NaN   \n",
       "9                    House Tyrell   ...              NaN          NaN   \n",
       "10                  Night's Watch   ...              NaN          NaN   \n",
       "11                            NaN   ...              NaN          NaN   \n",
       "12                            NaN   ...              NaN          NaN   \n",
       "13                   House Osgrey   ...              NaN          NaN   \n",
       "14                   House Osgrey   ...              NaN          NaN   \n",
       "15                   House Humble   ...              NaN          NaN   \n",
       "16                            NaN   ...              NaN          NaN   \n",
       "17                House Baratheon   ...              NaN          NaN   \n",
       "18                            NaN   ...              NaN          NaN   \n",
       "19                    House Swyft   ...              NaN          NaN   \n",
       "20                    House Tully   ...              NaN          NaN   \n",
       "21                     House Fell   ...              NaN          NaN   \n",
       "22    Brotherhood Without Banners   ...              NaN          NaN   \n",
       "23                            NaN   ...              NaN          NaN   \n",
       "24                   House Webber   ...              NaN          NaN   \n",
       "25                            NaN   ...              NaN          NaN   \n",
       "26                            NaN   ...              NaN          NaN   \n",
       "27                  House Greyjoy   ...              NaN          NaN   \n",
       "28                            NaN   ...              NaN          NaN   \n",
       "29                    House Stark   ...              NaN          NaN   \n",
       "...                           ...   ...              ...          ...   \n",
       "1916              House Lannister   ...              NaN          NaN   \n",
       "1917                House Martell   ...              NaN          NaN   \n",
       "1918              House Targaryen   ...              NaN          NaN   \n",
       "1919                House Clegane   ...              NaN          NaN   \n",
       "1920                House Clegane   ...              NaN          NaN   \n",
       "1921              House Baratheon   ...              NaN          NaN   \n",
       "1922                 House Bolton   ...              NaN          NaN   \n",
       "1923                  House Grell   ...              NaN          NaN   \n",
       "1924               House Seaworth   ...              NaN          NaN   \n",
       "1925  brotherhood without banners   ...              NaN          NaN   \n",
       "1926            House Goodbrother   ...              NaN          NaN   \n",
       "1927                 House Tyrell   ...              NaN          NaN   \n",
       "1928                House Martell   ...              NaN          NaN   \n",
       "1929                    Unsullied   ...              NaN          NaN   \n",
       "1930                  House Royce   ...              NaN          NaN   \n",
       "1931              House Targaryen   ...              NaN          NaN   \n",
       "1932                  Drowned men   ...              NaN          NaN   \n",
       "1933                          NaN   ...              NaN          NaN   \n",
       "1934                 House Webber   ...              NaN          NaN   \n",
       "1935            House Goodbrother   ...              NaN          NaN   \n",
       "1936                   House Frey   ...              NaN          NaN   \n",
       "1937                      Unknown   ...              NaN          NaN   \n",
       "1938                      R'hllor   ...              NaN          NaN   \n",
       "1939  Brotherhood Without Banners   ...              NaN          NaN   \n",
       "1940              House Targaryen   ...              NaN          NaN   \n",
       "1941                  House Stark   ...              NaN          NaN   \n",
       "1942                 House Bolton   ...              NaN          NaN   \n",
       "1943                      Unknown   ...              NaN          NaN   \n",
       "1944              Three-eyed crow   ...              NaN          NaN   \n",
       "1945              House Lannister   ...              NaN          NaN   \n",
       "\n",
       "      isAliveSpouse  isMarried  isNoble  numDeadRelations  boolDeadRelations  \\\n",
       "0               NaN          0        0                11                  1   \n",
       "1               1.0          1        1                 1                  1   \n",
       "2               1.0          0        1                 0                  0   \n",
       "3               0.0          1        1                 0                  0   \n",
       "4               1.0          1        1                 0                  0   \n",
       "5               NaN          0        0                 5                  1   \n",
       "6               1.0          1        1                 0                  0   \n",
       "7               NaN          0        0                 5                  1   \n",
       "8               NaN          0        1                 0                  0   \n",
       "9               NaN          0        1                 0                  0   \n",
       "10              NaN          0        0                 0                  0   \n",
       "11              NaN          0        0                 0                  0   \n",
       "12              NaN          0        0                 0                  0   \n",
       "13              NaN          0        0                 0                  0   \n",
       "14              NaN          0        0                 0                  0   \n",
       "15              NaN          0        0                 0                  0   \n",
       "16              NaN          0        0                 0                  0   \n",
       "17              NaN          0        1                 0                  0   \n",
       "18              NaN          0        1                 0                  0   \n",
       "19              NaN          0        0                 0                  0   \n",
       "20              NaN          0        1                 0                  0   \n",
       "21              NaN          0        1                 0                  0   \n",
       "22              NaN          0        0                 0                  0   \n",
       "23              NaN          0        1                 0                  0   \n",
       "24              NaN          0        0                 0                  0   \n",
       "25              NaN          0        0                 0                  0   \n",
       "26              NaN          0        0                 0                  0   \n",
       "27              NaN          0        0                 0                  0   \n",
       "28              NaN          0        0                 0                  0   \n",
       "29              NaN          0        0                 0                  0   \n",
       "...             ...        ...      ...               ...                ...   \n",
       "1916            1.0          1        1                 0                  0   \n",
       "1917            NaN          0        0                 1                  1   \n",
       "1918            0.0          1        1                11                  1   \n",
       "1919            1.0          1        0                 5                  1   \n",
       "1920            NaN          0        0                 0                  0   \n",
       "1921            NaN          0        0                 1                  1   \n",
       "1922            1.0          1        1                 0                  0   \n",
       "1923            NaN          0        1                 0                  0   \n",
       "1924            NaN          0        0                 0                  0   \n",
       "1925            NaN          0        1                 2                  1   \n",
       "1926            NaN          0        0                 0                  0   \n",
       "1927            NaN          0        1                 2                  1   \n",
       "1928            NaN          0        1                 0                  0   \n",
       "1929            NaN          0        0                 0                  0   \n",
       "1930            NaN          0        1                 2                  1   \n",
       "1931            1.0          1        0                 0                  0   \n",
       "1932            NaN          0        0                 0                  0   \n",
       "1933            NaN          0        0                 0                  0   \n",
       "1934            1.0          1        1                 0                  0   \n",
       "1935            NaN          0        0                 0                  0   \n",
       "1936            1.0          1        1                 0                  0   \n",
       "1937            NaN          0        0                 0                  0   \n",
       "1938            NaN          0        1                 0                  0   \n",
       "1939            NaN          0        0                 0                  0   \n",
       "1940            0.0          1        0                 0                  0   \n",
       "1941            NaN          0        0                 0                  0   \n",
       "1942            NaN          0        0                 0                  0   \n",
       "1943            NaN          0        0                 0                  0   \n",
       "1944            NaN          0        0                 0                  0   \n",
       "1945            1.0          1        1                 4                  1   \n",
       "\n",
       "      isPopular  popularity  isAlive  \n",
       "0             1    0.605351        0  \n",
       "1             1    0.896321        1  \n",
       "2             0    0.267559        1  \n",
       "3             0    0.183946        0  \n",
       "4             0    0.043478        1  \n",
       "5             1    1.000000        1  \n",
       "6             1    0.431438        0  \n",
       "7             1    0.678930        0  \n",
       "8             0    0.006689        0  \n",
       "9             0    0.020067        1  \n",
       "10            0    0.163880        0  \n",
       "11            0    0.003344        1  \n",
       "12            0    0.003344        1  \n",
       "13            0    0.003344        1  \n",
       "14            0    0.003344        1  \n",
       "15            0    0.013378        1  \n",
       "16            0    0.013378        1  \n",
       "17            0    0.020067        1  \n",
       "18            0    0.006689        1  \n",
       "19            0    0.010033        1  \n",
       "20            0    0.020067        1  \n",
       "21            0    0.023411        1  \n",
       "22            0    0.033445        1  \n",
       "23            0    0.000000        1  \n",
       "24            0    0.003344        1  \n",
       "25            0    0.050167        0  \n",
       "26            0    0.030100        0  \n",
       "27            0    0.023411        1  \n",
       "28            0    0.006689        1  \n",
       "29            0    0.026756        0  \n",
       "...         ...         ...      ...  \n",
       "1916          0    0.110368        1  \n",
       "1917          0    0.103679        1  \n",
       "1918          1    0.799331        0  \n",
       "1919          1    0.558528        0  \n",
       "1920          0    0.040134        1  \n",
       "1921          0    0.107023        0  \n",
       "1922          0    0.043478        1  \n",
       "1923          0    0.076923        1  \n",
       "1924          0    0.093645        1  \n",
       "1925          1    0.438127        1  \n",
       "1926          0    0.026756        1  \n",
       "1927          1    0.665552        1  \n",
       "1928          0    0.070234        1  \n",
       "1929          0    0.043478        0  \n",
       "1930          0    0.170569        1  \n",
       "1931          0    0.050167        1  \n",
       "1932          0    0.026756        1  \n",
       "1933          0    0.020067        1  \n",
       "1934          0    0.170569        0  \n",
       "1935          0    0.040134        1  \n",
       "1936          0    0.080268        1  \n",
       "1937          0    0.046823        0  \n",
       "1938          0    0.123746        1  \n",
       "1939          0    0.010033        1  \n",
       "1940          0    0.140468        0  \n",
       "1941          1    0.351171        0  \n",
       "1942          0    0.096990        0  \n",
       "1943          0    0.030100        1  \n",
       "1944          0    0.130435        1  \n",
       "1945          0    0.210702        0  \n",
       "\n",
       "[1946 rows x 27 columns]"
      ]
     },
     "execution_count": 64,
     "metadata": {},
     "output_type": "execute_result"
    }
   ],
   "source": [
    "df"
   ]
  },
  {
   "cell_type": "markdown",
   "metadata": {},
   "source": [
    "\n",
    "## Correlating Popularity and Probability of Death with Tensorflow in GOT Dataset"
   ]
  },
  {
   "cell_type": "code",
   "execution_count": 84,
   "metadata": {
    "collapsed": true
   },
   "outputs": [],
   "source": [
    "# Define hyperparameters\n",
    "learning_rate= 0.001\n",
    "training_epochs=10\n",
    "reg_lambda=0."
   ]
  },
  {
   "cell_type": "code",
   "execution_count": 68,
   "metadata": {},
   "outputs": [],
   "source": [
    "# Training Data \n",
    "\n",
    "train_X = df.as_matrix(columns=df.columns[4:5])"
   ]
  },
  {
   "cell_type": "code",
   "execution_count": 69,
   "metadata": {},
   "outputs": [
    {
     "data": {
      "text/plain": [
       "array([[ 0.946],\n",
       "       [ 0.613],\n",
       "       [ 0.507],\n",
       "       ..., \n",
       "       [ 0.48 ],\n",
       "       [ 0.363],\n",
       "       [ 0.907]])"
      ]
     },
     "execution_count": 69,
     "metadata": {},
     "output_type": "execute_result"
    }
   ],
   "source": [
    "train_X"
   ]
  },
  {
   "cell_type": "code",
   "execution_count": 70,
   "metadata": {
    "collapsed": true
   },
   "outputs": [],
   "source": [
    "train_Y = df.as_matrix(columns=df.columns[24:25])"
   ]
  },
  {
   "cell_type": "code",
   "execution_count": 71,
   "metadata": {},
   "outputs": [
    {
     "data": {
      "text/plain": [
       "array([[1],\n",
       "       [1],\n",
       "       [0],\n",
       "       ..., \n",
       "       [0],\n",
       "       [0],\n",
       "       [0]])"
      ]
     },
     "execution_count": 71,
     "metadata": {},
     "output_type": "execute_result"
    }
   ],
   "source": [
    "train_Y"
   ]
  },
  {
   "cell_type": "code",
   "execution_count": 72,
   "metadata": {
    "collapsed": true
   },
   "outputs": [],
   "source": [
    "\n",
    "#tf Graph Input\n",
    "\n",
    "X = tf.placeholder(tf.float32, name = 'X')\n",
    "Y = tf.placeholder(tf.float32, name = 'Y')"
   ]
  },
  {
   "cell_type": "code",
   "execution_count": 74,
   "metadata": {},
   "outputs": [],
   "source": [
    "#Set model weights\n",
    "#randn give a distribution from standarized normal distribution\n",
    "#mormal takes more parameters for more control \n",
    "\n",
    "W = tf.Variable(np.random.normal(), name=\"weight\")\n",
    "b = tf.Variable(np.random.normal(), name=\"bias\")"
   ]
  },
  {
   "cell_type": "code",
   "execution_count": 77,
   "metadata": {},
   "outputs": [],
   "source": [
    "\n",
    "# Construct a linear model\n",
    "pred = tf.add(tf.multiply(X, W), b)"
   ]
  },
  {
   "cell_type": "code",
   "execution_count": 105,
   "metadata": {
    "collapsed": true
   },
   "outputs": [],
   "source": [
    "#Mean squared error and Gradient descent optimizer \n",
    "cost = tf.reduce_sum(tf.pow(pred-Y, 2))\n",
    "#Minimize minimizes W and b because Variable objects are trainable=True by default\n",
    "optimizer = tf.train.GradientDescentOptimizer(learning_rate).minimize(cost)"
   ]
  },
  {
   "cell_type": "code",
   "execution_count": 106,
   "metadata": {
    "collapsed": true
   },
   "outputs": [],
   "source": [
    "sess= tf.Session()\n",
    "init= tf.global_variables_initializer()\n",
    "sess.run(init)"
   ]
  },
  {
   "cell_type": "code",
   "execution_count": 107,
   "metadata": {},
   "outputs": [],
   "source": [
    "for epoch in range(training_epochs):\n",
    "    for (x,y) in zip(train_X,train_Y):\n",
    "        sess.run(optimizer,feed_dict={X:x,Y:y})\n",
    "w_val= sess.run(W)\n",
    "b_val= sess.run(b)\n",
    "    "
   ]
  },
  {
   "cell_type": "code",
   "execution_count": 108,
   "metadata": {
    "collapsed": true
   },
   "outputs": [],
   "source": [
    "training_cost = sess.run(cost, feed_dict={X: train_X, Y: train_Y})"
   ]
  },
  {
   "cell_type": "code",
   "execution_count": 109,
   "metadata": {},
   "outputs": [
    {
     "data": {
      "text/plain": [
       "103.32274"
      ]
     },
     "execution_count": 109,
     "metadata": {},
     "output_type": "execute_result"
    }
   ],
   "source": [
    "training_cost"
   ]
  },
  {
   "cell_type": "code",
   "execution_count": 110,
   "metadata": {},
   "outputs": [
    {
     "data": {
      "text/plain": [
       "0.2361497"
      ]
     },
     "execution_count": 110,
     "metadata": {},
     "output_type": "execute_result"
    }
   ],
   "source": [
    "w_val"
   ]
  },
  {
   "cell_type": "code",
   "execution_count": 111,
   "metadata": {},
   "outputs": [
    {
     "data": {
      "text/plain": [
       "0.015692377"
      ]
     },
     "execution_count": 111,
     "metadata": {},
     "output_type": "execute_result"
    }
   ],
   "source": [
    "b_val"
   ]
  },
  {
   "cell_type": "code",
   "execution_count": 112,
   "metadata": {},
   "outputs": [
    {
     "data": {
      "text/plain": [
       "[<matplotlib.lines.Line2D at 0x11a3c7fd0>]"
      ]
     },
     "execution_count": 112,
     "metadata": {},
     "output_type": "execute_result"
    },
    {
     "data": {
      "image/png": "[encoded data removed]",
      "text/plain": [
       "<matplotlib.figure.Figure at 0x11a3cd828>"
      ]
     },
     "metadata": {},
     "output_type": "display_data"
    }
   ],
   "source": [
    "plt.plot(train_X, train_Y, 'ro', label='Original data')\n",
    "plt.plot(train_X, sess.run(W) * train_X + sess.run(b), label='Fitted line')"
   ]
  },
  {
   "cell_type": "code",
   "execution_count": null,
   "metadata": {
    "collapsed": true
   },
   "outputs": [],
   "source": []
  },
  {
   "cell_type": "code",
   "execution_count": null,
   "metadata": {
    "collapsed": true
   },
   "outputs": [],
   "source": []
  },
  {
   "cell_type": "code",
   "execution_count": null,
   "metadata": {
    "collapsed": true
   },
   "outputs": [],
   "source": []
  },
  {
   "cell_type": "code",
   "execution_count": null,
   "metadata": {
    "collapsed": true
   },
   "outputs": [],
   "source": []
  },
  {
   "cell_type": "code",
   "execution_count": null,
   "metadata": {
    "collapsed": true
   },
   "outputs": [],
   "source": []
  },
  {
   "cell_type": "code",
   "execution_count": null,
   "metadata": {
    "collapsed": true
   },
   "outputs": [],
   "source": []
  },
  {
   "cell_type": "code",
   "execution_count": null,
   "metadata": {
    "collapsed": true
   },
   "outputs": [],
   "source": []
  },
  {
   "cell_type": "code",
   "execution_count": null,
   "metadata": {
    "collapsed": true
   },
   "outputs": [],
   "source": []
  },
  {
   "cell_type": "code",
   "execution_count": null,
   "metadata": {
    "collapsed": true
   },
   "outputs": [],
   "source": []
  },
  {
   "cell_type": "code",
   "execution_count": null,
   "metadata": {
    "collapsed": true
   },
   "outputs": [],
   "source": []
  },
  {
   "cell_type": "code",
   "execution_count": null,
   "metadata": {
    "collapsed": true
   },
   "outputs": [],
   "source": []
  },
  {
   "cell_type": "code",
   "execution_count": null,
   "metadata": {
    "collapsed": true
   },
   "outputs": [],
   "source": []
  },
  {
   "cell_type": "code",
   "execution_count": null,
   "metadata": {
    "collapsed": true
   },
   "outputs": [],
   "source": []
  },
  {
   "cell_type": "code",
   "execution_count": null,
   "metadata": {
    "collapsed": true
   },
   "outputs": [],
   "source": []
  },
  {
   "cell_type": "code",
   "execution_count": null,
   "metadata": {
    "collapsed": true
   },
   "outputs": [],
   "source": []
  },
  {
   "cell_type": "code",
   "execution_count": null,
   "metadata": {
    "collapsed": true
   },
   "outputs": [],
   "source": []
  },
  {
   "cell_type": "code",
   "execution_count": null,
   "metadata": {
    "collapsed": true
   },
   "outputs": [],
   "source": []
  },
  {
   "cell_type": "code",
   "execution_count": null,
   "metadata": {
    "collapsed": true
   },
   "outputs": [],
   "source": []
  },
  {
   "cell_type": "code",
   "execution_count": null,
   "metadata": {
    "collapsed": true
   },
   "outputs": [],
   "source": []
  },
  {
   "cell_type": "code",
   "execution_count": null,
   "metadata": {
    "collapsed": true
   },
   "outputs": [],
   "source": []
  },
  {
   "cell_type": "code",
   "execution_count": null,
   "metadata": {
    "collapsed": true
   },
   "outputs": [],
   "source": []
  },
  {
   "cell_type": "code",
   "execution_count": null,
   "metadata": {
    "collapsed": true
   },
   "outputs": [],
   "source": []
  },
  {
   "cell_type": "code",
   "execution_count": null,
   "metadata": {
    "collapsed": true
   },
   "outputs": [],
   "source": []
  },
  {
   "cell_type": "code",
   "execution_count": null,
   "metadata": {
    "collapsed": true
   },
   "outputs": [],
   "source": []
  },
  {
   "cell_type": "code",
   "execution_count": null,
   "metadata": {
    "collapsed": true
   },
   "outputs": [],
   "source": []
  },
  {
   "cell_type": "code",
   "execution_count": null,
   "metadata": {
    "collapsed": true
   },
   "outputs": [],
   "source": []
  },
  {
   "cell_type": "code",
   "execution_count": null,
   "metadata": {
    "collapsed": true
   },
   "outputs": [],
   "source": []
  },
  {
   "cell_type": "code",
   "execution_count": null,
   "metadata": {
    "collapsed": true
   },
   "outputs": [],
   "source": []
  },
  {
   "cell_type": "code",
   "execution_count": null,
   "metadata": {
    "collapsed": true
   },
   "outputs": [],
   "source": []
  },
  {
   "cell_type": "code",
   "execution_count": null,
   "metadata": {
    "collapsed": true
   },
   "outputs": [],
   "source": []
  },
  {
   "cell_type": "code",
   "execution_count": null,
   "metadata": {
    "collapsed": true
   },
   "outputs": [],
   "source": []
  },
  {
   "cell_type": "code",
   "execution_count": null,
   "metadata": {
    "collapsed": true
   },
   "outputs": [],
   "source": []
  },
  {
   "cell_type": "code",
   "execution_count": null,
   "metadata": {
    "collapsed": true
   },
   "outputs": [],
   "source": []
  },
  {
   "cell_type": "code",
   "execution_count": null,
   "metadata": {
    "collapsed": true
   },
   "outputs": [],
   "source": []
  },
  {
   "cell_type": "code",
   "execution_count": null,
   "metadata": {
    "collapsed": true
   },
   "outputs": [],
   "source": []
  },
  {
   "cell_type": "code",
   "execution_count": null,
   "metadata": {
    "collapsed": true
   },
   "outputs": [],
   "source": []
  },
  {
   "cell_type": "code",
   "execution_count": null,
   "metadata": {
    "collapsed": true
   },
   "outputs": [],
   "source": []
  },
  {
   "cell_type": "code",
   "execution_count": null,
   "metadata": {
    "collapsed": true
   },
   "outputs": [],
   "source": []
  }
 ],
 "metadata": {
  "kernelspec": {
   "display_name": "Python 3",
   "language": "python",
   "name": "python3"
  },
  "language_info": {
   "codemirror_mode": {
    "name": "ipython",
    "version": 3
   },
   "file_extension": ".py",
   "mimetype": "text/x-python",
   "name": "python",
   "nbconvert_exporter": "python",
   "pygments_lexer": "ipython3",
   "version": "3.6.2"
  }
 },
 "nbformat": 4,
 "nbformat_minor": 2
}
