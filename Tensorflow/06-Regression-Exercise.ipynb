{
 "cells": [
  {
   "cell_type": "markdown",
   "metadata": {},
   "source": [
    "# Regression Exercise \n",
    "\n",
    "California Housing Data\n",
    "\n",
    "This data set contains information about all the block groups in California from the 1990 Census. In this sample a block group on average includes 1425.5 individuals living in a geographically compact area. \n",
    "\n",
    "The task is to aproximate the median house value of each block from the values of the rest of the variables. \n",
    "\n",
    " It has been obtained from the LIACC repository. The original page where the data set can be found is: http://www.liaad.up.pt/~ltorgo/Regression/DataSets.html.\n",
    " "
   ]
  },
  {
   "cell_type": "markdown",
   "metadata": {
    "collapsed": true
   },
   "source": [
    "The Features:\n",
    " \n",
    "* housingMedianAge: continuous. \n",
    "* totalRooms: continuous. \n",
    "* totalBedrooms: continuous. \n",
    "* population: continuous. \n",
    "* households: continuous. \n",
    "* medianIncome: continuous. \n",
    "* medianHouseValue: continuous. "
   ]
  },
  {
   "cell_type": "markdown",
   "metadata": {},
   "source": [
    "## The Data"
   ]
  },
  {
   "cell_type": "markdown",
   "metadata": {},
   "source": [
    "** Import the cal_housing_clean.csv file with pandas. Separate it into a training (70%) and testing set(30%).**"
   ]
  },
  {
   "cell_type": "code",
   "execution_count": 3,
   "metadata": {
    "collapsed": true
   },
   "outputs": [],
   "source": [
    "import numpy as np\n",
    "import pandas as pd\n",
    "import matplotlib.pyplot as plt\n",
    "%matplotlib inline"
   ]
  },
  {
   "cell_type": "code",
   "execution_count": 4,
   "metadata": {},
   "outputs": [],
   "source": [
    "housing= pd.read_csv(\"cal_housing_clean.csv\")"
   ]
  },
  {
   "cell_type": "code",
   "execution_count": 5,
   "metadata": {},
   "outputs": [
    {
     "data": {
      "text/html": [
       "<div>\n",
       "<table border=\"1\" class=\"dataframe\">\n",
       "  <thead>\n",
       "    <tr style=\"text-align: right;\">\n",
       "      <th></th>\n",
       "      <th>housingMedianAge</th>\n",
       "      <th>totalRooms</th>\n",
       "      <th>totalBedrooms</th>\n",
       "      <th>population</th>\n",
       "      <th>households</th>\n",
       "      <th>medianIncome</th>\n",
       "      <th>medianHouseValue</th>\n",
       "    </tr>\n",
       "  </thead>\n",
       "  <tbody>\n",
       "    <tr>\n",
       "      <th>0</th>\n",
       "      <td>41.0</td>\n",
       "      <td>880.0</td>\n",
       "      <td>129.0</td>\n",
       "      <td>322.0</td>\n",
       "      <td>126.0</td>\n",
       "      <td>8.3252</td>\n",
       "      <td>452600.0</td>\n",
       "    </tr>\n",
       "    <tr>\n",
       "      <th>1</th>\n",
       "      <td>21.0</td>\n",
       "      <td>7099.0</td>\n",
       "      <td>1106.0</td>\n",
       "      <td>2401.0</td>\n",
       "      <td>1138.0</td>\n",
       "      <td>8.3014</td>\n",
       "      <td>358500.0</td>\n",
       "    </tr>\n",
       "    <tr>\n",
       "      <th>2</th>\n",
       "      <td>52.0</td>\n",
       "      <td>1467.0</td>\n",
       "      <td>190.0</td>\n",
       "      <td>496.0</td>\n",
       "      <td>177.0</td>\n",
       "      <td>7.2574</td>\n",
       "      <td>352100.0</td>\n",
       "    </tr>\n",
       "    <tr>\n",
       "      <th>3</th>\n",
       "      <td>52.0</td>\n",
       "      <td>1274.0</td>\n",
       "      <td>235.0</td>\n",
       "      <td>558.0</td>\n",
       "      <td>219.0</td>\n",
       "      <td>5.6431</td>\n",
       "      <td>341300.0</td>\n",
       "    </tr>\n",
       "    <tr>\n",
       "      <th>4</th>\n",
       "      <td>52.0</td>\n",
       "      <td>1627.0</td>\n",
       "      <td>280.0</td>\n",
       "      <td>565.0</td>\n",
       "      <td>259.0</td>\n",
       "      <td>3.8462</td>\n",
       "      <td>342200.0</td>\n",
       "    </tr>\n",
       "  </tbody>\n",
       "</table>\n",
       "</div>"
      ],
      "text/plain": [
       "   housingMedianAge  totalRooms  totalBedrooms  population  households  \\\n",
       "0              41.0       880.0          129.0       322.0       126.0   \n",
       "1              21.0      7099.0         1106.0      2401.0      1138.0   \n",
       "2              52.0      1467.0          190.0       496.0       177.0   \n",
       "3              52.0      1274.0          235.0       558.0       219.0   \n",
       "4              52.0      1627.0          280.0       565.0       259.0   \n",
       "\n",
       "   medianIncome  medianHouseValue  \n",
       "0        8.3252          452600.0  \n",
       "1        8.3014          358500.0  \n",
       "2        7.2574          352100.0  \n",
       "3        5.6431          341300.0  \n",
       "4        3.8462          342200.0  "
      ]
     },
     "execution_count": 5,
     "metadata": {},
     "output_type": "execute_result"
    }
   ],
   "source": [
    "housing.head()"
   ]
  },
  {
   "cell_type": "code",
   "execution_count": 6,
   "metadata": {},
   "outputs": [
    {
     "data": {
      "text/html": [
       "<div>\n",
       "<table border=\"1\" class=\"dataframe\">\n",
       "  <thead>\n",
       "    <tr style=\"text-align: right;\">\n",
       "      <th></th>\n",
       "      <th>housingMedianAge</th>\n",
       "      <th>totalRooms</th>\n",
       "      <th>totalBedrooms</th>\n",
       "      <th>population</th>\n",
       "      <th>households</th>\n",
       "      <th>medianIncome</th>\n",
       "      <th>medianHouseValue</th>\n",
       "    </tr>\n",
       "  </thead>\n",
       "  <tbody>\n",
       "    <tr>\n",
       "      <th>count</th>\n",
       "      <td>20640.000000</td>\n",
       "      <td>20640.000000</td>\n",
       "      <td>20640.000000</td>\n",
       "      <td>20640.000000</td>\n",
       "      <td>20640.000000</td>\n",
       "      <td>20640.000000</td>\n",
       "      <td>20640.000000</td>\n",
       "    </tr>\n",
       "    <tr>\n",
       "      <th>mean</th>\n",
       "      <td>28.639486</td>\n",
       "      <td>2635.763081</td>\n",
       "      <td>537.898014</td>\n",
       "      <td>1425.476744</td>\n",
       "      <td>499.539680</td>\n",
       "      <td>3.870671</td>\n",
       "      <td>206855.816909</td>\n",
       "    </tr>\n",
       "    <tr>\n",
       "      <th>std</th>\n",
       "      <td>12.585558</td>\n",
       "      <td>2181.615252</td>\n",
       "      <td>421.247906</td>\n",
       "      <td>1132.462122</td>\n",
       "      <td>382.329753</td>\n",
       "      <td>1.899822</td>\n",
       "      <td>115395.615874</td>\n",
       "    </tr>\n",
       "    <tr>\n",
       "      <th>min</th>\n",
       "      <td>1.000000</td>\n",
       "      <td>2.000000</td>\n",
       "      <td>1.000000</td>\n",
       "      <td>3.000000</td>\n",
       "      <td>1.000000</td>\n",
       "      <td>0.499900</td>\n",
       "      <td>14999.000000</td>\n",
       "    </tr>\n",
       "    <tr>\n",
       "      <th>25%</th>\n",
       "      <td>18.000000</td>\n",
       "      <td>1447.750000</td>\n",
       "      <td>295.000000</td>\n",
       "      <td>787.000000</td>\n",
       "      <td>280.000000</td>\n",
       "      <td>2.563400</td>\n",
       "      <td>119600.000000</td>\n",
       "    </tr>\n",
       "    <tr>\n",
       "      <th>50%</th>\n",
       "      <td>29.000000</td>\n",
       "      <td>2127.000000</td>\n",
       "      <td>435.000000</td>\n",
       "      <td>1166.000000</td>\n",
       "      <td>409.000000</td>\n",
       "      <td>3.534800</td>\n",
       "      <td>179700.000000</td>\n",
       "    </tr>\n",
       "    <tr>\n",
       "      <th>75%</th>\n",
       "      <td>37.000000</td>\n",
       "      <td>3148.000000</td>\n",
       "      <td>647.000000</td>\n",
       "      <td>1725.000000</td>\n",
       "      <td>605.000000</td>\n",
       "      <td>4.743250</td>\n",
       "      <td>264725.000000</td>\n",
       "    </tr>\n",
       "    <tr>\n",
       "      <th>max</th>\n",
       "      <td>52.000000</td>\n",
       "      <td>39320.000000</td>\n",
       "      <td>6445.000000</td>\n",
       "      <td>35682.000000</td>\n",
       "      <td>6082.000000</td>\n",
       "      <td>15.000100</td>\n",
       "      <td>500001.000000</td>\n",
       "    </tr>\n",
       "  </tbody>\n",
       "</table>\n",
       "</div>"
      ],
      "text/plain": [
       "       housingMedianAge    totalRooms  totalBedrooms    population  \\\n",
       "count      20640.000000  20640.000000   20640.000000  20640.000000   \n",
       "mean          28.639486   2635.763081     537.898014   1425.476744   \n",
       "std           12.585558   2181.615252     421.247906   1132.462122   \n",
       "min            1.000000      2.000000       1.000000      3.000000   \n",
       "25%           18.000000   1447.750000     295.000000    787.000000   \n",
       "50%           29.000000   2127.000000     435.000000   1166.000000   \n",
       "75%           37.000000   3148.000000     647.000000   1725.000000   \n",
       "max           52.000000  39320.000000    6445.000000  35682.000000   \n",
       "\n",
       "         households  medianIncome  medianHouseValue  \n",
       "count  20640.000000  20640.000000      20640.000000  \n",
       "mean     499.539680      3.870671     206855.816909  \n",
       "std      382.329753      1.899822     115395.615874  \n",
       "min        1.000000      0.499900      14999.000000  \n",
       "25%      280.000000      2.563400     119600.000000  \n",
       "50%      409.000000      3.534800     179700.000000  \n",
       "75%      605.000000      4.743250     264725.000000  \n",
       "max     6082.000000     15.000100     500001.000000  "
      ]
     },
     "execution_count": 6,
     "metadata": {},
     "output_type": "execute_result"
    }
   ],
   "source": [
    "housing.describe()"
   ]
  },
  {
   "cell_type": "code",
   "execution_count": 10,
   "metadata": {
    "collapsed": true,
    "scrolled": true
   },
   "outputs": [],
   "source": [
    "x_data = housing.drop(['medianHouseValue'],axis=1)"
   ]
  },
  {
   "cell_type": "code",
   "execution_count": 11,
   "metadata": {
    "collapsed": true
   },
   "outputs": [],
   "source": [
    "y_val = housing['medianHouseValue']"
   ]
  },
  {
   "cell_type": "code",
   "execution_count": 12,
   "metadata": {
    "collapsed": true
   },
   "outputs": [],
   "source": [
    "from sklearn.model_selection import train_test_split"
   ]
  },
  {
   "cell_type": "code",
   "execution_count": 13,
   "metadata": {
    "collapsed": true
   },
   "outputs": [],
   "source": [
    "X_train, X_test, y_train, y_test = train_test_split(x_data,y_val,test_size=0.3,random_state=101)"
   ]
  },
  {
   "cell_type": "markdown",
   "metadata": {},
   "source": [
    "### Scale the Feature Data\n",
    "\n",
    "** Use sklearn preprocessing to create a MinMaxScaler for the feature data. Fit this scaler only to the training data. Then use it to transform X_test and X_train. Then use the scaled X_test and X_train along with pd.Dataframe to re-create two dataframes of scaled data.**"
   ]
  },
  {
   "cell_type": "code",
   "execution_count": 7,
   "metadata": {
    "collapsed": true
   },
   "outputs": [],
   "source": [
    "from sklearn.preprocessing import MinMaxScaler"
   ]
  },
  {
   "cell_type": "code",
   "execution_count": 9,
   "metadata": {},
   "outputs": [
    {
     "data": {
      "text/plain": [
       "MinMaxScaler(copy=True, feature_range=(0, 1))"
      ]
     },
     "execution_count": 9,
     "metadata": {},
     "output_type": "execute_result"
    }
   ],
   "source": [
    "scaler = MinMaxScaler()\n",
    "scaler"
   ]
  },
  {
   "cell_type": "code",
   "execution_count": 15,
   "metadata": {},
   "outputs": [
    {
     "data": {
      "text/plain": [
       "MinMaxScaler(copy=True, feature_range=(0, 1))"
      ]
     },
     "execution_count": 15,
     "metadata": {},
     "output_type": "execute_result"
    }
   ],
   "source": [
    "scaler.fit(X_train)"
   ]
  },
  {
   "cell_type": "code",
   "execution_count": 20,
   "metadata": {},
   "outputs": [],
   "source": [
    "X_train = pd.DataFrame(data=scaler.transform(X_train),columns = X_train.columns,index=X_train.index)"
   ]
  },
  {
   "cell_type": "code",
   "execution_count": 21,
   "metadata": {},
   "outputs": [],
   "source": [
    "X_test = pd.DataFrame(data=scaler.transform(X_test),columns = X_test.columns,index=X_test.index)"
   ]
  },
  {
   "cell_type": "markdown",
   "metadata": {},
   "source": [
    "### Create Feature Columns\n",
    "\n",
    "** Create the necessary tf.feature_column objects for the estimator. They should all be trated as continuous numeric_columns. **"
   ]
  },
  {
   "cell_type": "code",
   "execution_count": 22,
   "metadata": {},
   "outputs": [
    {
     "data": {
      "text/plain": [
       "Index(['housingMedianAge', 'totalRooms', 'totalBedrooms', 'population',\n",
       "       'households', 'medianIncome', 'medianHouseValue'],\n",
       "      dtype='object')"
      ]
     },
     "execution_count": 22,
     "metadata": {},
     "output_type": "execute_result"
    }
   ],
   "source": [
    "housing.columns"
   ]
  },
  {
   "cell_type": "code",
   "execution_count": 23,
   "metadata": {
    "collapsed": true
   },
   "outputs": [],
   "source": [
    "import tensorflow as tf"
   ]
  },
  {
   "cell_type": "markdown",
   "metadata": {
    "collapsed": true
   },
   "source": [
    "**Continuous variables"
   ]
  },
  {
   "cell_type": "code",
   "execution_count": 26,
   "metadata": {
    "collapsed": true
   },
   "outputs": [],
   "source": [
    "age = tf.feature_column.numeric_column('housingMedianAge')\n",
    "rooms = tf.feature_column.numeric_column('totalRooms')\n",
    "bedrooms = tf.feature_column.numeric_column('totalBedrooms')\n",
    "pop = tf.feature_column.numeric_column('population')\n",
    "households = tf.feature_column.numeric_column('households')\n",
    "income = tf.feature_column.numeric_column('medianIncome')"
   ]
  },
  {
   "cell_type": "code",
   "execution_count": 27,
   "metadata": {},
   "outputs": [],
   "source": [
    "feat_cols = [age,rooms,bedrooms,pop,households,income]"
   ]
  },
  {
   "cell_type": "markdown",
   "metadata": {},
   "source": [
    "** Create the input function for the estimator object. (play around with batch_size and num_epochs)**"
   ]
  },
  {
   "cell_type": "code",
   "execution_count": 36,
   "metadata": {
    "collapsed": true
   },
   "outputs": [],
   "source": [
    "input_func = tf.estimator.inputs.pandas_input_fn(x=X_train,y=y_train ,batch_size=10,num_epochs=1000,\n",
    "                                            shuffle=True)"
   ]
  },
  {
   "cell_type": "markdown",
   "metadata": {},
   "source": [
    "** Create the estimator model. Use a DNNRegressor. Play around with the hidden units! **"
   ]
  },
  {
   "cell_type": "code",
   "execution_count": 37,
   "metadata": {},
   "outputs": [
    {
     "name": "stdout",
     "output_type": "stream",
     "text": [
      "INFO:tensorflow:Using default config.\n",
      "WARNING:tensorflow:Using temporary folder as model directory: /var/folders/jr/44cwffjj7nj68zjg2ngbdmjw0000gn/T/tmp85a_z68z\n",
      "INFO:tensorflow:Using config: {'_model_dir': '/var/folders/jr/44cwffjj7nj68zjg2ngbdmjw0000gn/T/tmp85a_z68z', '_tf_random_seed': 1, '_save_summary_steps': 100, '_save_checkpoints_secs': 600, '_save_checkpoints_steps': None, '_session_config': None, '_keep_checkpoint_max': 5, '_keep_checkpoint_every_n_hours': 10000, '_log_step_count_steps': 100}\n"
     ]
    }
   ],
   "source": [
    "dnn_model = tf.estimator.DNNRegressor(hidden_units=[10,10,10],feature_columns=feat_cols)"
   ]
  },
  {
   "cell_type": "markdown",
   "metadata": {},
   "source": [
    "##### ** Train the model for ~1,000 steps. (Later come back to this and train it for more and check for improvement) **"
   ]
  },
  {
   "cell_type": "code",
   "execution_count": 38,
   "metadata": {},
   "outputs": [
    {
     "name": "stdout",
     "output_type": "stream",
     "text": [
      "INFO:tensorflow:Create CheckpointSaverHook.\n",
      "INFO:tensorflow:Saving checkpoints for 1 into /var/folders/jr/44cwffjj7nj68zjg2ngbdmjw0000gn/T/tmp85a_z68z/model.ckpt.\n",
      "INFO:tensorflow:loss = 8.63322e+11, step = 1\n",
      "INFO:tensorflow:global_step/sec: 364.667\n",
      "INFO:tensorflow:loss = 4.56162e+11, step = 101 (0.275 sec)\n",
      "INFO:tensorflow:global_step/sec: 379.147\n",
      "INFO:tensorflow:loss = 2.77959e+11, step = 201 (0.264 sec)\n",
      "INFO:tensorflow:global_step/sec: 363.891\n",
      "INFO:tensorflow:loss = 3.43829e+11, step = 301 (0.275 sec)\n",
      "INFO:tensorflow:global_step/sec: 344.643\n",
      "INFO:tensorflow:loss = 1.42838e+11, step = 401 (0.292 sec)\n",
      "INFO:tensorflow:global_step/sec: 413.546\n",
      "INFO:tensorflow:loss = 2.54161e+11, step = 501 (0.243 sec)\n",
      "INFO:tensorflow:global_step/sec: 387.147\n",
      "INFO:tensorflow:loss = 5.00958e+10, step = 601 (0.260 sec)\n",
      "INFO:tensorflow:global_step/sec: 342.862\n",
      "INFO:tensorflow:loss = 9.41401e+10, step = 701 (0.289 sec)\n",
      "INFO:tensorflow:global_step/sec: 331.284\n",
      "INFO:tensorflow:loss = 1.61455e+11, step = 801 (0.304 sec)\n",
      "INFO:tensorflow:global_step/sec: 440.717\n",
      "INFO:tensorflow:loss = 3.51062e+10, step = 901 (0.228 sec)\n",
      "INFO:tensorflow:global_step/sec: 308.471\n",
      "INFO:tensorflow:loss = 1.63802e+11, step = 1001 (0.319 sec)\n",
      "INFO:tensorflow:global_step/sec: 368.194\n",
      "INFO:tensorflow:loss = 1.06009e+11, step = 1101 (0.272 sec)\n",
      "INFO:tensorflow:global_step/sec: 338.421\n",
      "INFO:tensorflow:loss = 6.74926e+10, step = 1201 (0.297 sec)\n",
      "INFO:tensorflow:global_step/sec: 435.584\n",
      "INFO:tensorflow:loss = 1.49695e+11, step = 1301 (0.234 sec)\n",
      "INFO:tensorflow:global_step/sec: 336.46\n",
      "INFO:tensorflow:loss = 1.76504e+11, step = 1401 (0.296 sec)\n",
      "INFO:tensorflow:global_step/sec: 375.837\n",
      "INFO:tensorflow:loss = 6.97094e+10, step = 1501 (0.268 sec)\n",
      "INFO:tensorflow:global_step/sec: 361.935\n",
      "INFO:tensorflow:loss = 2.39506e+11, step = 1601 (0.277 sec)\n",
      "INFO:tensorflow:global_step/sec: 345.704\n",
      "INFO:tensorflow:loss = 1.14587e+11, step = 1701 (0.283 sec)\n",
      "INFO:tensorflow:global_step/sec: 367.752\n",
      "INFO:tensorflow:loss = 1.13787e+11, step = 1801 (0.274 sec)\n",
      "INFO:tensorflow:global_step/sec: 352.35\n",
      "INFO:tensorflow:loss = 5.45815e+10, step = 1901 (0.289 sec)\n",
      "INFO:tensorflow:global_step/sec: 411.646\n",
      "INFO:tensorflow:loss = 6.88961e+10, step = 2001 (0.237 sec)\n",
      "INFO:tensorflow:global_step/sec: 359.193\n",
      "INFO:tensorflow:loss = 1.12496e+11, step = 2101 (0.280 sec)\n",
      "INFO:tensorflow:global_step/sec: 357.383\n",
      "INFO:tensorflow:loss = 1.22389e+11, step = 2201 (0.281 sec)\n",
      "INFO:tensorflow:global_step/sec: 366.705\n",
      "INFO:tensorflow:loss = 1.78688e+11, step = 2301 (0.274 sec)\n",
      "INFO:tensorflow:global_step/sec: 389.331\n",
      "INFO:tensorflow:loss = 1.1753e+11, step = 2401 (0.254 sec)\n",
      "INFO:tensorflow:global_step/sec: 379.812\n",
      "INFO:tensorflow:loss = 1.75361e+11, step = 2501 (0.261 sec)\n",
      "INFO:tensorflow:global_step/sec: 373.069\n",
      "INFO:tensorflow:loss = 6.72505e+10, step = 2601 (0.268 sec)\n",
      "INFO:tensorflow:global_step/sec: 317.441\n",
      "INFO:tensorflow:loss = 1.78385e+11, step = 2701 (0.315 sec)\n",
      "INFO:tensorflow:global_step/sec: 395.641\n",
      "INFO:tensorflow:loss = 1.94671e+11, step = 2801 (0.253 sec)\n",
      "INFO:tensorflow:global_step/sec: 390.882\n",
      "INFO:tensorflow:loss = 1.83607e+11, step = 2901 (0.256 sec)\n",
      "INFO:tensorflow:global_step/sec: 370.143\n",
      "INFO:tensorflow:loss = 8.87791e+10, step = 3001 (0.273 sec)\n",
      "INFO:tensorflow:global_step/sec: 371.511\n",
      "INFO:tensorflow:loss = 5.78642e+10, step = 3101 (0.271 sec)\n",
      "INFO:tensorflow:global_step/sec: 400.736\n",
      "INFO:tensorflow:loss = 1.4623e+11, step = 3201 (0.252 sec)\n",
      "INFO:tensorflow:global_step/sec: 361.204\n",
      "INFO:tensorflow:loss = 1.33608e+11, step = 3301 (0.270 sec)\n",
      "INFO:tensorflow:global_step/sec: 351.31\n",
      "INFO:tensorflow:loss = 1.01825e+11, step = 3401 (0.285 sec)\n",
      "INFO:tensorflow:global_step/sec: 410.69\n",
      "INFO:tensorflow:loss = 3.04362e+10, step = 3501 (0.244 sec)\n",
      "INFO:tensorflow:global_step/sec: 362.279\n",
      "INFO:tensorflow:loss = 9.3386e+10, step = 3601 (0.278 sec)\n",
      "INFO:tensorflow:global_step/sec: 394.624\n",
      "INFO:tensorflow:loss = 9.87936e+10, step = 3701 (0.255 sec)\n",
      "INFO:tensorflow:global_step/sec: 342.863\n",
      "INFO:tensorflow:loss = 1.10064e+11, step = 3801 (0.289 sec)\n",
      "INFO:tensorflow:global_step/sec: 396.755\n",
      "INFO:tensorflow:loss = 1.8025e+11, step = 3901 (0.256 sec)\n",
      "INFO:tensorflow:global_step/sec: 309.529\n",
      "INFO:tensorflow:loss = 8.33297e+10, step = 4001 (0.322 sec)\n",
      "INFO:tensorflow:global_step/sec: 362.022\n",
      "INFO:tensorflow:loss = 2.4157e+11, step = 4101 (0.275 sec)\n",
      "INFO:tensorflow:global_step/sec: 372.236\n",
      "INFO:tensorflow:loss = 5.69782e+10, step = 4201 (0.270 sec)\n",
      "INFO:tensorflow:global_step/sec: 346.397\n",
      "INFO:tensorflow:loss = 2.13833e+11, step = 4301 (0.284 sec)\n",
      "INFO:tensorflow:global_step/sec: 503.78\n",
      "INFO:tensorflow:loss = 1.93679e+11, step = 4401 (0.203 sec)\n",
      "INFO:tensorflow:global_step/sec: 409.377\n",
      "INFO:tensorflow:loss = 1.21873e+11, step = 4501 (0.245 sec)\n",
      "INFO:tensorflow:global_step/sec: 328.85\n",
      "INFO:tensorflow:loss = 4.99051e+10, step = 4601 (0.303 sec)\n",
      "INFO:tensorflow:global_step/sec: 323.616\n",
      "INFO:tensorflow:loss = 1.44821e+11, step = 4701 (0.305 sec)\n",
      "INFO:tensorflow:global_step/sec: 410.509\n",
      "INFO:tensorflow:loss = 9.78784e+10, step = 4801 (0.247 sec)\n",
      "INFO:tensorflow:global_step/sec: 410.07\n",
      "INFO:tensorflow:loss = 8.20046e+10, step = 4901 (0.241 sec)\n",
      "INFO:tensorflow:global_step/sec: 394.27\n",
      "INFO:tensorflow:loss = 1.22402e+11, step = 5001 (0.254 sec)\n",
      "INFO:tensorflow:global_step/sec: 484.693\n",
      "INFO:tensorflow:loss = 7.31175e+10, step = 5101 (0.214 sec)\n",
      "INFO:tensorflow:global_step/sec: 427.915\n",
      "INFO:tensorflow:loss = 1.68228e+11, step = 5201 (0.226 sec)\n",
      "INFO:tensorflow:global_step/sec: 480.368\n",
      "INFO:tensorflow:loss = 9.51307e+10, step = 5301 (0.210 sec)\n",
      "INFO:tensorflow:global_step/sec: 331.419\n",
      "INFO:tensorflow:loss = 9.26023e+10, step = 5401 (0.305 sec)\n",
      "INFO:tensorflow:global_step/sec: 363.887\n",
      "INFO:tensorflow:loss = 6.0805e+10, step = 5501 (0.273 sec)\n",
      "INFO:tensorflow:global_step/sec: 413.43\n",
      "INFO:tensorflow:loss = 6.91031e+10, step = 5601 (0.241 sec)\n",
      "INFO:tensorflow:global_step/sec: 396.184\n",
      "INFO:tensorflow:loss = 8.19203e+10, step = 5701 (0.253 sec)\n",
      "INFO:tensorflow:global_step/sec: 329.483\n",
      "INFO:tensorflow:loss = 4.81736e+10, step = 5801 (0.308 sec)\n",
      "INFO:tensorflow:global_step/sec: 415.954\n",
      "INFO:tensorflow:loss = 4.43049e+10, step = 5901 (0.236 sec)\n",
      "INFO:tensorflow:global_step/sec: 459.54\n",
      "INFO:tensorflow:loss = 1.1586e+11, step = 6001 (0.218 sec)\n",
      "INFO:tensorflow:global_step/sec: 348.454\n",
      "INFO:tensorflow:loss = 9.97683e+10, step = 6101 (0.295 sec)\n",
      "INFO:tensorflow:global_step/sec: 417.208\n",
      "INFO:tensorflow:loss = 4.85889e+10, step = 6201 (0.231 sec)\n",
      "INFO:tensorflow:global_step/sec: 469.147\n",
      "INFO:tensorflow:loss = 1.06106e+11, step = 6301 (0.213 sec)\n",
      "INFO:tensorflow:global_step/sec: 423.076\n",
      "INFO:tensorflow:loss = 3.68508e+10, step = 6401 (0.238 sec)\n",
      "INFO:tensorflow:global_step/sec: 345.112\n",
      "INFO:tensorflow:loss = 4.70848e+10, step = 6501 (0.288 sec)\n",
      "INFO:tensorflow:global_step/sec: 370.564\n",
      "INFO:tensorflow:loss = 1.25498e+11, step = 6601 (0.272 sec)\n",
      "INFO:tensorflow:global_step/sec: 302.019\n",
      "INFO:tensorflow:loss = 8.46645e+10, step = 6701 (0.332 sec)\n",
      "INFO:tensorflow:global_step/sec: 448.242\n",
      "INFO:tensorflow:loss = 1.283e+11, step = 6801 (0.218 sec)\n",
      "INFO:tensorflow:global_step/sec: 398.313\n",
      "INFO:tensorflow:loss = 1.39711e+11, step = 6901 (0.253 sec)\n",
      "INFO:tensorflow:global_step/sec: 330.75\n",
      "INFO:tensorflow:loss = 1.40536e+11, step = 7001 (0.306 sec)\n",
      "INFO:tensorflow:global_step/sec: 444.928\n",
      "INFO:tensorflow:loss = 1.17274e+11, step = 7101 (0.222 sec)\n",
      "INFO:tensorflow:global_step/sec: 457.645\n",
      "INFO:tensorflow:loss = 1.07533e+11, step = 7201 (0.222 sec)\n",
      "INFO:tensorflow:global_step/sec: 383.74\n",
      "INFO:tensorflow:loss = 6.91276e+10, step = 7301 (0.257 sec)\n",
      "INFO:tensorflow:global_step/sec: 339.814\n",
      "INFO:tensorflow:loss = 1.56351e+11, step = 7401 (0.296 sec)\n",
      "INFO:tensorflow:global_step/sec: 411.276\n",
      "INFO:tensorflow:loss = 8.81766e+10, step = 7501 (0.244 sec)\n",
      "INFO:tensorflow:global_step/sec: 428.495\n",
      "INFO:tensorflow:loss = 8.46261e+10, step = 7601 (0.233 sec)\n",
      "INFO:tensorflow:global_step/sec: 344.214\n",
      "INFO:tensorflow:loss = 9.73031e+10, step = 7701 (0.291 sec)\n",
      "INFO:tensorflow:global_step/sec: 352.599\n",
      "INFO:tensorflow:loss = 5.49703e+10, step = 7801 (0.284 sec)\n",
      "INFO:tensorflow:global_step/sec: 341.54\n",
      "INFO:tensorflow:loss = 5.17568e+10, step = 7901 (0.292 sec)\n",
      "INFO:tensorflow:global_step/sec: 442.335\n"
     ]
    },
    {
     "name": "stdout",
     "output_type": "stream",
     "text": [
      "INFO:tensorflow:loss = 7.60245e+10, step = 8001 (0.226 sec)\n",
      "INFO:tensorflow:global_step/sec: 295.378\n",
      "INFO:tensorflow:loss = 1.6151e+11, step = 8101 (0.335 sec)\n",
      "INFO:tensorflow:global_step/sec: 450.294\n",
      "INFO:tensorflow:loss = 1.2021e+11, step = 8201 (0.222 sec)\n",
      "INFO:tensorflow:global_step/sec: 341.849\n",
      "INFO:tensorflow:loss = 1.93055e+11, step = 8301 (0.296 sec)\n",
      "INFO:tensorflow:global_step/sec: 343.14\n",
      "INFO:tensorflow:loss = 3.69608e+10, step = 8401 (0.287 sec)\n",
      "INFO:tensorflow:global_step/sec: 389.891\n",
      "INFO:tensorflow:loss = 8.42481e+10, step = 8501 (0.261 sec)\n",
      "INFO:tensorflow:global_step/sec: 389.308\n",
      "INFO:tensorflow:loss = 3.71001e+10, step = 8601 (0.257 sec)\n",
      "INFO:tensorflow:global_step/sec: 371.633\n",
      "INFO:tensorflow:loss = 5.2148e+10, step = 8701 (0.267 sec)\n",
      "INFO:tensorflow:global_step/sec: 340.928\n",
      "INFO:tensorflow:loss = 1.94383e+11, step = 8801 (0.291 sec)\n",
      "INFO:tensorflow:global_step/sec: 359.162\n",
      "INFO:tensorflow:loss = 7.08984e+10, step = 8901 (0.279 sec)\n",
      "INFO:tensorflow:global_step/sec: 336.863\n",
      "INFO:tensorflow:loss = 7.59484e+10, step = 9001 (0.296 sec)\n",
      "INFO:tensorflow:global_step/sec: 385.212\n",
      "INFO:tensorflow:loss = 1.34882e+11, step = 9101 (0.260 sec)\n",
      "INFO:tensorflow:global_step/sec: 384.243\n",
      "INFO:tensorflow:loss = 9.88935e+10, step = 9201 (0.260 sec)\n",
      "INFO:tensorflow:global_step/sec: 346.522\n",
      "INFO:tensorflow:loss = 1.16765e+11, step = 9301 (0.289 sec)\n",
      "INFO:tensorflow:global_step/sec: 365.495\n",
      "INFO:tensorflow:loss = 7.86399e+10, step = 9401 (0.273 sec)\n",
      "INFO:tensorflow:global_step/sec: 391.515\n",
      "INFO:tensorflow:loss = 3.28529e+10, step = 9501 (0.256 sec)\n",
      "INFO:tensorflow:global_step/sec: 439.533\n",
      "INFO:tensorflow:loss = 1.24077e+11, step = 9601 (0.228 sec)\n",
      "INFO:tensorflow:global_step/sec: 450.238\n",
      "INFO:tensorflow:loss = 2.59196e+10, step = 9701 (0.223 sec)\n",
      "INFO:tensorflow:global_step/sec: 423.053\n",
      "INFO:tensorflow:loss = 3.24899e+10, step = 9801 (0.237 sec)\n",
      "INFO:tensorflow:global_step/sec: 360.272\n",
      "INFO:tensorflow:loss = 1.06829e+11, step = 9901 (0.278 sec)\n",
      "INFO:tensorflow:global_step/sec: 497.748\n",
      "INFO:tensorflow:loss = 1.02036e+11, step = 10001 (0.203 sec)\n",
      "INFO:tensorflow:global_step/sec: 504.373\n",
      "INFO:tensorflow:loss = 1.05465e+11, step = 10101 (0.197 sec)\n",
      "INFO:tensorflow:global_step/sec: 457.348\n",
      "INFO:tensorflow:loss = 7.03305e+10, step = 10201 (0.216 sec)\n",
      "INFO:tensorflow:global_step/sec: 433.926\n",
      "INFO:tensorflow:loss = 1.15109e+11, step = 10301 (0.229 sec)\n",
      "INFO:tensorflow:global_step/sec: 509.939\n",
      "INFO:tensorflow:loss = 6.18149e+10, step = 10401 (0.198 sec)\n",
      "INFO:tensorflow:global_step/sec: 413.03\n",
      "INFO:tensorflow:loss = 6.32412e+10, step = 10501 (0.240 sec)\n",
      "INFO:tensorflow:global_step/sec: 378.604\n",
      "INFO:tensorflow:loss = 1.04203e+11, step = 10601 (0.268 sec)\n",
      "INFO:tensorflow:global_step/sec: 400.275\n",
      "INFO:tensorflow:loss = 1.37106e+11, step = 10701 (0.250 sec)\n",
      "INFO:tensorflow:global_step/sec: 385.33\n",
      "INFO:tensorflow:loss = 1.1057e+11, step = 10801 (0.255 sec)\n",
      "INFO:tensorflow:global_step/sec: 386.777\n",
      "INFO:tensorflow:loss = 4.80777e+10, step = 10901 (0.259 sec)\n",
      "INFO:tensorflow:global_step/sec: 384.24\n",
      "INFO:tensorflow:loss = 4.93551e+10, step = 11001 (0.260 sec)\n",
      "INFO:tensorflow:global_step/sec: 382.024\n",
      "INFO:tensorflow:loss = 9.96076e+10, step = 11101 (0.262 sec)\n",
      "INFO:tensorflow:global_step/sec: 383.068\n",
      "INFO:tensorflow:loss = 9.08153e+10, step = 11201 (0.261 sec)\n",
      "INFO:tensorflow:global_step/sec: 387.026\n",
      "INFO:tensorflow:loss = 1.60126e+10, step = 11301 (0.259 sec)\n",
      "INFO:tensorflow:global_step/sec: 383.787\n",
      "INFO:tensorflow:loss = 9.19764e+10, step = 11401 (0.260 sec)\n",
      "INFO:tensorflow:global_step/sec: 407.551\n",
      "INFO:tensorflow:loss = 1.02471e+11, step = 11501 (0.245 sec)\n",
      "INFO:tensorflow:global_step/sec: 391.463\n",
      "INFO:tensorflow:loss = 6.31791e+10, step = 11601 (0.256 sec)\n",
      "INFO:tensorflow:global_step/sec: 373.66\n",
      "INFO:tensorflow:loss = 1.95365e+11, step = 11701 (0.271 sec)\n",
      "INFO:tensorflow:global_step/sec: 411.499\n",
      "INFO:tensorflow:loss = 6.65267e+10, step = 11801 (0.242 sec)\n",
      "INFO:tensorflow:global_step/sec: 371.721\n",
      "INFO:tensorflow:loss = 1.17961e+11, step = 11901 (0.266 sec)\n",
      "INFO:tensorflow:global_step/sec: 479.597\n",
      "INFO:tensorflow:loss = 5.34532e+10, step = 12001 (0.209 sec)\n",
      "INFO:tensorflow:global_step/sec: 387.331\n",
      "INFO:tensorflow:loss = 3.64893e+10, step = 12101 (0.261 sec)\n",
      "INFO:tensorflow:global_step/sec: 400.749\n",
      "INFO:tensorflow:loss = 4.43216e+10, step = 12201 (0.251 sec)\n",
      "INFO:tensorflow:global_step/sec: 375.598\n",
      "INFO:tensorflow:loss = 4.05783e+10, step = 12301 (0.262 sec)\n",
      "INFO:tensorflow:global_step/sec: 372.126\n",
      "INFO:tensorflow:loss = 4.96555e+10, step = 12401 (0.269 sec)\n",
      "INFO:tensorflow:global_step/sec: 383.096\n",
      "INFO:tensorflow:loss = 1.60328e+11, step = 12501 (0.262 sec)\n",
      "INFO:tensorflow:global_step/sec: 385.487\n",
      "INFO:tensorflow:loss = 8.29097e+10, step = 12601 (0.259 sec)\n",
      "INFO:tensorflow:global_step/sec: 386.952\n",
      "INFO:tensorflow:loss = 8.80245e+10, step = 12701 (0.258 sec)\n",
      "INFO:tensorflow:global_step/sec: 387.756\n",
      "INFO:tensorflow:loss = 2.35874e+10, step = 12801 (0.258 sec)\n",
      "INFO:tensorflow:global_step/sec: 376.51\n",
      "INFO:tensorflow:loss = 5.10483e+10, step = 12901 (0.266 sec)\n",
      "INFO:tensorflow:global_step/sec: 390.33\n",
      "INFO:tensorflow:loss = 8.82607e+10, step = 13001 (0.256 sec)\n",
      "INFO:tensorflow:global_step/sec: 411.883\n",
      "INFO:tensorflow:loss = 5.80355e+10, step = 13101 (0.243 sec)\n",
      "INFO:tensorflow:global_step/sec: 462.009\n",
      "INFO:tensorflow:loss = 6.57843e+10, step = 13201 (0.216 sec)\n",
      "INFO:tensorflow:global_step/sec: 434.815\n",
      "INFO:tensorflow:loss = 4.85227e+10, step = 13301 (0.230 sec)\n",
      "INFO:tensorflow:global_step/sec: 386.053\n",
      "INFO:tensorflow:loss = 7.65948e+10, step = 13401 (0.261 sec)\n",
      "INFO:tensorflow:global_step/sec: 368.847\n",
      "INFO:tensorflow:loss = 8.97686e+10, step = 13501 (0.275 sec)\n",
      "INFO:tensorflow:global_step/sec: 364.823\n",
      "INFO:tensorflow:loss = 1.36743e+11, step = 13601 (0.269 sec)\n",
      "INFO:tensorflow:global_step/sec: 384.42\n",
      "INFO:tensorflow:loss = 5.06408e+10, step = 13701 (0.260 sec)\n",
      "INFO:tensorflow:global_step/sec: 387.223\n",
      "INFO:tensorflow:loss = 7.15628e+10, step = 13801 (0.258 sec)\n",
      "INFO:tensorflow:global_step/sec: 370.962\n",
      "INFO:tensorflow:loss = 1.25694e+11, step = 13901 (0.269 sec)\n",
      "INFO:tensorflow:global_step/sec: 386.49\n",
      "INFO:tensorflow:loss = 2.22353e+11, step = 14001 (0.259 sec)\n",
      "INFO:tensorflow:global_step/sec: 402.338\n",
      "INFO:tensorflow:loss = 1.44464e+11, step = 14101 (0.248 sec)\n",
      "INFO:tensorflow:global_step/sec: 473.799\n",
      "INFO:tensorflow:loss = 9.80141e+10, step = 14201 (0.215 sec)\n",
      "INFO:tensorflow:global_step/sec: 397.384\n",
      "INFO:tensorflow:loss = 4.94498e+10, step = 14301 (0.247 sec)\n",
      "INFO:tensorflow:global_step/sec: 413.695\n",
      "INFO:tensorflow:loss = 1.00306e+11, step = 14401 (0.245 sec)\n",
      "INFO:tensorflow:global_step/sec: 410.944\n",
      "INFO:tensorflow:loss = 1.31496e+11, step = 14501 (0.245 sec)\n",
      "INFO:tensorflow:global_step/sec: 490.013\n",
      "INFO:tensorflow:loss = 7.93384e+10, step = 14601 (0.202 sec)\n",
      "INFO:tensorflow:global_step/sec: 408.037\n",
      "INFO:tensorflow:loss = 6.46508e+10, step = 14701 (0.247 sec)\n",
      "INFO:tensorflow:global_step/sec: 438.491\n",
      "INFO:tensorflow:loss = 9.89922e+10, step = 14801 (0.227 sec)\n",
      "INFO:tensorflow:global_step/sec: 468.845\n",
      "INFO:tensorflow:loss = 1.79934e+11, step = 14901 (0.213 sec)\n",
      "INFO:tensorflow:global_step/sec: 475.161\n",
      "INFO:tensorflow:loss = 1.16141e+11, step = 15001 (0.210 sec)\n",
      "INFO:tensorflow:global_step/sec: 366.204\n",
      "INFO:tensorflow:loss = 1.46127e+11, step = 15101 (0.273 sec)\n",
      "INFO:tensorflow:global_step/sec: 424.094\n",
      "INFO:tensorflow:loss = 9.76917e+10, step = 15201 (0.234 sec)\n",
      "INFO:tensorflow:global_step/sec: 505.676\n",
      "INFO:tensorflow:loss = 1.0441e+11, step = 15301 (0.201 sec)\n",
      "INFO:tensorflow:global_step/sec: 487.874\n",
      "INFO:tensorflow:loss = 4.07686e+10, step = 15401 (0.202 sec)\n",
      "INFO:tensorflow:global_step/sec: 380.588\n",
      "INFO:tensorflow:loss = 1.25455e+11, step = 15501 (0.264 sec)\n",
      "INFO:tensorflow:global_step/sec: 391.925\n",
      "INFO:tensorflow:loss = 8.67709e+10, step = 15601 (0.257 sec)\n",
      "INFO:tensorflow:global_step/sec: 368.687\n",
      "INFO:tensorflow:loss = 9.4307e+10, step = 15701 (0.267 sec)\n",
      "INFO:tensorflow:global_step/sec: 384.441\n",
      "INFO:tensorflow:loss = 8.27459e+10, step = 15801 (0.260 sec)\n",
      "INFO:tensorflow:global_step/sec: 383.655\n",
      "INFO:tensorflow:loss = 1.73628e+11, step = 15901 (0.261 sec)\n",
      "INFO:tensorflow:global_step/sec: 379.832\n",
      "INFO:tensorflow:loss = 4.59217e+10, step = 16001 (0.264 sec)\n",
      "INFO:tensorflow:global_step/sec: 383.633\n"
     ]
    },
    {
     "name": "stdout",
     "output_type": "stream",
     "text": [
      "INFO:tensorflow:loss = 6.71272e+10, step = 16101 (0.260 sec)\n",
      "INFO:tensorflow:global_step/sec: 391.909\n",
      "INFO:tensorflow:loss = 1.15117e+11, step = 16201 (0.256 sec)\n",
      "INFO:tensorflow:global_step/sec: 444.883\n",
      "INFO:tensorflow:loss = 4.55799e+10, step = 16301 (0.224 sec)\n",
      "INFO:tensorflow:global_step/sec: 465.446\n",
      "INFO:tensorflow:loss = 1.26335e+11, step = 16401 (0.215 sec)\n",
      "INFO:tensorflow:global_step/sec: 384.68\n",
      "INFO:tensorflow:loss = 4.59799e+10, step = 16501 (0.262 sec)\n",
      "INFO:tensorflow:global_step/sec: 413.822\n",
      "INFO:tensorflow:loss = 5.75461e+10, step = 16601 (0.244 sec)\n",
      "INFO:tensorflow:global_step/sec: 500.395\n",
      "INFO:tensorflow:loss = 7.54595e+10, step = 16701 (0.198 sec)\n",
      "INFO:tensorflow:global_step/sec: 366.049\n",
      "INFO:tensorflow:loss = 2.12238e+10, step = 16801 (0.274 sec)\n",
      "INFO:tensorflow:global_step/sec: 368.41\n",
      "INFO:tensorflow:loss = 1.3378e+11, step = 16901 (0.271 sec)\n",
      "INFO:tensorflow:global_step/sec: 403.665\n",
      "INFO:tensorflow:loss = 5.49092e+10, step = 17001 (0.248 sec)\n",
      "INFO:tensorflow:global_step/sec: 402.206\n",
      "INFO:tensorflow:loss = 7.73846e+10, step = 17101 (0.246 sec)\n",
      "INFO:tensorflow:global_step/sec: 387.937\n",
      "INFO:tensorflow:loss = 9.50506e+10, step = 17201 (0.258 sec)\n",
      "INFO:tensorflow:global_step/sec: 387.893\n",
      "INFO:tensorflow:loss = 8.44782e+10, step = 17301 (0.258 sec)\n",
      "INFO:tensorflow:global_step/sec: 391.42\n",
      "INFO:tensorflow:loss = 9.85867e+10, step = 17401 (0.256 sec)\n",
      "INFO:tensorflow:global_step/sec: 388.565\n",
      "INFO:tensorflow:loss = 7.91187e+10, step = 17501 (0.258 sec)\n",
      "INFO:tensorflow:global_step/sec: 386.394\n",
      "INFO:tensorflow:loss = 7.44349e+10, step = 17601 (0.258 sec)\n",
      "INFO:tensorflow:global_step/sec: 389.539\n",
      "INFO:tensorflow:loss = 3.40036e+10, step = 17701 (0.257 sec)\n",
      "INFO:tensorflow:global_step/sec: 387.022\n",
      "INFO:tensorflow:loss = 5.75043e+10, step = 17801 (0.259 sec)\n",
      "INFO:tensorflow:global_step/sec: 417.089\n",
      "INFO:tensorflow:loss = 3.83345e+10, step = 17901 (0.240 sec)\n",
      "INFO:tensorflow:global_step/sec: 392.906\n",
      "INFO:tensorflow:loss = 1.09826e+11, step = 18001 (0.254 sec)\n",
      "INFO:tensorflow:global_step/sec: 377.255\n",
      "INFO:tensorflow:loss = 9.75591e+10, step = 18101 (0.268 sec)\n",
      "INFO:tensorflow:global_step/sec: 439.881\n",
      "INFO:tensorflow:loss = 1.03052e+11, step = 18201 (0.224 sec)\n",
      "INFO:tensorflow:global_step/sec: 409.373\n",
      "INFO:tensorflow:loss = 4.36786e+10, step = 18301 (0.247 sec)\n",
      "INFO:tensorflow:global_step/sec: 491.717\n",
      "INFO:tensorflow:loss = 1.02687e+11, step = 18401 (0.204 sec)\n",
      "INFO:tensorflow:global_step/sec: 466.612\n",
      "INFO:tensorflow:loss = 6.59277e+10, step = 18501 (0.212 sec)\n",
      "INFO:tensorflow:global_step/sec: 382.393\n",
      "INFO:tensorflow:loss = 7.38514e+10, step = 18601 (0.263 sec)\n",
      "INFO:tensorflow:global_step/sec: 464.415\n",
      "INFO:tensorflow:loss = 7.86004e+10, step = 18701 (0.216 sec)\n",
      "INFO:tensorflow:global_step/sec: 420.44\n",
      "INFO:tensorflow:loss = 1.37109e+11, step = 18801 (0.234 sec)\n",
      "INFO:tensorflow:global_step/sec: 487.266\n",
      "INFO:tensorflow:loss = 1.43663e+11, step = 18901 (0.207 sec)\n",
      "INFO:tensorflow:global_step/sec: 366.157\n",
      "INFO:tensorflow:loss = 5.47243e+10, step = 19001 (0.275 sec)\n",
      "INFO:tensorflow:global_step/sec: 414.027\n",
      "INFO:tensorflow:loss = 1.03939e+11, step = 19101 (0.243 sec)\n",
      "INFO:tensorflow:global_step/sec: 405.226\n",
      "INFO:tensorflow:loss = 9.77891e+10, step = 19201 (0.247 sec)\n",
      "INFO:tensorflow:global_step/sec: 379.713\n",
      "INFO:tensorflow:loss = 6.13864e+10, step = 19301 (0.259 sec)\n",
      "INFO:tensorflow:global_step/sec: 389.233\n",
      "INFO:tensorflow:loss = 9.47301e+10, step = 19401 (0.257 sec)\n",
      "INFO:tensorflow:global_step/sec: 386.627\n",
      "INFO:tensorflow:loss = 1.32807e+11, step = 19501 (0.258 sec)\n",
      "INFO:tensorflow:global_step/sec: 476.327\n",
      "INFO:tensorflow:loss = 1.26769e+11, step = 19601 (0.210 sec)\n",
      "INFO:tensorflow:global_step/sec: 359.292\n",
      "INFO:tensorflow:loss = 4.39181e+10, step = 19701 (0.281 sec)\n",
      "INFO:tensorflow:global_step/sec: 419.928\n",
      "INFO:tensorflow:loss = 5.52526e+10, step = 19801 (0.239 sec)\n",
      "INFO:tensorflow:global_step/sec: 385.058\n",
      "INFO:tensorflow:loss = 5.2907e+10, step = 19901 (0.256 sec)\n",
      "INFO:tensorflow:global_step/sec: 385.624\n",
      "INFO:tensorflow:loss = 4.0881e+10, step = 20001 (0.260 sec)\n",
      "INFO:tensorflow:global_step/sec: 372.004\n",
      "INFO:tensorflow:loss = 4.99887e+10, step = 20101 (0.268 sec)\n",
      "INFO:tensorflow:global_step/sec: 382.602\n",
      "INFO:tensorflow:loss = 5.36289e+10, step = 20201 (0.261 sec)\n",
      "INFO:tensorflow:global_step/sec: 374.6\n",
      "INFO:tensorflow:loss = 5.61392e+10, step = 20301 (0.267 sec)\n",
      "INFO:tensorflow:global_step/sec: 434.732\n",
      "INFO:tensorflow:loss = 1.22739e+11, step = 20401 (0.235 sec)\n",
      "INFO:tensorflow:global_step/sec: 406.317\n",
      "INFO:tensorflow:loss = 4.57224e+10, step = 20501 (0.242 sec)\n",
      "INFO:tensorflow:global_step/sec: 387.183\n",
      "INFO:tensorflow:loss = 1.61967e+11, step = 20601 (0.257 sec)\n",
      "INFO:tensorflow:global_step/sec: 385.366\n",
      "INFO:tensorflow:loss = 5.87167e+10, step = 20701 (0.259 sec)\n",
      "INFO:tensorflow:global_step/sec: 435.193\n",
      "INFO:tensorflow:loss = 1.13431e+11, step = 20801 (0.230 sec)\n",
      "INFO:tensorflow:global_step/sec: 406.035\n",
      "INFO:tensorflow:loss = 6.42951e+10, step = 20901 (0.249 sec)\n",
      "INFO:tensorflow:global_step/sec: 481.999\n",
      "INFO:tensorflow:loss = 3.32462e+10, step = 21001 (0.211 sec)\n",
      "INFO:tensorflow:global_step/sec: 499.73\n",
      "INFO:tensorflow:loss = 1.45697e+11, step = 21101 (0.195 sec)\n",
      "INFO:tensorflow:global_step/sec: 365.858\n",
      "INFO:tensorflow:loss = 6.62457e+10, step = 21201 (0.273 sec)\n",
      "INFO:tensorflow:global_step/sec: 383.883\n",
      "INFO:tensorflow:loss = 7.56181e+10, step = 21301 (0.262 sec)\n",
      "INFO:tensorflow:global_step/sec: 402.94\n",
      "INFO:tensorflow:loss = 9.96797e+10, step = 21401 (0.248 sec)\n",
      "INFO:tensorflow:global_step/sec: 413.005\n",
      "INFO:tensorflow:loss = 5.12699e+10, step = 21501 (0.242 sec)\n",
      "INFO:tensorflow:global_step/sec: 404.408\n",
      "INFO:tensorflow:loss = 7.51557e+10, step = 21601 (0.244 sec)\n",
      "INFO:tensorflow:global_step/sec: 415.92\n",
      "INFO:tensorflow:loss = 8.53392e+10, step = 21701 (0.243 sec)\n",
      "INFO:tensorflow:global_step/sec: 393.644\n",
      "INFO:tensorflow:loss = 1.04382e+11, step = 21801 (0.257 sec)\n",
      "INFO:tensorflow:global_step/sec: 400.347\n",
      "INFO:tensorflow:loss = 2.81848e+10, step = 21901 (0.249 sec)\n",
      "INFO:tensorflow:global_step/sec: 390.276\n",
      "INFO:tensorflow:loss = 5.40757e+10, step = 22001 (0.252 sec)\n",
      "INFO:tensorflow:global_step/sec: 379.65\n",
      "INFO:tensorflow:loss = 1.26236e+11, step = 22101 (0.263 sec)\n",
      "INFO:tensorflow:global_step/sec: 414.665\n",
      "INFO:tensorflow:loss = 6.1764e+10, step = 22201 (0.244 sec)\n",
      "INFO:tensorflow:global_step/sec: 369.265\n",
      "INFO:tensorflow:loss = 4.87698e+10, step = 22301 (0.269 sec)\n",
      "INFO:tensorflow:global_step/sec: 378.618\n",
      "INFO:tensorflow:loss = 4.41562e+10, step = 22401 (0.264 sec)\n",
      "INFO:tensorflow:global_step/sec: 382.914\n",
      "INFO:tensorflow:loss = 1.64971e+11, step = 22501 (0.261 sec)\n",
      "INFO:tensorflow:global_step/sec: 385.902\n",
      "INFO:tensorflow:loss = 6.86179e+10, step = 22601 (0.259 sec)\n",
      "INFO:tensorflow:global_step/sec: 375.396\n",
      "INFO:tensorflow:loss = 9.57829e+10, step = 22701 (0.267 sec)\n",
      "INFO:tensorflow:global_step/sec: 376.791\n",
      "INFO:tensorflow:loss = 8.99941e+10, step = 22801 (0.264 sec)\n",
      "INFO:tensorflow:global_step/sec: 392.678\n",
      "INFO:tensorflow:loss = 9.24403e+10, step = 22901 (0.255 sec)\n",
      "INFO:tensorflow:global_step/sec: 380.552\n",
      "INFO:tensorflow:loss = 3.01187e+10, step = 23001 (0.263 sec)\n",
      "INFO:tensorflow:global_step/sec: 384.932\n",
      "INFO:tensorflow:loss = 5.7487e+10, step = 23101 (0.259 sec)\n",
      "INFO:tensorflow:global_step/sec: 394.152\n",
      "INFO:tensorflow:loss = 6.44196e+10, step = 23201 (0.254 sec)\n",
      "INFO:tensorflow:global_step/sec: 383.167\n",
      "INFO:tensorflow:loss = 1.74424e+11, step = 23301 (0.260 sec)\n",
      "INFO:tensorflow:global_step/sec: 381.522\n",
      "INFO:tensorflow:loss = 5.42732e+10, step = 23401 (0.262 sec)\n",
      "INFO:tensorflow:global_step/sec: 363.63\n",
      "INFO:tensorflow:loss = 1.21867e+11, step = 23501 (0.276 sec)\n",
      "INFO:tensorflow:global_step/sec: 410.556\n",
      "INFO:tensorflow:loss = 3.56183e+10, step = 23601 (0.246 sec)\n",
      "INFO:tensorflow:global_step/sec: 396.082\n",
      "INFO:tensorflow:loss = 8.8055e+10, step = 23701 (0.248 sec)\n",
      "INFO:tensorflow:global_step/sec: 370.575\n",
      "INFO:tensorflow:loss = 1.4256e+11, step = 23801 (0.273 sec)\n",
      "INFO:tensorflow:global_step/sec: 471.518\n",
      "INFO:tensorflow:loss = 4.48385e+10, step = 23901 (0.212 sec)\n",
      "INFO:tensorflow:global_step/sec: 401.028\n",
      "INFO:tensorflow:loss = 5.25864e+10, step = 24001 (0.248 sec)\n",
      "INFO:tensorflow:global_step/sec: 384.429\n",
      "INFO:tensorflow:loss = 1.17972e+11, step = 24101 (0.261 sec)\n"
     ]
    },
    {
     "name": "stdout",
     "output_type": "stream",
     "text": [
      "INFO:tensorflow:global_step/sec: 446.108\n",
      "INFO:tensorflow:loss = 8.88964e+10, step = 24201 (0.226 sec)\n",
      "INFO:tensorflow:global_step/sec: 416.592\n",
      "INFO:tensorflow:loss = 6.32719e+10, step = 24301 (0.237 sec)\n",
      "INFO:tensorflow:global_step/sec: 368.168\n",
      "INFO:tensorflow:loss = 7.35571e+10, step = 24401 (0.273 sec)\n",
      "INFO:tensorflow:global_step/sec: 416.502\n",
      "INFO:tensorflow:loss = 1.41199e+11, step = 24501 (0.241 sec)\n",
      "INFO:tensorflow:global_step/sec: 416.086\n",
      "INFO:tensorflow:loss = 8.39407e+10, step = 24601 (0.241 sec)\n",
      "INFO:tensorflow:global_step/sec: 410.939\n",
      "INFO:tensorflow:loss = 5.63831e+10, step = 24701 (0.243 sec)\n",
      "INFO:tensorflow:global_step/sec: 378.51\n",
      "INFO:tensorflow:loss = 9.64357e+10, step = 24801 (0.261 sec)\n",
      "INFO:tensorflow:global_step/sec: 351.515\n",
      "INFO:tensorflow:loss = 6.64292e+10, step = 24901 (0.284 sec)\n",
      "INFO:tensorflow:Saving checkpoints for 25000 into /var/folders/jr/44cwffjj7nj68zjg2ngbdmjw0000gn/T/tmp85a_z68z/model.ckpt.\n",
      "INFO:tensorflow:Loss for final step: 4.98389e+10.\n"
     ]
    },
    {
     "data": {
      "text/plain": [
       "<tensorflow.python.estimator.canned.dnn.DNNRegressor at 0x110bdc978>"
      ]
     },
     "execution_count": 38,
     "metadata": {},
     "output_type": "execute_result"
    }
   ],
   "source": [
    "dnn_model.train(input_fn=input_func,steps=25000)"
   ]
  },
  {
   "cell_type": "markdown",
   "metadata": {},
   "source": [
    "** Create a prediction input function and then use the .predict method off your estimator model to create a list or predictions on your test data. **"
   ]
  },
  {
   "cell_type": "code",
   "execution_count": 39,
   "metadata": {
    "collapsed": true
   },
   "outputs": [],
   "source": [
    "predict_input_func = tf.estimator.inputs.pandas_input_fn(\n",
    "      x=X_test,\n",
    "      batch_size=10,\n",
    "      num_epochs=1,\n",
    "      shuffle=False)"
   ]
  },
  {
   "cell_type": "code",
   "execution_count": 41,
   "metadata": {},
   "outputs": [],
   "source": [
    "pred_gen=dnn_model.predict(predict_input_func)"
   ]
  },
  {
   "cell_type": "code",
   "execution_count": 42,
   "metadata": {},
   "outputs": [
    {
     "name": "stdout",
     "output_type": "stream",
     "text": [
      "INFO:tensorflow:Restoring parameters from /var/folders/jr/44cwffjj7nj68zjg2ngbdmjw0000gn/T/tmp85a_z68z/model.ckpt-25000\n"
     ]
    }
   ],
   "source": [
    "predictions= list(pred_gen)"
   ]
  },
  {
   "cell_type": "markdown",
   "metadata": {},
   "source": [
    "** Calculate the RMSE. You should be able to get around 100,000 RMSE (remember that this is in the same units as the label.) Do this manually or use [sklearn.metrics](http://scikit-learn.org/stable/modules/generated/sklearn.metrics.mean_squared_error.html) **"
   ]
  },
  {
   "cell_type": "code",
   "execution_count": 43,
   "metadata": {
    "collapsed": true
   },
   "outputs": [],
   "source": [
    "from sklearn.metrics import mean_squared_error"
   ]
  },
  {
   "cell_type": "code",
   "execution_count": 44,
   "metadata": {
    "collapsed": true
   },
   "outputs": [],
   "source": [
    "final_preds = []\n",
    "for pred in predictions:\n",
    "    final_preds.append(pred['predictions'])"
   ]
  },
  {
   "cell_type": "code",
   "execution_count": 45,
   "metadata": {},
   "outputs": [
    {
     "data": {
      "text/plain": [
       "90585.951765131089"
      ]
     },
     "execution_count": 45,
     "metadata": {},
     "output_type": "execute_result"
    }
   ],
   "source": [
    "mean_squared_error(y_test,final_preds)**0.5"
   ]
  },
  {
   "cell_type": "code",
   "execution_count": 158,
   "metadata": {},
   "outputs": [
    {
     "data": {
      "text/plain": [
       "97921.93181985477"
      ]
     },
     "execution_count": 158,
     "metadata": {},
     "output_type": "execute_result"
    }
   ],
   "source": []
  },
  {
   "cell_type": "markdown",
   "metadata": {},
   "source": [
    "# Great Job!"
   ]
  }
 ],
 "metadata": {
  "kernelspec": {
   "display_name": "Python 3",
   "language": "python",
   "name": "python3"
  },
  "language_info": {
   "codemirror_mode": {
    "name": "ipython",
    "version": 3
   },
   "file_extension": ".py",
   "mimetype": "text/x-python",
   "name": "python",
   "nbconvert_exporter": "python",
   "pygments_lexer": "ipython3",
   "version": "3.6.2"
  }
 },
 "nbformat": 4,
 "nbformat_minor": 2
}
